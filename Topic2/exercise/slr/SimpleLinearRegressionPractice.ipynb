{
 "cells": [
  {
   "cell_type": "markdown",
   "metadata": {},
   "source": [
    "# Hands On with Simple Linear Regression\n",
    "## Goal for practice\n",
    "### 1. Perform simple linear regression with SKlearn\n",
    "### 2. Use model performance metrics to evaluate model performance\n",
    "### 3. Perform residule diagnostic and decide proper preprocessing before fitting the model\n",
    "### 4. Implement SLR with gradient descent algorithm"
   ]
  },
  {
   "cell_type": "markdown",
   "metadata": {},
   "source": [
    "We have learnt Simple(SLR) Linear Regression, let's use some data to do some hands on work. The data provided is a synthesized data let's fit model with sklearn"
   ]
  },
  {
   "cell_type": "code",
   "execution_count": 6,
   "metadata": {},
   "outputs": [
    {
     "name": "stdout",
     "output_type": "stream",
     "text": [
      "Requirement already satisfied: scikit-learn in /opt/anaconda3/lib/python3.9/site-packages (1.0.2)\r\n",
      "Requirement already satisfied: threadpoolctl>=2.0.0 in /opt/anaconda3/lib/python3.9/site-packages (from scikit-learn) (2.2.0)\r\n",
      "Requirement already satisfied: numpy>=1.14.6 in /opt/anaconda3/lib/python3.9/site-packages (from scikit-learn) (1.21.5)\r\n",
      "Requirement already satisfied: scipy>=1.1.0 in /opt/anaconda3/lib/python3.9/site-packages (from scikit-learn) (1.7.3)\r\n",
      "Requirement already satisfied: joblib>=0.11 in /opt/anaconda3/lib/python3.9/site-packages (from scikit-learn) (1.1.1)\r\n"
     ]
    }
   ],
   "source": [
    "! pip install scikit-learn"
   ]
  },
  {
   "cell_type": "markdown",
   "metadata": {},
   "source": [
    "#### Load important library"
   ]
  },
  {
   "cell_type": "code",
   "execution_count": 7,
   "metadata": {},
   "outputs": [],
   "source": [
    "import pandas as pd  \n",
    "import numpy as np  \n",
    "import os\n",
    "import matplotlib.pyplot as plt  \n",
    "import seaborn as seabornInstance \n",
    "from sklearn.model_selection import train_test_split \n",
    "from sklearn.linear_model import LinearRegression\n",
    "from sklearn.metrics import r2_score, mean_squared_error\n",
    "%matplotlib inline"
   ]
  },
  {
   "cell_type": "code",
   "execution_count": 8,
   "metadata": {},
   "outputs": [],
   "source": [
    "# path=\"your/data/path\" # this path need to change to fit your file direcotry\n",
    "path = \"\"\n",
    "data1b = \"train.csv\"\n",
    "data1t = \"test.csv\"\n",
    "data2b = \"train2.csv\"\n",
    "data2t = \"test2.csv\"\n",
    "data3b = \"train3.csv\"\n",
    "data3t = \"test3.csv\"\n",
    "#print(os.path.join(path, data1b))"
   ]
  },
  {
   "cell_type": "markdown",
   "metadata": {},
   "source": [
    "# Read Data"
   ]
  },
  {
   "cell_type": "code",
   "execution_count": 9,
   "metadata": {},
   "outputs": [],
   "source": [
    "dt1b = pd.read_csv(os.path.join(path, data1b))\n",
    "dt1t = pd.read_csv(os.path.join(path, data1t))\n",
    "dt2b = pd.read_csv(os.path.join(path, data2b))\n",
    "dt2t = pd.read_csv(os.path.join(path, data2t))\n",
    "dt3b = pd.read_csv(os.path.join(path, data3b))\n",
    "dt3t = pd.read_csv(os.path.join(path, data3t))"
   ]
  },
  {
   "cell_type": "markdown",
   "metadata": {},
   "source": [
    "# Practice 1 - Use \"train.csv\" and \"test.csv\" build simple linear model "
   ]
  },
  {
   "cell_type": "markdown",
   "metadata": {},
   "source": [
    "### Check data quality and draw scatter plot\n",
    "#### 1 - head\n",
    "#### 2 - check null\n",
    "#### 3 - scatter plot\n",
    "#### 4 - Train model with model evaluation\n",
    "#### 5 - check residual plot and diagnostics"
   ]
  },
  {
   "cell_type": "code",
   "execution_count": 78,
   "metadata": {},
   "outputs": [
    {
     "name": "stdout",
     "output_type": "stream",
     "text": [
      "Train data size: (699, 2)\n",
      "Test data size: (300, 2)\n"
     ]
    }
   ],
   "source": [
    "print(\"Train data size: {}\".format(dt1b.shape))\n",
    "print(\"Test data size: {}\".format(dt1t.shape))"
   ]
  },
  {
   "cell_type": "code",
   "execution_count": 7,
   "metadata": {},
   "outputs": [
    {
     "data": {
      "text/html": [
       "<div>\n",
       "<style scoped>\n",
       "    .dataframe tbody tr th:only-of-type {\n",
       "        vertical-align: middle;\n",
       "    }\n",
       "\n",
       "    .dataframe tbody tr th {\n",
       "        vertical-align: top;\n",
       "    }\n",
       "\n",
       "    .dataframe thead th {\n",
       "        text-align: right;\n",
       "    }\n",
       "</style>\n",
       "<table border=\"1\" class=\"dataframe\">\n",
       "  <thead>\n",
       "    <tr style=\"text-align: right;\">\n",
       "      <th></th>\n",
       "      <th>x</th>\n",
       "      <th>y</th>\n",
       "    </tr>\n",
       "  </thead>\n",
       "  <tbody>\n",
       "    <tr>\n",
       "      <th>0</th>\n",
       "      <td>24.0</td>\n",
       "      <td>21.549452</td>\n",
       "    </tr>\n",
       "    <tr>\n",
       "      <th>1</th>\n",
       "      <td>50.0</td>\n",
       "      <td>47.464463</td>\n",
       "    </tr>\n",
       "    <tr>\n",
       "      <th>2</th>\n",
       "      <td>15.0</td>\n",
       "      <td>17.218656</td>\n",
       "    </tr>\n",
       "    <tr>\n",
       "      <th>3</th>\n",
       "      <td>38.0</td>\n",
       "      <td>36.586398</td>\n",
       "    </tr>\n",
       "    <tr>\n",
       "      <th>4</th>\n",
       "      <td>87.0</td>\n",
       "      <td>87.288984</td>\n",
       "    </tr>\n",
       "  </tbody>\n",
       "</table>\n",
       "</div>"
      ],
      "text/plain": [
       "      x          y\n",
       "0  24.0  21.549452\n",
       "1  50.0  47.464463\n",
       "2  15.0  17.218656\n",
       "3  38.0  36.586398\n",
       "4  87.0  87.288984"
      ]
     },
     "execution_count": 7,
     "metadata": {},
     "output_type": "execute_result"
    }
   ],
   "source": [
    "dt1b.head()"
   ]
  },
  {
   "cell_type": "code",
   "execution_count": 8,
   "metadata": {},
   "outputs": [
    {
     "data": {
      "text/html": [
       "<div>\n",
       "<style scoped>\n",
       "    .dataframe tbody tr th:only-of-type {\n",
       "        vertical-align: middle;\n",
       "    }\n",
       "\n",
       "    .dataframe tbody tr th {\n",
       "        vertical-align: top;\n",
       "    }\n",
       "\n",
       "    .dataframe thead th {\n",
       "        text-align: right;\n",
       "    }\n",
       "</style>\n",
       "<table border=\"1\" class=\"dataframe\">\n",
       "  <thead>\n",
       "    <tr style=\"text-align: right;\">\n",
       "      <th></th>\n",
       "      <th>x</th>\n",
       "      <th>y</th>\n",
       "    </tr>\n",
       "  </thead>\n",
       "  <tbody>\n",
       "    <tr>\n",
       "      <th>0</th>\n",
       "      <td>77</td>\n",
       "      <td>79.775152</td>\n",
       "    </tr>\n",
       "    <tr>\n",
       "      <th>1</th>\n",
       "      <td>21</td>\n",
       "      <td>23.177279</td>\n",
       "    </tr>\n",
       "    <tr>\n",
       "      <th>2</th>\n",
       "      <td>22</td>\n",
       "      <td>25.609262</td>\n",
       "    </tr>\n",
       "    <tr>\n",
       "      <th>3</th>\n",
       "      <td>20</td>\n",
       "      <td>17.857388</td>\n",
       "    </tr>\n",
       "    <tr>\n",
       "      <th>4</th>\n",
       "      <td>36</td>\n",
       "      <td>41.849864</td>\n",
       "    </tr>\n",
       "  </tbody>\n",
       "</table>\n",
       "</div>"
      ],
      "text/plain": [
       "    x          y\n",
       "0  77  79.775152\n",
       "1  21  23.177279\n",
       "2  22  25.609262\n",
       "3  20  17.857388\n",
       "4  36  41.849864"
      ]
     },
     "execution_count": 8,
     "metadata": {},
     "output_type": "execute_result"
    }
   ],
   "source": [
    "dt1t.head()"
   ]
  },
  {
   "cell_type": "code",
   "execution_count": 9,
   "metadata": {},
   "outputs": [
    {
     "data": {
      "text/html": [
       "<div>\n",
       "<style scoped>\n",
       "    .dataframe tbody tr th:only-of-type {\n",
       "        vertical-align: middle;\n",
       "    }\n",
       "\n",
       "    .dataframe tbody tr th {\n",
       "        vertical-align: top;\n",
       "    }\n",
       "\n",
       "    .dataframe thead th {\n",
       "        text-align: right;\n",
       "    }\n",
       "</style>\n",
       "<table border=\"1\" class=\"dataframe\">\n",
       "  <thead>\n",
       "    <tr style=\"text-align: right;\">\n",
       "      <th></th>\n",
       "      <th>x</th>\n",
       "      <th>y</th>\n",
       "    </tr>\n",
       "  </thead>\n",
       "  <tbody>\n",
       "    <tr>\n",
       "      <th>count</th>\n",
       "      <td>700.000000</td>\n",
       "      <td>699.000000</td>\n",
       "    </tr>\n",
       "    <tr>\n",
       "      <th>mean</th>\n",
       "      <td>54.985939</td>\n",
       "      <td>49.939869</td>\n",
       "    </tr>\n",
       "    <tr>\n",
       "      <th>std</th>\n",
       "      <td>134.681703</td>\n",
       "      <td>29.109217</td>\n",
       "    </tr>\n",
       "    <tr>\n",
       "      <th>min</th>\n",
       "      <td>0.000000</td>\n",
       "      <td>-3.839981</td>\n",
       "    </tr>\n",
       "    <tr>\n",
       "      <th>25%</th>\n",
       "      <td>25.000000</td>\n",
       "      <td>24.929968</td>\n",
       "    </tr>\n",
       "    <tr>\n",
       "      <th>50%</th>\n",
       "      <td>49.000000</td>\n",
       "      <td>48.973020</td>\n",
       "    </tr>\n",
       "    <tr>\n",
       "      <th>75%</th>\n",
       "      <td>75.000000</td>\n",
       "      <td>74.929911</td>\n",
       "    </tr>\n",
       "    <tr>\n",
       "      <th>max</th>\n",
       "      <td>3530.157369</td>\n",
       "      <td>108.871618</td>\n",
       "    </tr>\n",
       "  </tbody>\n",
       "</table>\n",
       "</div>"
      ],
      "text/plain": [
       "                 x           y\n",
       "count   700.000000  699.000000\n",
       "mean     54.985939   49.939869\n",
       "std     134.681703   29.109217\n",
       "min       0.000000   -3.839981\n",
       "25%      25.000000   24.929968\n",
       "50%      49.000000   48.973020\n",
       "75%      75.000000   74.929911\n",
       "max    3530.157369  108.871618"
      ]
     },
     "execution_count": 9,
     "metadata": {},
     "output_type": "execute_result"
    }
   ],
   "source": [
    "dt1b.describe()"
   ]
  },
  {
   "cell_type": "code",
   "execution_count": 10,
   "metadata": {},
   "outputs": [
    {
     "data": {
      "text/html": [
       "<div>\n",
       "<style scoped>\n",
       "    .dataframe tbody tr th:only-of-type {\n",
       "        vertical-align: middle;\n",
       "    }\n",
       "\n",
       "    .dataframe tbody tr th {\n",
       "        vertical-align: top;\n",
       "    }\n",
       "\n",
       "    .dataframe thead th {\n",
       "        text-align: right;\n",
       "    }\n",
       "</style>\n",
       "<table border=\"1\" class=\"dataframe\">\n",
       "  <thead>\n",
       "    <tr style=\"text-align: right;\">\n",
       "      <th></th>\n",
       "      <th>x</th>\n",
       "      <th>y</th>\n",
       "    </tr>\n",
       "  </thead>\n",
       "  <tbody>\n",
       "    <tr>\n",
       "      <th>count</th>\n",
       "      <td>300.000000</td>\n",
       "      <td>300.000000</td>\n",
       "    </tr>\n",
       "    <tr>\n",
       "      <th>mean</th>\n",
       "      <td>50.936667</td>\n",
       "      <td>51.205051</td>\n",
       "    </tr>\n",
       "    <tr>\n",
       "      <th>std</th>\n",
       "      <td>28.504286</td>\n",
       "      <td>29.071481</td>\n",
       "    </tr>\n",
       "    <tr>\n",
       "      <th>min</th>\n",
       "      <td>0.000000</td>\n",
       "      <td>-3.467884</td>\n",
       "    </tr>\n",
       "    <tr>\n",
       "      <th>25%</th>\n",
       "      <td>27.000000</td>\n",
       "      <td>25.676502</td>\n",
       "    </tr>\n",
       "    <tr>\n",
       "      <th>50%</th>\n",
       "      <td>53.000000</td>\n",
       "      <td>52.170557</td>\n",
       "    </tr>\n",
       "    <tr>\n",
       "      <th>75%</th>\n",
       "      <td>73.000000</td>\n",
       "      <td>74.303007</td>\n",
       "    </tr>\n",
       "    <tr>\n",
       "      <th>max</th>\n",
       "      <td>100.000000</td>\n",
       "      <td>105.591837</td>\n",
       "    </tr>\n",
       "  </tbody>\n",
       "</table>\n",
       "</div>"
      ],
      "text/plain": [
       "                x           y\n",
       "count  300.000000  300.000000\n",
       "mean    50.936667   51.205051\n",
       "std     28.504286   29.071481\n",
       "min      0.000000   -3.467884\n",
       "25%     27.000000   25.676502\n",
       "50%     53.000000   52.170557\n",
       "75%     73.000000   74.303007\n",
       "max    100.000000  105.591837"
      ]
     },
     "execution_count": 10,
     "metadata": {},
     "output_type": "execute_result"
    }
   ],
   "source": [
    "dt1t.describe()"
   ]
  },
  {
   "cell_type": "code",
   "execution_count": 201,
   "metadata": {},
   "outputs": [
    {
     "name": "stdout",
     "output_type": "stream",
     "text": [
      "Train data misscnt: x    0\n",
      "y    0\n",
      "dtype: int64\n",
      "Test data misscnt: x    0\n",
      "y    0\n",
      "dtype: int64\n"
     ]
    }
   ],
   "source": [
    "print(\"Train data misscnt: {}\".format(dt1b.isnull().sum()))\n",
    "print(\"Test data misscnt: {}\".format(dt1t.isnull().sum()))"
   ]
  },
  {
   "cell_type": "markdown",
   "metadata": {},
   "source": [
    "Noticed train data has a missing value in target , we have to remove the missing value before fit model, \n",
    "otherwise you will get error message. Dropna and double check the missing row was removed"
   ]
  },
  {
   "cell_type": "code",
   "execution_count": 202,
   "metadata": {},
   "outputs": [
    {
     "name": "stdout",
     "output_type": "stream",
     "text": [
      "Train data size: (699, 2)\n",
      "Test data size: (300, 2)\n"
     ]
    }
   ],
   "source": [
    "dt1b = dt1b.dropna().copy()\n",
    "print(\"Train data size: {}\".format(dt1b.shape))\n",
    "print(\"Test data size: {}\".format(dt1t.shape))"
   ]
  },
  {
   "cell_type": "code",
   "execution_count": 203,
   "metadata": {},
   "outputs": [
    {
     "data": {
      "text/plain": [
       "<matplotlib.legend.Legend at 0x7fdf80b5b400>"
      ]
     },
     "execution_count": 203,
     "metadata": {},
     "output_type": "execute_result"
    },
    {
     "data": {
      "image/png": "[encoded data removed]",
      "text/plain": [
       "<Figure size 640x480 with 1 Axes>"
      ]
     },
     "metadata": {},
     "output_type": "display_data"
    }
   ],
   "source": [
    "plt.scatter((dt1b['x']),dt1b['y'], label=\"Train\")\n",
    "plt.title(\"Scatter Plot for Train and Test datasets\")\n",
    "plt.xlabel(\"x\", fontsize=15)\n",
    "plt.ylabel(\"y\", fontsize=15)\n",
    "\n",
    "plt.scatter((dt1t['x']),dt1t['y'], label=\"Test\")\n",
    "\n",
    "plt.legend(framealpha=1, frameon=True)"
   ]
  },
  {
   "cell_type": "markdown",
   "metadata": {},
   "source": [
    "We retrieve the independent(x) and dependent(y) variables and since we have only one feature(x) \n",
    "we reshape them so that we could feed them into our linear regression model."
   ]
  },
  {
   "cell_type": "code",
   "execution_count": 204,
   "metadata": {},
   "outputs": [],
   "source": [
    "x_train = dt1b['x']\n",
    "y_train = dt1b['y']\n",
    "x_test = dt1t['x']\n",
    "y_test = dt1t['y']\n",
    "\n",
    "x_train = np.array(x_train)\n",
    "y_train = np.array(y_train)\n",
    "x_test = np.array(x_test)\n",
    "y_test = np.array(y_test)\n",
    "\n",
    "x_train = x_train.reshape(-1,1)\n",
    "x_test = x_test.reshape(-1,1)"
   ]
  },
  {
   "cell_type": "markdown",
   "metadata": {},
   "source": [
    "Fit model and get the intercept and coefficent"
   ]
  },
  {
   "cell_type": "code",
   "execution_count": 158,
   "metadata": {},
   "outputs": [
    {
     "name": "stdout",
     "output_type": "stream",
     "text": [
      "predicted R^2 : 0.9888014444327563\n",
      "predicted MSE : 9.43292219203931\n"
     ]
    },
    {
     "name": "stderr",
     "output_type": "stream",
     "text": [
      "/opt/anaconda3/lib/python3.9/site-packages/sklearn/linear_model/_base.py:141: FutureWarning: 'normalize' was deprecated in version 1.0 and will be removed in 1.2.\n",
      "If you wish to scale the data, use Pipeline with a StandardScaler in a preprocessing stage. To reproduce the previous behavior:\n",
      "\n",
      "from sklearn.pipeline import make_pipeline\n",
      "\n",
      "model = make_pipeline(StandardScaler(with_mean=False), LinearRegression())\n",
      "\n",
      "If you wish to pass a sample_weight parameter, you need to pass it as a fit parameter to each step of the pipeline as follows:\n",
      "\n",
      "kwargs = {s[0] + '__sample_weight': sample_weight for s in model.steps}\n",
      "model.fit(X, y, **kwargs)\n",
      "\n",
      "\n",
      "  warnings.warn(\n"
     ]
    },
    {
     "data": {
      "text/plain": [
       "(300,)"
      ]
     },
     "execution_count": 158,
     "metadata": {},
     "output_type": "execute_result"
    }
   ],
   "source": [
    "# fit model\n",
    "reg = LinearRegression(normalize=True)\n",
    "reg.fit(x_train, y_train)\n",
    "\n",
    "# predict\n",
    "y_pred = reg.predict(x_test)\n",
    "print('predicted R^2 :', r2_score(y_test, y_pred))\n",
    "print('predicted MSE :', mean_squared_error(y_test,y_pred))\n",
    "y_test.shape"
   ]
  },
  {
   "cell_type": "code",
   "execution_count": 81,
   "metadata": {},
   "outputs": [
    {
     "name": "stdout",
     "output_type": "stream",
     "text": [
      "intercept: -1743.2412867403095\n",
      "coeffcient: [101.63824122]\n"
     ]
    }
   ],
   "source": [
    "print(\"intercept: {}\".format(reg.intercept_))\n",
    "print(\"coeffcient: {}\".format(reg.coef_))"
   ]
  },
  {
   "cell_type": "markdown",
   "metadata": {},
   "source": [
    "Hence the fitted line : `y = -0.10726546430095851 + 1.00065638*x`"
   ]
  },
  {
   "cell_type": "code",
   "execution_count": 19,
   "metadata": {},
   "outputs": [
    {
     "data": {
      "text/plain": [
       "[<matplotlib.lines.Line2D at 0x7fa60e703b80>]"
      ]
     },
     "execution_count": 19,
     "metadata": {},
     "output_type": "execute_result"
    },
    {
     "data": {
      "image/png": "[encoded data removed]",
      "text/plain": [
       "<Figure size 640x480 with 1 Axes>"
      ]
     },
     "metadata": {},
     "output_type": "display_data"
    }
   ],
   "source": [
    "plt.scatter(dt1b['x'],dt1b['y'], label=\"Train\")\n",
    "plt.title(\"Scatter Plot for Train and Test datasets\")\n",
    "plt.xlabel(\"x\", fontsize=15)\n",
    "plt.ylabel(\"y\", fontsize=15)\n",
    "\n",
    "plt.scatter((dt1t['x']),dt1t['y'], label=\"Test\")\n",
    "\n",
    "plt.legend(framealpha=1, frameon=True)\n",
    "\n",
    "plt.plot(dt1b['x'], (reg.intercept_ + reg.coef_[0] * dt1b['x']))"
   ]
  },
  {
   "cell_type": "markdown",
   "metadata": {},
   "source": [
    "How about build sample residual?"
   ]
  },
  {
   "cell_type": "code",
   "execution_count": 20,
   "metadata": {},
   "outputs": [],
   "source": [
    "y_pred_b = reg.predict(x_train)\n",
    "residuals = y_train - y_pred_b"
   ]
  },
  {
   "cell_type": "code",
   "execution_count": 21,
   "metadata": {},
   "outputs": [
    {
     "data": {
      "text/plain": [
       "[<matplotlib.lines.Line2D at 0x7fa60dfc06d0>]"
      ]
     },
     "execution_count": 21,
     "metadata": {},
     "output_type": "execute_result"
    },
    {
     "data": {
      "image/png": "[encoded data removed]",
      "text/plain": [
       "<Figure size 640x480 with 1 Axes>"
      ]
     },
     "metadata": {},
     "output_type": "display_data"
    }
   ],
   "source": [
    "plt.scatter((dt1b['x']),residuals)\n",
    "plt.title(\"Residuale plot for Train datasets fitted model\")\n",
    "plt.xlabel(\"X\", fontsize=15)\n",
    "plt.ylabel(\"Residuale\", fontsize=15)\n",
    "plt.plot(dt1b['x'], 0 * dt1b['x'], color=\"r\") # why this line?"
   ]
  },
  {
   "cell_type": "markdown",
   "metadata": {},
   "source": [
    "Residule distributed around zero randomly, the model fit is adequate "
   ]
  },
  {
   "cell_type": "markdown",
   "metadata": {},
   "source": [
    "# Practice 2 - Use \"train2.csv\" and \"test2.csv\" build simple linear model, did you observe any special trends? How to improve the model fit"
   ]
  },
  {
   "cell_type": "markdown",
   "metadata": {},
   "source": [
    "Below code give a initial scripts to look into data, \n",
    "please take sometime following majority steps of practice 1 to tackle this problem "
   ]
  },
  {
   "cell_type": "code",
   "execution_count": 22,
   "metadata": {},
   "outputs": [
    {
     "name": "stdout",
     "output_type": "stream",
     "text": [
      "Train data size: (700, 2)\n",
      "Test data size: (300, 2)\n"
     ]
    }
   ],
   "source": [
    "print(\"Train data size: {}\".format(dt2b.shape))\n",
    "print(\"Test data size: {}\".format(dt2t.shape))"
   ]
  },
  {
   "cell_type": "code",
   "execution_count": 23,
   "metadata": {},
   "outputs": [
    {
     "data": {
      "text/html": [
       "<div>\n",
       "<style scoped>\n",
       "    .dataframe tbody tr th:only-of-type {\n",
       "        vertical-align: middle;\n",
       "    }\n",
       "\n",
       "    .dataframe tbody tr th {\n",
       "        vertical-align: top;\n",
       "    }\n",
       "\n",
       "    .dataframe thead th {\n",
       "        text-align: right;\n",
       "    }\n",
       "</style>\n",
       "<table border=\"1\" class=\"dataframe\">\n",
       "  <thead>\n",
       "    <tr style=\"text-align: right;\">\n",
       "      <th></th>\n",
       "      <th>x</th>\n",
       "      <th>y</th>\n",
       "    </tr>\n",
       "  </thead>\n",
       "  <tbody>\n",
       "    <tr>\n",
       "      <th>0</th>\n",
       "      <td>576.0</td>\n",
       "      <td>21.549452</td>\n",
       "    </tr>\n",
       "    <tr>\n",
       "      <th>1</th>\n",
       "      <td>2500.0</td>\n",
       "      <td>47.464463</td>\n",
       "    </tr>\n",
       "    <tr>\n",
       "      <th>2</th>\n",
       "      <td>225.0</td>\n",
       "      <td>17.218656</td>\n",
       "    </tr>\n",
       "    <tr>\n",
       "      <th>3</th>\n",
       "      <td>1444.0</td>\n",
       "      <td>36.586398</td>\n",
       "    </tr>\n",
       "    <tr>\n",
       "      <th>4</th>\n",
       "      <td>7569.0</td>\n",
       "      <td>87.288984</td>\n",
       "    </tr>\n",
       "  </tbody>\n",
       "</table>\n",
       "</div>"
      ],
      "text/plain": [
       "        x          y\n",
       "0   576.0  21.549452\n",
       "1  2500.0  47.464463\n",
       "2   225.0  17.218656\n",
       "3  1444.0  36.586398\n",
       "4  7569.0  87.288984"
      ]
     },
     "execution_count": 23,
     "metadata": {},
     "output_type": "execute_result"
    }
   ],
   "source": [
    "dt2b.head()"
   ]
  },
  {
   "cell_type": "code",
   "execution_count": 24,
   "metadata": {},
   "outputs": [
    {
     "data": {
      "text/html": [
       "<div>\n",
       "<style scoped>\n",
       "    .dataframe tbody tr th:only-of-type {\n",
       "        vertical-align: middle;\n",
       "    }\n",
       "\n",
       "    .dataframe tbody tr th {\n",
       "        vertical-align: top;\n",
       "    }\n",
       "\n",
       "    .dataframe thead th {\n",
       "        text-align: right;\n",
       "    }\n",
       "</style>\n",
       "<table border=\"1\" class=\"dataframe\">\n",
       "  <thead>\n",
       "    <tr style=\"text-align: right;\">\n",
       "      <th></th>\n",
       "      <th>x</th>\n",
       "      <th>y</th>\n",
       "    </tr>\n",
       "  </thead>\n",
       "  <tbody>\n",
       "    <tr>\n",
       "      <th>0</th>\n",
       "      <td>5929</td>\n",
       "      <td>79.775152</td>\n",
       "    </tr>\n",
       "    <tr>\n",
       "      <th>1</th>\n",
       "      <td>441</td>\n",
       "      <td>23.177279</td>\n",
       "    </tr>\n",
       "    <tr>\n",
       "      <th>2</th>\n",
       "      <td>484</td>\n",
       "      <td>25.609262</td>\n",
       "    </tr>\n",
       "    <tr>\n",
       "      <th>3</th>\n",
       "      <td>400</td>\n",
       "      <td>17.857388</td>\n",
       "    </tr>\n",
       "    <tr>\n",
       "      <th>4</th>\n",
       "      <td>1296</td>\n",
       "      <td>41.849864</td>\n",
       "    </tr>\n",
       "  </tbody>\n",
       "</table>\n",
       "</div>"
      ],
      "text/plain": [
       "      x          y\n",
       "0  5929  79.775152\n",
       "1   441  23.177279\n",
       "2   484  25.609262\n",
       "3   400  17.857388\n",
       "4  1296  41.849864"
      ]
     },
     "execution_count": 24,
     "metadata": {},
     "output_type": "execute_result"
    }
   ],
   "source": [
    "dt2t.head()"
   ]
  },
  {
   "cell_type": "code",
   "execution_count": 25,
   "metadata": {},
   "outputs": [
    {
     "data": {
      "text/html": [
       "<div>\n",
       "<style scoped>\n",
       "    .dataframe tbody tr th:only-of-type {\n",
       "        vertical-align: middle;\n",
       "    }\n",
       "\n",
       "    .dataframe tbody tr th {\n",
       "        vertical-align: top;\n",
       "    }\n",
       "\n",
       "    .dataframe thead th {\n",
       "        text-align: right;\n",
       "    }\n",
       "</style>\n",
       "<table border=\"1\" class=\"dataframe\">\n",
       "  <thead>\n",
       "    <tr style=\"text-align: right;\">\n",
       "      <th></th>\n",
       "      <th>x</th>\n",
       "      <th>y</th>\n",
       "    </tr>\n",
       "  </thead>\n",
       "  <tbody>\n",
       "    <tr>\n",
       "      <th>count</th>\n",
       "      <td>7.000000e+02</td>\n",
       "      <td>699.000000</td>\n",
       "    </tr>\n",
       "    <tr>\n",
       "      <th>mean</th>\n",
       "      <td>2.113670e+04</td>\n",
       "      <td>49.939869</td>\n",
       "    </tr>\n",
       "    <tr>\n",
       "      <th>std</th>\n",
       "      <td>4.709034e+05</td>\n",
       "      <td>29.109217</td>\n",
       "    </tr>\n",
       "    <tr>\n",
       "      <th>min</th>\n",
       "      <td>0.000000e+00</td>\n",
       "      <td>-3.839981</td>\n",
       "    </tr>\n",
       "    <tr>\n",
       "      <th>25%</th>\n",
       "      <td>6.250000e+02</td>\n",
       "      <td>24.929968</td>\n",
       "    </tr>\n",
       "    <tr>\n",
       "      <th>50%</th>\n",
       "      <td>2.401000e+03</td>\n",
       "      <td>48.973020</td>\n",
       "    </tr>\n",
       "    <tr>\n",
       "      <th>75%</th>\n",
       "      <td>5.625000e+03</td>\n",
       "      <td>74.929911</td>\n",
       "    </tr>\n",
       "    <tr>\n",
       "      <th>max</th>\n",
       "      <td>1.246201e+07</td>\n",
       "      <td>108.871618</td>\n",
       "    </tr>\n",
       "  </tbody>\n",
       "</table>\n",
       "</div>"
      ],
      "text/plain": [
       "                  x           y\n",
       "count  7.000000e+02  699.000000\n",
       "mean   2.113670e+04   49.939869\n",
       "std    4.709034e+05   29.109217\n",
       "min    0.000000e+00   -3.839981\n",
       "25%    6.250000e+02   24.929968\n",
       "50%    2.401000e+03   48.973020\n",
       "75%    5.625000e+03   74.929911\n",
       "max    1.246201e+07  108.871618"
      ]
     },
     "execution_count": 25,
     "metadata": {},
     "output_type": "execute_result"
    }
   ],
   "source": [
    "dt2b.describe()"
   ]
  },
  {
   "cell_type": "code",
   "execution_count": 26,
   "metadata": {},
   "outputs": [
    {
     "data": {
      "text/html": [
       "<div>\n",
       "<style scoped>\n",
       "    .dataframe tbody tr th:only-of-type {\n",
       "        vertical-align: middle;\n",
       "    }\n",
       "\n",
       "    .dataframe tbody tr th {\n",
       "        vertical-align: top;\n",
       "    }\n",
       "\n",
       "    .dataframe thead th {\n",
       "        text-align: right;\n",
       "    }\n",
       "</style>\n",
       "<table border=\"1\" class=\"dataframe\">\n",
       "  <thead>\n",
       "    <tr style=\"text-align: right;\">\n",
       "      <th></th>\n",
       "      <th>x</th>\n",
       "      <th>y</th>\n",
       "    </tr>\n",
       "  </thead>\n",
       "  <tbody>\n",
       "    <tr>\n",
       "      <th>count</th>\n",
       "      <td>300.000000</td>\n",
       "      <td>300.000000</td>\n",
       "    </tr>\n",
       "    <tr>\n",
       "      <th>mean</th>\n",
       "      <td>3404.330000</td>\n",
       "      <td>51.205051</td>\n",
       "    </tr>\n",
       "    <tr>\n",
       "      <th>std</th>\n",
       "      <td>2996.644856</td>\n",
       "      <td>29.071481</td>\n",
       "    </tr>\n",
       "    <tr>\n",
       "      <th>min</th>\n",
       "      <td>0.000000</td>\n",
       "      <td>-3.467884</td>\n",
       "    </tr>\n",
       "    <tr>\n",
       "      <th>25%</th>\n",
       "      <td>729.000000</td>\n",
       "      <td>25.676502</td>\n",
       "    </tr>\n",
       "    <tr>\n",
       "      <th>50%</th>\n",
       "      <td>2809.000000</td>\n",
       "      <td>52.170557</td>\n",
       "    </tr>\n",
       "    <tr>\n",
       "      <th>75%</th>\n",
       "      <td>5329.000000</td>\n",
       "      <td>74.303007</td>\n",
       "    </tr>\n",
       "    <tr>\n",
       "      <th>max</th>\n",
       "      <td>10000.000000</td>\n",
       "      <td>105.591837</td>\n",
       "    </tr>\n",
       "  </tbody>\n",
       "</table>\n",
       "</div>"
      ],
      "text/plain": [
       "                  x           y\n",
       "count    300.000000  300.000000\n",
       "mean    3404.330000   51.205051\n",
       "std     2996.644856   29.071481\n",
       "min        0.000000   -3.467884\n",
       "25%      729.000000   25.676502\n",
       "50%     2809.000000   52.170557\n",
       "75%     5329.000000   74.303007\n",
       "max    10000.000000  105.591837"
      ]
     },
     "execution_count": 26,
     "metadata": {},
     "output_type": "execute_result"
    }
   ],
   "source": [
    "dt2t.describe()"
   ]
  },
  {
   "cell_type": "code",
   "execution_count": 27,
   "metadata": {
    "scrolled": true
   },
   "outputs": [
    {
     "name": "stdout",
     "output_type": "stream",
     "text": [
      "Train data misscnt: x    0\n",
      "y    1\n",
      "dtype: int64\n",
      "Test data misscnt: x    0\n",
      "y    0\n",
      "dtype: int64\n"
     ]
    }
   ],
   "source": [
    "print(\"Train data misscnt: {}\".format(dt2b.isnull().sum()))\n",
    "print(\"Test data misscnt: {}\".format(dt2t.isnull().sum()))"
   ]
  },
  {
   "cell_type": "code",
   "execution_count": 10,
   "metadata": {},
   "outputs": [
    {
     "name": "stdout",
     "output_type": "stream",
     "text": [
      "Train data size: (699, 2)\n",
      "Test data size: (300, 2)\n"
     ]
    }
   ],
   "source": [
    "dt2b = dt2b.dropna().copy()\n",
    "print(\"Train data size: {}\".format(dt2b.shape))\n",
    "print(\"Test data size: {}\".format(dt2t.shape))"
   ]
  },
  {
   "cell_type": "code",
   "execution_count": 11,
   "metadata": {},
   "outputs": [],
   "source": [
    "x_train = dt2b['x']\n",
    "y_train = dt2b['y']\n",
    "x_test = dt2t['x']\n",
    "y_test = dt2t['y']\n",
    "\n",
    "x_train = np.array(x_train)\n",
    "y_train = np.array(y_train)\n",
    "x_test = np.array(x_test)\n",
    "y_test = np.array(y_test)\n",
    "\n",
    "x_train = x_train.reshape(-1,1)\n",
    "x_test = x_test.reshape(-1,1)"
   ]
  },
  {
   "cell_type": "code",
   "execution_count": 13,
   "metadata": {},
   "outputs": [
    {
     "name": "stdout",
     "output_type": "stream",
     "text": [
      "predicted R^2 : 0.925513710705817\n",
      "predicted MSE : 62.742321281234254\n",
      "intercept: 19.2939356416098\n",
      "coeffcient: [0.00917928]\n"
     ]
    },
    {
     "name": "stderr",
     "output_type": "stream",
     "text": [
      "/opt/anaconda3/lib/python3.9/site-packages/sklearn/linear_model/_base.py:141: FutureWarning: 'normalize' was deprecated in version 1.0 and will be removed in 1.2.\n",
      "If you wish to scale the data, use Pipeline with a StandardScaler in a preprocessing stage. To reproduce the previous behavior:\n",
      "\n",
      "from sklearn.pipeline import make_pipeline\n",
      "\n",
      "model = make_pipeline(StandardScaler(with_mean=False), LinearRegression())\n",
      "\n",
      "If you wish to pass a sample_weight parameter, you need to pass it as a fit parameter to each step of the pipeline as follows:\n",
      "\n",
      "kwargs = {s[0] + '__sample_weight': sample_weight for s in model.steps}\n",
      "model.fit(X, y, **kwargs)\n",
      "\n",
      "\n",
      "  warnings.warn(\n"
     ]
    }
   ],
   "source": [
    "# fit model\n",
    "reg = LinearRegression(normalize=True)\n",
    "reg.fit(x_train, y_train)\n",
    "\n",
    "# predict\n",
    "y_pred = reg.predict(x_test)\n",
    "print('predicted R^2 :', r2_score(y_test, y_pred))\n",
    "print('predicted MSE :', mean_squared_error(y_test,y_pred))\n",
    "print(\"intercept: {}\".format(reg.intercept_))\n",
    "print(\"coeffcient: {}\".format(reg.coef_))"
   ]
  },
  {
   "cell_type": "code",
   "execution_count": 15,
   "metadata": {},
   "outputs": [
    {
     "data": {
      "text/plain": [
       "[<matplotlib.lines.Line2D at 0x7fdf738d5220>]"
      ]
     },
     "execution_count": 15,
     "metadata": {},
     "output_type": "execute_result"
    },
    {
     "data": {
      "image/png": "[encoded data removed]",
      "text/plain": [
       "<Figure size 640x480 with 1 Axes>"
      ]
     },
     "metadata": {},
     "output_type": "display_data"
    }
   ],
   "source": [
    "plt.scatter(dt2b['x'],dt2b['y'], label=\"Train\")\n",
    "plt.title(\"Scatter Plot for Train and Test datasets\")\n",
    "plt.xlabel(\"x\", fontsize=15)\n",
    "plt.ylabel(\"y\", fontsize=15)\n",
    "\n",
    "plt.scatter((dt2t['x']),dt2t['y'], label=\"Test\")\n",
    "\n",
    "plt.legend(framealpha=1, frameon=True)\n",
    "\n",
    "plt.plot(dt2b['x'], (reg.intercept_ + reg.coef_[0] * dt2b['x']))"
   ]
  },
  {
   "cell_type": "markdown",
   "metadata": {},
   "source": [
    "The trend I observed is that，the scatter plot shows x and y follows a non-linear relationship. Thus, I think do a log transformation improve the model fit. "
   ]
  },
  {
   "cell_type": "markdown",
   "metadata": {},
   "source": [
    "# Practice 3 - Use \"train3.csv\" and \"test3.csv\" build simple linear model, did you observe any special trends? How to improve the model fit"
   ]
  },
  {
   "cell_type": "code",
   "execution_count": 82,
   "metadata": {},
   "outputs": [
    {
     "name": "stdout",
     "output_type": "stream",
     "text": [
      "Train data size: (700, 2)\n",
      "Test data size: (300, 2)\n"
     ]
    }
   ],
   "source": [
    "print(\"Train data size: {}\".format(dt3b.shape))\n",
    "print(\"Test data size: {}\".format(dt3t.shape))"
   ]
  },
  {
   "cell_type": "code",
   "execution_count": 83,
   "metadata": {},
   "outputs": [
    {
     "data": {
      "text/html": [
       "<div>\n",
       "<style scoped>\n",
       "    .dataframe tbody tr th:only-of-type {\n",
       "        vertical-align: middle;\n",
       "    }\n",
       "\n",
       "    .dataframe tbody tr th {\n",
       "        vertical-align: top;\n",
       "    }\n",
       "\n",
       "    .dataframe thead th {\n",
       "        text-align: right;\n",
       "    }\n",
       "</style>\n",
       "<table border=\"1\" class=\"dataframe\">\n",
       "  <thead>\n",
       "    <tr style=\"text-align: right;\">\n",
       "      <th></th>\n",
       "      <th>x</th>\n",
       "      <th>y</th>\n",
       "    </tr>\n",
       "  </thead>\n",
       "  <tbody>\n",
       "    <tr>\n",
       "      <th>0</th>\n",
       "      <td>24.0</td>\n",
       "      <td>464.378880</td>\n",
       "    </tr>\n",
       "    <tr>\n",
       "      <th>1</th>\n",
       "      <td>50.0</td>\n",
       "      <td>2252.875253</td>\n",
       "    </tr>\n",
       "    <tr>\n",
       "      <th>2</th>\n",
       "      <td>15.0</td>\n",
       "      <td>296.482126</td>\n",
       "    </tr>\n",
       "    <tr>\n",
       "      <th>3</th>\n",
       "      <td>38.0</td>\n",
       "      <td>1338.564521</td>\n",
       "    </tr>\n",
       "    <tr>\n",
       "      <th>4</th>\n",
       "      <td>87.0</td>\n",
       "      <td>7619.366709</td>\n",
       "    </tr>\n",
       "  </tbody>\n",
       "</table>\n",
       "</div>"
      ],
      "text/plain": [
       "      x            y\n",
       "0  24.0   464.378880\n",
       "1  50.0  2252.875253\n",
       "2  15.0   296.482126\n",
       "3  38.0  1338.564521\n",
       "4  87.0  7619.366709"
      ]
     },
     "execution_count": 83,
     "metadata": {},
     "output_type": "execute_result"
    }
   ],
   "source": [
    "dt3b.head()"
   ]
  },
  {
   "cell_type": "code",
   "execution_count": 84,
   "metadata": {},
   "outputs": [
    {
     "data": {
      "text/html": [
       "<div>\n",
       "<style scoped>\n",
       "    .dataframe tbody tr th:only-of-type {\n",
       "        vertical-align: middle;\n",
       "    }\n",
       "\n",
       "    .dataframe tbody tr th {\n",
       "        vertical-align: top;\n",
       "    }\n",
       "\n",
       "    .dataframe thead th {\n",
       "        text-align: right;\n",
       "    }\n",
       "</style>\n",
       "<table border=\"1\" class=\"dataframe\">\n",
       "  <thead>\n",
       "    <tr style=\"text-align: right;\">\n",
       "      <th></th>\n",
       "      <th>x</th>\n",
       "      <th>y</th>\n",
       "    </tr>\n",
       "  </thead>\n",
       "  <tbody>\n",
       "    <tr>\n",
       "      <th>0</th>\n",
       "      <td>77</td>\n",
       "      <td>6364.074878</td>\n",
       "    </tr>\n",
       "    <tr>\n",
       "      <th>1</th>\n",
       "      <td>21</td>\n",
       "      <td>537.186256</td>\n",
       "    </tr>\n",
       "    <tr>\n",
       "      <th>2</th>\n",
       "      <td>22</td>\n",
       "      <td>655.834278</td>\n",
       "    </tr>\n",
       "    <tr>\n",
       "      <th>3</th>\n",
       "      <td>20</td>\n",
       "      <td>318.886311</td>\n",
       "    </tr>\n",
       "    <tr>\n",
       "      <th>4</th>\n",
       "      <td>36</td>\n",
       "      <td>1751.411149</td>\n",
       "    </tr>\n",
       "  </tbody>\n",
       "</table>\n",
       "</div>"
      ],
      "text/plain": [
       "    x            y\n",
       "0  77  6364.074878\n",
       "1  21   537.186256\n",
       "2  22   655.834278\n",
       "3  20   318.886311\n",
       "4  36  1751.411149"
      ]
     },
     "execution_count": 84,
     "metadata": {},
     "output_type": "execute_result"
    }
   ],
   "source": [
    "dt3t.head()"
   ]
  },
  {
   "cell_type": "code",
   "execution_count": 85,
   "metadata": {},
   "outputs": [
    {
     "data": {
      "text/html": [
       "<div>\n",
       "<style scoped>\n",
       "    .dataframe tbody tr th:only-of-type {\n",
       "        vertical-align: middle;\n",
       "    }\n",
       "\n",
       "    .dataframe tbody tr th {\n",
       "        vertical-align: top;\n",
       "    }\n",
       "\n",
       "    .dataframe thead th {\n",
       "        text-align: right;\n",
       "    }\n",
       "</style>\n",
       "<table border=\"1\" class=\"dataframe\">\n",
       "  <thead>\n",
       "    <tr style=\"text-align: right;\">\n",
       "      <th></th>\n",
       "      <th>x</th>\n",
       "      <th>y</th>\n",
       "    </tr>\n",
       "  </thead>\n",
       "  <tbody>\n",
       "    <tr>\n",
       "      <th>count</th>\n",
       "      <td>700.000000</td>\n",
       "      <td>699.000000</td>\n",
       "    </tr>\n",
       "    <tr>\n",
       "      <th>mean</th>\n",
       "      <td>54.985939</td>\n",
       "      <td>3340.124826</td>\n",
       "    </tr>\n",
       "    <tr>\n",
       "      <th>std</th>\n",
       "      <td>134.681703</td>\n",
       "      <td>3055.712556</td>\n",
       "    </tr>\n",
       "    <tr>\n",
       "      <th>min</th>\n",
       "      <td>0.000000</td>\n",
       "      <td>0.014850</td>\n",
       "    </tr>\n",
       "    <tr>\n",
       "      <th>25%</th>\n",
       "      <td>25.000000</td>\n",
       "      <td>621.515765</td>\n",
       "    </tr>\n",
       "    <tr>\n",
       "      <th>50%</th>\n",
       "      <td>49.000000</td>\n",
       "      <td>2398.356724</td>\n",
       "    </tr>\n",
       "    <tr>\n",
       "      <th>75%</th>\n",
       "      <td>75.000000</td>\n",
       "      <td>5614.501316</td>\n",
       "    </tr>\n",
       "    <tr>\n",
       "      <th>max</th>\n",
       "      <td>3530.157369</td>\n",
       "      <td>11853.029271</td>\n",
       "    </tr>\n",
       "  </tbody>\n",
       "</table>\n",
       "</div>"
      ],
      "text/plain": [
       "                 x             y\n",
       "count   700.000000    699.000000\n",
       "mean     54.985939   3340.124826\n",
       "std     134.681703   3055.712556\n",
       "min       0.000000      0.014850\n",
       "25%      25.000000    621.515765\n",
       "50%      49.000000   2398.356724\n",
       "75%      75.000000   5614.501316\n",
       "max    3530.157369  11853.029271"
      ]
     },
     "execution_count": 85,
     "metadata": {},
     "output_type": "execute_result"
    }
   ],
   "source": [
    "dt3b.describe()"
   ]
  },
  {
   "cell_type": "code",
   "execution_count": 86,
   "metadata": {},
   "outputs": [
    {
     "data": {
      "text/html": [
       "<div>\n",
       "<style scoped>\n",
       "    .dataframe tbody tr th:only-of-type {\n",
       "        vertical-align: middle;\n",
       "    }\n",
       "\n",
       "    .dataframe tbody tr th {\n",
       "        vertical-align: top;\n",
       "    }\n",
       "\n",
       "    .dataframe thead th {\n",
       "        text-align: right;\n",
       "    }\n",
       "</style>\n",
       "<table border=\"1\" class=\"dataframe\">\n",
       "  <thead>\n",
       "    <tr style=\"text-align: right;\">\n",
       "      <th></th>\n",
       "      <th>x</th>\n",
       "      <th>y</th>\n",
       "    </tr>\n",
       "  </thead>\n",
       "  <tbody>\n",
       "    <tr>\n",
       "      <th>count</th>\n",
       "      <td>300.000000</td>\n",
       "      <td>300.000000</td>\n",
       "    </tr>\n",
       "    <tr>\n",
       "      <th>mean</th>\n",
       "      <td>50.936667</td>\n",
       "      <td>3464.291087</td>\n",
       "    </tr>\n",
       "    <tr>\n",
       "      <th>std</th>\n",
       "      <td>28.504286</td>\n",
       "      <td>3082.356336</td>\n",
       "    </tr>\n",
       "    <tr>\n",
       "      <th>min</th>\n",
       "      <td>0.000000</td>\n",
       "      <td>0.075794</td>\n",
       "    </tr>\n",
       "    <tr>\n",
       "      <th>25%</th>\n",
       "      <td>27.000000</td>\n",
       "      <td>659.283348</td>\n",
       "    </tr>\n",
       "    <tr>\n",
       "      <th>50%</th>\n",
       "      <td>53.000000</td>\n",
       "      <td>2721.780348</td>\n",
       "    </tr>\n",
       "    <tr>\n",
       "      <th>75%</th>\n",
       "      <td>73.000000</td>\n",
       "      <td>5520.944197</td>\n",
       "    </tr>\n",
       "    <tr>\n",
       "      <th>max</th>\n",
       "      <td>100.000000</td>\n",
       "      <td>11149.636147</td>\n",
       "    </tr>\n",
       "  </tbody>\n",
       "</table>\n",
       "</div>"
      ],
      "text/plain": [
       "                x             y\n",
       "count  300.000000    300.000000\n",
       "mean    50.936667   3464.291087\n",
       "std     28.504286   3082.356336\n",
       "min      0.000000      0.075794\n",
       "25%     27.000000    659.283348\n",
       "50%     53.000000   2721.780348\n",
       "75%     73.000000   5520.944197\n",
       "max    100.000000  11149.636147"
      ]
     },
     "execution_count": 86,
     "metadata": {},
     "output_type": "execute_result"
    }
   ],
   "source": [
    "dt3t.describe()"
   ]
  },
  {
   "cell_type": "code",
   "execution_count": 16,
   "metadata": {},
   "outputs": [
    {
     "name": "stdout",
     "output_type": "stream",
     "text": [
      "Train data misscnt: x    0\n",
      "y    1\n",
      "dtype: int64\n",
      "Test data misscnt: x    0\n",
      "y    0\n",
      "dtype: int64\n"
     ]
    }
   ],
   "source": [
    "print(\"Train data misscnt: {}\".format(dt3b.isnull().sum()))\n",
    "print(\"Test data misscnt: {}\".format(dt3t.isnull().sum()))"
   ]
  },
  {
   "cell_type": "code",
   "execution_count": 17,
   "metadata": {},
   "outputs": [
    {
     "name": "stdout",
     "output_type": "stream",
     "text": [
      "Train data size: (699, 2)\n",
      "Test data size: (699, 2)\n"
     ]
    }
   ],
   "source": [
    "dt3b = dt3b.dropna().copy()\n",
    "print(\"Train data size: {}\".format(dt3b.shape))\n",
    "print(\"Test data size: {}\".format(dt3b.shape))"
   ]
  },
  {
   "cell_type": "code",
   "execution_count": 106,
   "metadata": {},
   "outputs": [
    {
     "data": {
      "text/plain": [
       "array([[6.36407488e+03],\n",
       "       [5.37186256e+02],\n",
       "       [6.55834278e+02],\n",
       "       [3.18886311e+02],\n",
       "       [1.75141115e+03],\n",
       "       [9.61426310e+01],\n",
       "       [3.46622551e+03],\n",
       "       [9.52926163e+03],\n",
       "       [3.38380715e+02],\n",
       "       [7.65055945e+01],\n",
       "       [7.90405895e+00],\n",
       "       [2.92251758e+02],\n",
       "       [9.05334586e+03],\n",
       "       [3.76848736e+03],\n",
       "       [1.61982239e+03],\n",
       "       [2.19706088e+02],\n",
       "       [4.48338296e+03],\n",
       "       [2.76725881e+02],\n",
       "       [8.21835393e+03],\n",
       "       [5.96444608e+03],\n",
       "       [8.48592173e+03],\n",
       "       [2.20091186e+03],\n",
       "       [8.06877215e+03],\n",
       "       [4.71489261e+02],\n",
       "       [9.48911134e+03],\n",
       "       [3.25086002e+03],\n",
       "       [6.13254466e+03],\n",
       "       [3.66014663e+02],\n",
       "       [8.65548032e+03],\n",
       "       [7.07087873e+02],\n",
       "       [9.51630558e+03],\n",
       "       [9.88174831e+02],\n",
       "       [1.23392354e+03],\n",
       "       [6.17959881e+03],\n",
       "       [1.09369952e+03],\n",
       "       [2.67285606e+03],\n",
       "       [2.87535666e+03],\n",
       "       [4.82511680e+03],\n",
       "       [7.52129109e+02],\n",
       "       [1.32106384e+03],\n",
       "       [9.03667140e+03],\n",
       "       [4.64677364e+03],\n",
       "       [2.59708012e+03],\n",
       "       [6.09061222e+03],\n",
       "       [3.14459052e+01],\n",
       "       [1.30417389e+03],\n",
       "       [4.52057420e+03],\n",
       "       [4.22672142e+03],\n",
       "       [1.45523471e+03],\n",
       "       [1.17727316e+03],\n",
       "       [9.07923873e+03],\n",
       "       [7.71718310e+03],\n",
       "       [2.92483096e+03],\n",
       "       [1.01956546e+03],\n",
       "       [3.55364668e+03],\n",
       "       [1.08183757e+00],\n",
       "       [2.25565607e+03],\n",
       "       [3.91887240e+03],\n",
       "       [5.02888665e+03],\n",
       "       [3.15263621e+03],\n",
       "       [1.97563511e+02],\n",
       "       [4.63947224e+03],\n",
       "       [5.71490844e+03],\n",
       "       [3.50768887e+03],\n",
       "       [7.30256413e+03],\n",
       "       [3.15487619e+02],\n",
       "       [1.49682996e+03],\n",
       "       [2.59727185e+03],\n",
       "       [2.68687124e+03],\n",
       "       [2.91593557e+02],\n",
       "       [2.16796562e+03],\n",
       "       [1.07071679e+02],\n",
       "       [6.07001947e+03],\n",
       "       [2.51703755e+03],\n",
       "       [1.75745569e+02],\n",
       "       [9.81114625e+02],\n",
       "       [5.46577449e+03],\n",
       "       [5.54297281e+03],\n",
       "       [2.70600995e+03],\n",
       "       [7.00371565e+03],\n",
       "       [4.95191928e+03],\n",
       "       [5.49658254e+02],\n",
       "       [2.48308053e+03],\n",
       "       [2.48824045e+03],\n",
       "       [1.68471303e+03],\n",
       "       [1.11411384e+03],\n",
       "       [6.60928372e+03],\n",
       "       [1.11496361e+04],\n",
       "       [3.22903177e+03],\n",
       "       [2.36901483e+03],\n",
       "       [4.49188228e+03],\n",
       "       [1.47692361e+03],\n",
       "       [3.43567941e+03],\n",
       "       [7.94304729e+03],\n",
       "       [3.71009421e+03],\n",
       "       [1.91534494e+02],\n",
       "       [2.85300876e+02],\n",
       "       [7.06722151e+03],\n",
       "       [4.94907997e+03],\n",
       "       [1.11454096e+03],\n",
       "       [2.66658531e+00],\n",
       "       [7.84017434e+03],\n",
       "       [3.04170211e+02],\n",
       "       [5.72942806e+03],\n",
       "       [1.76199054e+03],\n",
       "       [1.58569732e+02],\n",
       "       [7.57940880e-02],\n",
       "       [9.63000327e+03],\n",
       "       [7.64876455e+03],\n",
       "       [5.49779883e+00],\n",
       "       [1.54680291e+03],\n",
       "       [2.78461046e+02],\n",
       "       [9.32941290e+03],\n",
       "       [9.54595867e+03],\n",
       "       [4.49129967e+03],\n",
       "       [6.57141052e+02],\n",
       "       [1.79911455e+02],\n",
       "       [9.05475432e+03],\n",
       "       [9.49487371e+01],\n",
       "       [1.20262180e+01],\n",
       "       [3.94737814e+03],\n",
       "       [9.46224170e+03],\n",
       "       [9.13556925e+03],\n",
       "       [5.57785197e+01],\n",
       "       [2.06533854e+03],\n",
       "       [2.17996914e+03],\n",
       "       [5.55015463e+03],\n",
       "       [4.68073508e+02],\n",
       "       [8.38973352e+03],\n",
       "       [7.01978646e+02],\n",
       "       [4.54094672e+03],\n",
       "       [5.51360133e+03],\n",
       "       [1.45924382e+02],\n",
       "       [4.54659125e+02],\n",
       "       [8.59527560e+02],\n",
       "       [7.01568417e+02],\n",
       "       [4.75368850e+03],\n",
       "       [3.49351805e+03],\n",
       "       [4.14416777e+03],\n",
       "       [3.62495311e+03],\n",
       "       [4.94817944e+03],\n",
       "       [9.43001342e+03],\n",
       "       [5.73933787e+03],\n",
       "       [1.16739970e+02],\n",
       "       [1.46705375e+02],\n",
       "       [4.00475376e+03],\n",
       "       [9.60991564e+03],\n",
       "       [3.99342395e+03],\n",
       "       [1.21476523e+03],\n",
       "       [7.95191482e+00],\n",
       "       [3.57979602e+03],\n",
       "       [8.63481178e+02],\n",
       "       [9.40928784e+03],\n",
       "       [7.25675218e+03],\n",
       "       [3.81190563e+03],\n",
       "       [3.55246412e+02],\n",
       "       [6.20787753e+03],\n",
       "       [9.04857629e+03],\n",
       "       [9.29567710e+02],\n",
       "       [1.08465579e+02],\n",
       "       [1.51968788e+03],\n",
       "       [2.12615152e+03],\n",
       "       [2.75111121e+03],\n",
       "       [4.47967361e+02],\n",
       "       [2.73384735e+03],\n",
       "       [1.95263586e+03],\n",
       "       [9.43585325e+03],\n",
       "       [4.51853916e+03],\n",
       "       [3.60362758e+02],\n",
       "       [5.94796976e+02],\n",
       "       [6.31193628e+03],\n",
       "       [1.60280512e+03],\n",
       "       [2.84302855e+03],\n",
       "       [2.97619017e+03],\n",
       "       [7.62412932e+00],\n",
       "       [1.42897820e+03],\n",
       "       [3.30480281e+03],\n",
       "       [1.30053492e+03],\n",
       "       [2.48356527e+03],\n",
       "       [5.57852630e+03],\n",
       "       [2.20866977e+02],\n",
       "       [1.02151020e+04],\n",
       "       [9.88747410e+03],\n",
       "       [8.40749759e+03],\n",
       "       [1.16449737e+03],\n",
       "       [3.69589837e+01],\n",
       "       [3.48955692e+03],\n",
       "       [3.18439684e+03],\n",
       "       [9.29891924e+02],\n",
       "       [2.33788944e+03],\n",
       "       [8.05174857e+03],\n",
       "       [5.30899131e+03],\n",
       "       [6.55637456e+03],\n",
       "       [8.34768451e+03],\n",
       "       [3.60857009e+03],\n",
       "       [9.97478133e+03],\n",
       "       [7.49213878e+01],\n",
       "       [4.81616361e+03],\n",
       "       [3.75886841e+02],\n",
       "       [2.82133966e+03],\n",
       "       [6.14606296e+03],\n",
       "       [6.63377982e+02],\n",
       "       [5.63623263e+03],\n",
       "       [8.62812905e+03],\n",
       "       [4.82399494e+03],\n",
       "       [1.72163224e+02],\n",
       "       [2.31345910e+03],\n",
       "       [6.29075101e+03],\n",
       "       [4.69063457e+03],\n",
       "       [5.36264529e+03],\n",
       "       [6.09281448e+02],\n",
       "       [1.75591917e+03],\n",
       "       [3.87211949e+03],\n",
       "       [2.11268643e+03],\n",
       "       [5.53494863e+02],\n",
       "       [2.68327716e+03],\n",
       "       [2.61200137e+03],\n",
       "       [9.17715592e+03],\n",
       "       [8.53986496e+01],\n",
       "       [5.84694174e+01],\n",
       "       [8.61499503e+01],\n",
       "       [1.07177603e+04],\n",
       "       [2.24771448e+03],\n",
       "       [1.76722352e+03],\n",
       "       [9.23902071e+03],\n",
       "       [1.44838580e+03],\n",
       "       [1.11197824e+04],\n",
       "       [7.88598508e+03],\n",
       "       [2.40033403e+02],\n",
       "       [1.54411591e+02],\n",
       "       [1.60056773e+03],\n",
       "       [3.17423042e+01],\n",
       "       [7.63341019e+03],\n",
       "       [8.05318144e+03],\n",
       "       [4.43755775e+03],\n",
       "       [5.31643467e+03],\n",
       "       [3.27081449e+03],\n",
       "       [1.25823439e+02],\n",
       "       [4.57079771e-01],\n",
       "       [7.92798934e+02],\n",
       "       [9.10035871e+03],\n",
       "       [2.70971335e+03],\n",
       "       [3.56512238e+03],\n",
       "       [1.35366948e+03],\n",
       "       [1.37526585e+03],\n",
       "       [5.84884224e+02],\n",
       "       [4.52757446e+03],\n",
       "       [6.86753535e+03],\n",
       "       [8.08200838e+03],\n",
       "       [1.36469155e+03],\n",
       "       [3.95040367e+02],\n",
       "       [8.22917794e+03],\n",
       "       [3.73243745e+03],\n",
       "       [3.61337435e+03],\n",
       "       [4.20331311e+03],\n",
       "       [6.62658153e+03],\n",
       "       [8.53816229e+03],\n",
       "       [6.63899833e+00],\n",
       "       [4.07142025e+03],\n",
       "       [1.49597280e+03],\n",
       "       [2.83194946e+02],\n",
       "       [9.95741993e+03],\n",
       "       [1.99711873e+03],\n",
       "       [5.04153652e+03],\n",
       "       [2.65980189e+03],\n",
       "       [3.95153362e+02],\n",
       "       [6.32079299e+03],\n",
       "       [1.19638266e+03],\n",
       "       [3.10676329e+03],\n",
       "       [4.65086069e+03],\n",
       "       [3.11545768e+03],\n",
       "       [8.81987095e+01],\n",
       "       [3.13762209e+03],\n",
       "       [6.08352385e+03],\n",
       "       [3.06589222e+03],\n",
       "       [1.41480993e+02],\n",
       "       [8.98529901e+03],\n",
       "       [6.59997447e+02],\n",
       "       [2.86443570e+03],\n",
       "       [3.35401409e+02],\n",
       "       [4.59089668e+02],\n",
       "       [9.24952565e+02],\n",
       "       [4.58077481e+03],\n",
       "       [2.91913569e+02],\n",
       "       [3.71099384e+03],\n",
       "       [2.24854319e+02],\n",
       "       [2.80537019e+02],\n",
       "       [1.71969777e+03],\n",
       "       [1.83571640e+03],\n",
       "       [3.49625398e+03],\n",
       "       [8.33726714e+03],\n",
       "       [7.52267636e+01],\n",
       "       [1.54565766e+03],\n",
       "       [2.82352611e+01],\n",
       "       [2.92164088e+01],\n",
       "       [4.69853875e+03],\n",
       "       [2.24059051e+03],\n",
       "       [2.92579700e+03],\n",
       "       [4.00653180e+03],\n",
       "       [2.75199567e+03]])"
      ]
     },
     "execution_count": 106,
     "metadata": {},
     "output_type": "execute_result"
    }
   ],
   "source": [
    "x_train = dt3b['x']\n",
    "y_train = dt3b['y']\n",
    "x_test = dt3t['x']\n",
    "y_test = dt3t['y']\n",
    "\n",
    "x_train = np.array(x_train)\n",
    "y_train = np.array(y_train)\n",
    "x_test = np.array(x_test)\n",
    "y_test = np.array(y_test)\n",
    "\n",
    "x_train = x_train.reshape(-1,1)\n",
    "x_test = x_test.reshape(-1,1)\n",
    "y_train = y_train.reshape(-1,1)\n",
    "y_test = y_test.reshape(-1,1)\n",
    "\n"
   ]
  },
  {
   "cell_type": "code",
   "execution_count": 19,
   "metadata": {},
   "outputs": [
    {
     "name": "stdout",
     "output_type": "stream",
     "text": [
      "predicted R^2 : 0.9204524642903842\n",
      "predicted MSE : 753255.5700480755\n",
      "intercept: -1743.2412867403095\n",
      "coeffcient: [101.63824122]\n"
     ]
    },
    {
     "name": "stderr",
     "output_type": "stream",
     "text": [
      "/opt/anaconda3/lib/python3.9/site-packages/sklearn/linear_model/_base.py:141: FutureWarning: 'normalize' was deprecated in version 1.0 and will be removed in 1.2.\n",
      "If you wish to scale the data, use Pipeline with a StandardScaler in a preprocessing stage. To reproduce the previous behavior:\n",
      "\n",
      "from sklearn.pipeline import make_pipeline\n",
      "\n",
      "model = make_pipeline(StandardScaler(with_mean=False), LinearRegression())\n",
      "\n",
      "If you wish to pass a sample_weight parameter, you need to pass it as a fit parameter to each step of the pipeline as follows:\n",
      "\n",
      "kwargs = {s[0] + '__sample_weight': sample_weight for s in model.steps}\n",
      "model.fit(X, y, **kwargs)\n",
      "\n",
      "\n",
      "  warnings.warn(\n"
     ]
    }
   ],
   "source": [
    "# fit model\n",
    "reg = LinearRegression(normalize=True)\n",
    "reg.fit(x_train, y_train)\n",
    "\n",
    "# predict\n",
    "y_pred = reg.predict(x_test)\n",
    "print('predicted R^2 :', r2_score(y_test, y_pred))\n",
    "print('predicted MSE :', mean_squared_error(y_test,y_pred))\n",
    "print(\"intercept: {}\".format(reg.intercept_))\n",
    "print(\"coeffcient: {}\".format(reg.coef_))"
   ]
  },
  {
   "cell_type": "code",
   "execution_count": 20,
   "metadata": {},
   "outputs": [
    {
     "data": {
      "text/plain": [
       "[<matplotlib.lines.Line2D at 0x7fdf73ab6f40>]"
      ]
     },
     "execution_count": 20,
     "metadata": {},
     "output_type": "execute_result"
    },
    {
     "data": {
      "image/png": "[encoded data removed]",
      "text/plain": [
       "<Figure size 640x480 with 1 Axes>"
      ]
     },
     "metadata": {},
     "output_type": "display_data"
    }
   ],
   "source": [
    "plt.scatter(dt3b['x'],dt3b['y'], label=\"Train\")\n",
    "plt.title(\"Scatter Plot for Train and Test datasets\")\n",
    "plt.xlabel(\"x\", fontsize=15)\n",
    "plt.ylabel(\"y\", fontsize=15)\n",
    "\n",
    "plt.scatter((dt3t['x']),dt3t['y'], label=\"Test\")\n",
    "\n",
    "plt.legend(framealpha=1, frameon=True)\n",
    "\n",
    "plt.plot(dt3b['x'], (reg.intercept_ + reg.coef_[0] * dt3b['x']))"
   ]
  },
  {
   "cell_type": "markdown",
   "metadata": {},
   "source": [
    "The trend I observed is that，the scatter plot shows x and y follows a non-linear relationship. Thus, I think modelling as exponentials or other non-linear modelings could improve fitting. "
   ]
  },
  {
   "cell_type": "markdown",
   "metadata": {},
   "source": [
    "# Practice 4 - Can you implement simple linear regression model in practice1 from scratch using gradient descent?\n",
    "# This is your homework"
   ]
  },
  {
   "cell_type": "markdown",
   "metadata": {},
   "source": [
    "### Train steps:\n",
    "#### 0 - Initiate parameters\n",
    "#### 1 - Calculate prediction based on temp parameters and equation \n",
    "#### 2 - Calc. cost\n",
    "#### 3 - Calc. Gradient\n",
    "#### 4 - Update Parameter\n",
    "#### 5 - Repeat steps 1-4 for n iterations to until converge to min cost\n",
    "#### 6 - End loop before n iterations if minimal is alrrady reached"
   ]
  },
  {
   "cell_type": "markdown",
   "metadata": {},
   "source": [
    "### Building block functions (Only put two you need to finish the rest)"
   ]
  },
  {
   "cell_type": "code",
   "execution_count": 205,
   "metadata": {},
   "outputs": [],
   "source": [
    "def get_pred(x_train, parameters):\n",
    "    b1 = parameters['b1']\n",
    "    b0 = parameters['b0']\n",
    "    predictions = np.multiply(b1, x_train) + b0\n",
    "    return predictions\n",
    "\n",
    "def cost_function(predictions, y_train):\n",
    "    cost = np.mean((y_train - predictions) ** 2) * 0.5\n",
    "    return cost\n",
    "\n",
    "def deriv(x_train, y_train, predictions):\n",
    "    #### code up your solution here ######\n",
    "    derivatives=dict()\n",
    "    derivatives['db0']=np.sum((predictions - y_train))\n",
    "    derivatives['db1'] = np.dot(np.transpose(predictions - y_train),x_train)[0,0]\n",
    " \n",
    "    return derivatives\n",
    "\n",
    "def update_parameters(parameters, derivatives, learning_rate):\n",
    "    #### code up your solution here \n",
    "    parameters['b1']=parameters['b1']-learning_rate*derivatives['db1']\n",
    "    parameters['b0']=parameters['b0']-learning_rate*derivatives['db0']\n",
    "    \n",
    "    return parameters"
   ]
  },
  {
   "cell_type": "code",
   "execution_count": 194,
   "metadata": {},
   "outputs": [
    {
     "data": {
      "text/plain": [
       "{'db0': -46797697.60378163, 'db1': -2885048.131484149}"
      ]
     },
     "execution_count": 194,
     "metadata": {},
     "output_type": "execute_result"
    }
   ],
   "source": []
  },
  {
   "cell_type": "markdown",
   "metadata": {},
   "source": [
    "### Build training function"
   ]
  },
  {
   "cell_type": "code",
   "execution_count": 221,
   "metadata": {},
   "outputs": [],
   "source": [
    "def train(x_train, y_train, learning_rate, iters = 5):\n",
    "    # random initialization of parameters\n",
    "    parameters = dict()\n",
    "    np.random.seed(10)\n",
    "    parameters[\"b1\"] = np.random.uniform(0,1) * -1\n",
    "    np.random.seed(5)\n",
    "    parameters[\"b0\"] = np.random.uniform(0,1) * -1\n",
    "    \n",
    "    plt.figure()\n",
    "    \n",
    "    # loss\n",
    "    loss = list()\n",
    "    \n",
    "    # iterate\n",
    "    for i in range(iters):\n",
    "        \n",
    "        # Prediction\n",
    "        predictions=get_pred(x_train, parameters)\n",
    "        # cost function\n",
    "        cost=cost_function(predictions, y_train)\n",
    "        \n",
    "        # append loss and print\n",
    "        loss.append(cost)\n",
    "    \n",
    "        print(\"Iteration = {}, Loss = {}\".format(i+1, cost))\n",
    "        \n",
    "        # plot function\n",
    "        plt.plot(x_train, y_train, 'x')\n",
    "        plt.plot(x_train, predictions, 'o')\n",
    "        \n",
    "        # Calc. gradient/derivatives\n",
    "        derivatives= deriv(x_train, y_train, predictions)\n",
    " \n",
    "        # update parameters\n",
    "        parameters=update_parameters(parameters, derivatives, learning_rate)\n",
    "    \n",
    "    return parameters, loss"
   ]
  },
  {
   "cell_type": "markdown",
   "metadata": {},
   "source": [
    "### Traing model with your function by gradient descent algrithm"
   ]
  },
  {
   "cell_type": "code",
   "execution_count": 227,
   "metadata": {},
   "outputs": [
    {
     "name": "stdout",
     "output_type": "stream",
     "text": [
      "Iteration = 1, Loss = 4609.39616986404\n",
      "Iteration = 2, Loss = 4592.545367486208\n",
      "Iteration = 3, Loss = 4575.774789149659\n",
      "Iteration = 4, Loss = 4559.084028696937\n",
      "Iteration = 5, Loss = 4542.472682096055\n",
      "Iteration = 6, Loss = 4525.940347429184\n",
      "Iteration = 7, Loss = 4509.486624881375\n",
      "Iteration = 8, Loss = 4493.111116729376\n",
      "Iteration = 9, Loss = 4476.813427330487\n",
      "Iteration = 10, Loss = 4460.593163111479\n",
      "Iteration = 11, Loss = 4444.449932557577\n",
      "Iteration = 12, Loss = 4428.383346201496\n",
      "Iteration = 13, Loss = 4412.393016612541\n",
      "Iteration = 14, Loss = 4396.478558385766\n",
      "Iteration = 15, Loss = 4380.639588131185\n",
      "Iteration = 16, Loss = 4364.875724463046\n",
      "Iteration = 17, Loss = 4349.186587989167\n",
      "Iteration = 18, Loss = 4333.571801300319\n",
      "Iteration = 19, Loss = 4318.0309889596665\n",
      "Iteration = 20, Loss = 4302.563777492285\n",
      "Iteration = 21, Loss = 4287.169795374701\n",
      "Iteration = 22, Loss = 4271.848673024512\n",
      "Iteration = 23, Loss = 4256.600042790071\n",
      "Iteration = 24, Loss = 4241.423538940192\n",
      "Iteration = 25, Loss = 4226.318797653939\n",
      "Iteration = 26, Loss = 4211.285457010464\n",
      "Iteration = 27, Loss = 4196.323156978892\n",
      "Iteration = 28, Loss = 4181.431539408276\n",
      "Iteration = 29, Loss = 4166.610248017582\n",
      "Iteration = 30, Loss = 4151.858928385751\n",
      "Iteration = 31, Loss = 4137.177227941801\n",
      "Iteration = 32, Loss = 4122.564795954987\n",
      "Iteration = 33, Loss = 4108.021283525015\n",
      "Iteration = 34, Loss = 4093.546343572302\n",
      "Iteration = 35, Loss = 4079.1396308282947\n",
      "Iteration = 36, Loss = 4064.8008018258365\n",
      "Iteration = 37, Loss = 4050.5295148896007\n",
      "Iteration = 38, Loss = 4036.32543012654\n",
      "Iteration = 39, Loss = 4022.188209416427\n",
      "Iteration = 40, Loss = 4008.1175164024216\n",
      "Iteration = 41, Loss = 3994.1130164817\n",
      "Iteration = 42, Loss = 3980.174376796118\n",
      "Iteration = 43, Loss = 3966.301266222958\n",
      "Iteration = 44, Loss = 3952.4933553656783\n",
      "Iteration = 45, Loss = 3938.7503165447565\n",
      "Iteration = 46, Loss = 3925.071823788552\n",
      "Iteration = 47, Loss = 3911.45755282424\n",
      "Iteration = 48, Loss = 3897.9071810687665\n",
      "Iteration = 49, Loss = 3884.420387619888\n",
      "Iteration = 50, Loss = 3870.996853247223\n",
      "Iteration = 51, Loss = 3857.6362603833763\n",
      "Iteration = 52, Loss = 3844.3382931151023\n",
      "Iteration = 53, Loss = 3831.1026371745093\n",
      "Iteration = 54, Loss = 3817.9289799303333\n",
      "Iteration = 55, Loss = 3804.817010379228\n",
      "Iteration = 56, Loss = 3791.7664191371186\n",
      "Iteration = 57, Loss = 3778.776898430616\n",
      "Iteration = 58, Loss = 3765.8481420884355\n",
      "Iteration = 59, Loss = 3752.9798455329123\n",
      "Iteration = 60, Loss = 3740.171705771521\n",
      "Iteration = 61, Loss = 3727.423421388467\n",
      "Iteration = 62, Loss = 3714.7346925363036\n",
      "Iteration = 63, Loss = 3702.105220927618\n",
      "Iteration = 64, Loss = 3689.534709826733\n",
      "Iteration = 65, Loss = 3677.022864041471\n",
      "Iteration = 66, Loss = 3664.569389914976\n",
      "Iteration = 67, Loss = 3652.1739953175356\n",
      "Iteration = 68, Loss = 3639.836389638496\n",
      "Iteration = 69, Loss = 3627.5562837781827\n",
      "Iteration = 70, Loss = 3615.3333901398964\n",
      "Iteration = 71, Loss = 3603.1674226219175\n",
      "Iteration = 72, Loss = 3591.0580966095836\n",
      "Iteration = 73, Loss = 3579.005128967402\n",
      "Iteration = 74, Loss = 3567.0082380311787\n",
      "Iteration = 75, Loss = 3555.067143600238\n",
      "Iteration = 76, Loss = 3543.1815669296375\n",
      "Iteration = 77, Loss = 3531.3512307224496\n",
      "Iteration = 78, Loss = 3519.5758591220833\n",
      "Iteration = 79, Loss = 3507.8551777046387\n",
      "Iteration = 80, Loss = 3496.188913471306\n",
      "Iteration = 81, Loss = 3484.5767948408097\n",
      "Iteration = 82, Loss = 3473.0185516418874\n",
      "Iteration = 83, Loss = 3461.5139151058097\n",
      "Iteration = 84, Loss = 3450.062617858942\n",
      "Iteration = 85, Loss = 3438.664393915354\n",
      "Iteration = 86, Loss = 3427.318978669445\n",
      "Iteration = 87, Loss = 3416.0261088886373\n",
      "Iteration = 88, Loss = 3404.7855227060945\n",
      "Iteration = 89, Loss = 3393.5969596134755\n",
      "Iteration = 90, Loss = 3382.4601604537334\n",
      "Iteration = 91, Loss = 3371.3748674139524\n",
      "Iteration = 92, Loss = 3360.340824018231\n",
      "Iteration = 93, Loss = 3349.3577751205735\n",
      "Iteration = 94, Loss = 3338.425466897864\n",
      "Iteration = 95, Loss = 3327.543646842844\n",
      "Iteration = 96, Loss = 3316.7120637571343\n",
      "Iteration = 97, Loss = 3305.930467744319\n",
      "Iteration = 98, Loss = 3295.1986102030114\n",
      "Iteration = 99, Loss = 3284.5162438200314\n",
      "Iteration = 100, Loss = 3273.883122563547\n"
     ]
    },
    {
     "data": {
      "text/plain": [
       "{'b1': -0.549200583333703, 'b0': 3.733090210229296}"
      ]
     },
     "execution_count": 227,
     "metadata": {},
     "output_type": "execute_result"
    },
    {
     "data": {
      "image/png": "[encoded data removed]",
      "text/plain": [
       "<Figure size 640x480 with 1 Axes>"
      ]
     },
     "metadata": {},
     "output_type": "display_data"
    }
   ],
   "source": [
    "fitted_parameters, loss=train(x_train, y_train, 0.000000001, iters = 100)\n",
    "#y = -0.10726546430095851 + 1.00065638*x\n",
    "fitted_parameters"
   ]
  },
  {
   "cell_type": "markdown",
   "metadata": {},
   "source": [
    "After training using gradient descent algrithm, the set of parameters I obtained is {'b1': -0.549200583333703, 'b0': 3.733090210229296}.\n"
   ]
  },
  {
   "cell_type": "markdown",
   "metadata": {},
   "source": [
    "##### Print your final fitted model/ validate model on test data set"
   ]
  },
  {
   "cell_type": "markdown",
   "metadata": {},
   "source": [
    "The fitted line : `y = 3.733090210229296-0.549200583333703*x` "
   ]
  },
  {
   "cell_type": "markdown",
   "metadata": {},
   "source": [
    "The following code is printing out performance matrics on test set. Here we can see the effects of using the gradient descent algorithm is "
   ]
  },
  {
   "cell_type": "code",
   "execution_count": 228,
   "metadata": {},
   "outputs": [
    {
     "name": "stdout",
     "output_type": "stream",
     "text": [
      "predicted R^2 on test set : -8.118669418248516\n",
      "predicted MSE on test set : 7680.963727935289\n",
      "3389.3714932316716\n"
     ]
    }
   ],
   "source": [
    "parameters['b1']=fitted_parameters['b1']\n",
    "parameters['b0']=fitted_parameters['b0']\n",
    "x_test = x_test.reshape(-1,1)\n",
    "y_test_predict=get_pred(x_test, parameters)\n",
    "print('predicted R^2 on test set :', r2_score(y_test, y_test_predict))\n",
    "print('predicted MSE on test set :', mean_squared_error(y_test,y_test_predict))\n",
    "#r2_score(y_test, y_test_predict)\n",
    "#y_test_predict.shape\n",
    "print(cost_function(y_test_predict, y_test))"
   ]
  },
  {
   "cell_type": "markdown",
   "metadata": {},
   "source": [
    "The following code is graphing predictions and true values on test set using the fitted model. "
   ]
  },
  {
   "cell_type": "code",
   "execution_count": 229,
   "metadata": {},
   "outputs": [
    {
     "data": {
      "text/plain": [
       "[<matplotlib.lines.Line2D at 0x7fdf3857ce50>]"
      ]
     },
     "execution_count": 229,
     "metadata": {},
     "output_type": "execute_result"
    },
    {
     "data": {
      "image/png": "[encoded data removed]",
      "text/plain": [
       "<Figure size 640x480 with 1 Axes>"
      ]
     },
     "metadata": {},
     "output_type": "display_data"
    }
   ],
   "source": [
    "plt.scatter(x_test,y_test_predict, label=\"Test Predict\")\n",
    "plt.title(\"Scatter Plot for Test datasets\")\n",
    "plt.xlabel(\"x\", fontsize=15)\n",
    "plt.ylabel(\"y\", fontsize=15)\n",
    "\n",
    "plt.scatter(x_test,y_test, label= \"Test\")\n",
    "\n",
    "plt.legend(framealpha=1, frameon=True)\n",
    "\n",
    "plt.plot(x_test, (3.62217606694731+ -0.49010001042239215* x_test))"
   ]
  },
  {
   "cell_type": "markdown",
   "metadata": {},
   "source": [
    "The following code is graphing predictions and true values on train set using the fitted model,  and printing out performance matrics on train set. "
   ]
  },
  {
   "cell_type": "code",
   "execution_count": 230,
   "metadata": {},
   "outputs": [
    {
     "name": "stdout",
     "output_type": "stream",
     "text": [
      "predicted R^2 on train set : -7.8009043463504515\n",
      "predicted MSE on train set : 7446.74698052308\n"
     ]
    },
    {
     "data": {
      "image/png": "[encoded data removed]",
      "text/plain": [
       "<Figure size 640x480 with 1 Axes>"
      ]
     },
     "metadata": {},
     "output_type": "display_data"
    }
   ],
   "source": [
    "y_train_predict=get_pred(x_train, parameters)\n",
    "plt.scatter(x_train,y_train_predict, label=\"Train Predict\")\n",
    "plt.title(\"Scatter Plot for Train datasets\")\n",
    "plt.xlabel(\"x\", fontsize=15)\n",
    "plt.ylabel(\"y\", fontsize=15)\n",
    "\n",
    "plt.scatter(x_train,y_train, label= \"Train\")\n",
    "\n",
    "plt.legend(framealpha=1, frameon=True)\n",
    "\n",
    "plt.plot(x_train, (3.62217606694731+ -0.49010001042239215* x_train))\n",
    "\n",
    "print('predicted R^2 on train set :', r2_score(y_train, y_train_predict))\n",
    "print('predicted MSE on train set :', mean_squared_error(y_train,y_train_predict))"
   ]
  }
 ],
 "metadata": {
  "kernelspec": {
   "display_name": "Python 3 (ipykernel)",
   "language": "python",
   "name": "python3"
  },
  "language_info": {
   "codemirror_mode": {
    "name": "ipython",
    "version": 3
   },
   "file_extension": ".py",
   "mimetype": "text/x-python",
   "name": "python",
   "nbconvert_exporter": "python",
   "pygments_lexer": "ipython3",
   "version": "3.9.15"
  }
 },
 "nbformat": 4,
 "nbformat_minor": 4
}
