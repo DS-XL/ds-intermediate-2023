{
 "cells": [
  {
   "cell_type": "markdown",
   "metadata": {},
   "source": [
    "# This practice will cover learning points in Topic 2\n",
    "### 1 - Fit MLR model in python with sklearn and statesmodel packages\n",
    "### 2 - Model Selection\n",
    "### 3 - Weighted regression\n",
    "### 4 - Regularization, L1 and L2"
   ]
  },
  {
   "cell_type": "markdown",
   "metadata": {},
   "source": [
    "Import required Python packages."
   ]
  },
  {
   "cell_type": "code",
   "execution_count": null,
   "metadata": {},
   "outputs": [],
   "source": [
    "# if you haven't installed statsmodels\n",
    "! pip install statsmodels dmba"
   ]
  },
  {
   "cell_type": "code",
   "execution_count": 3,
   "metadata": {},
   "outputs": [
    {
     "name": "stdout",
     "output_type": "stream",
     "text": [
      "no display found. Using non-interactive Agg backend\n"
     ]
    }
   ],
   "source": [
    "from pathlib import Path\n",
    "import os\n",
    "import pandas as pd\n",
    "import numpy as np\n",
    "\n",
    "from sklearn.model_selection import train_test_split\n",
    "\n",
    "from sklearn.metrics import r2_score, mean_squared_error\n",
    "from sklearn.linear_model import LinearRegression, RidgeCV, LassoCV, ElasticNetCV\n",
    "\n",
    "import statsmodels.api as sm\n",
    "\n",
    "import seaborn as sns\n",
    "import matplotlib.pyplot as plt\n",
    "\n",
    "from dmba import stepwise_selection\n",
    "from dmba import AIC_score\n",
    "\n",
    "%matplotlib inline"
   ]
  },
  {
   "cell_type": "markdown",
   "metadata": {},
   "source": [
    "Define paths to data sets. If you don't keep your data in the same directory as the code, adapt the path names."
   ]
  },
  {
   "cell_type": "code",
   "execution_count": 2,
   "metadata": {},
   "outputs": [],
   "source": [
    "DATA = Path('.').resolve().parents[1] / 'IntermediateLevel/DataScienceProgram/Class2/Practice/mlr'\n",
    "\n",
    "HOUSE_CSV = DATA / 'house_sales.csv'"
   ]
  },
  {
   "cell_type": "code",
   "execution_count": 3,
   "metadata": {},
   "outputs": [],
   "source": [
    "# print(DATA)\n",
    "# print(HOUSE_CSV)"
   ]
  },
  {
   "cell_type": "markdown",
   "metadata": {},
   "source": [
    "#### Data read and train-test split"
   ]
  },
  {
   "cell_type": "code",
   "execution_count": 4,
   "metadata": {},
   "outputs": [
    {
     "name": "stdout",
     "output_type": "stream",
     "text": [
      "      DocumentDate  SalePrice  PropertyID   PropertyType          ym  zhvi_px  \\\n",
      "10533   2007-03-10     489201  3278603970  Single Family  2007-03-01   429600   \n",
      "25462   2006-12-27     316250  9284801095  Single Family  2006-12-01   423400   \n",
      "11887   2006-01-05     758000  3592500971  Single Family  2006-01-01   383200   \n",
      "11120   2007-01-25     284000  3353401093  Single Family  2007-01-01   425600   \n",
      "7404    2012-09-25     690000  2426059124  Single Family  2012-09-01   329600   \n",
      "\n",
      "       zhvi_idx  AdjSalePrice  NbrLivingUnits  SqFtLot  ...  Bathrooms  \\\n",
      "10533  0.987132      495578.0               1     2722  ...       2.25   \n",
      "25462  0.972886      325064.0               1     5750  ...       2.00   \n",
      "11887  0.880515      860860.0               1     2944  ...       1.50   \n",
      "11120  0.977941      290406.0               1    12000  ...       2.00   \n",
      "7404   0.757353      911068.0               1    47480  ...       3.25   \n",
      "\n",
      "       Bedrooms  BldgGrade  YrBuilt  YrRenovated  TrafficNoise  LandVal  \\\n",
      "10533         2          7     2006            0             0    81000   \n",
      "25462         4          7     1981            0             0   129000   \n",
      "11887         3          9     1924            0             0   525000   \n",
      "11120         3          7     1979            0             0    62000   \n",
      "7404          4         10     1995            0             0   378000   \n",
      "\n",
      "       ImpsVal  ZipCode  NewConstruction  \n",
      "10533   339000    98126             True  \n",
      "25462   229000    98126            False  \n",
      "11887   491000    98112            False  \n",
      "11120   135000    98047            False  \n",
      "7404    530000    98072            False  \n",
      "\n",
      "[5 rows x 22 columns]\n",
      "(18149, 22)\n",
      "      DocumentDate  SalePrice  PropertyID   PropertyType          ym  zhvi_px  \\\n",
      "11010   2012-02-16     400000  3342100735  Single Family  2012-02-01   312300   \n",
      "12383   2006-12-21     829900  3630201060  Single Family  2006-12-01   423400   \n",
      "7789    2011-10-12     397300  2518400046  Single Family  2011-10-01   312000   \n",
      "20959   2012-06-12     190000  7695500260  Single Family  2012-06-01   322000   \n",
      "23511   2008-05-09     239700  8651410540  Single Family  2008-05-01   407400   \n",
      "\n",
      "       zhvi_idx  AdjSalePrice  NbrLivingUnits  SqFtLot  ...  Bathrooms  \\\n",
      "11010  0.717601      557413.0               1     5100  ...       2.25   \n",
      "12383  0.972886      853029.0               1     5365  ...       2.50   \n",
      "7789   0.716912      554183.0               1     8879  ...       1.75   \n",
      "20959  0.739890      256795.0               1    15001  ...       1.00   \n",
      "23511  0.936121      256057.0               1     4770  ...       1.00   \n",
      "\n",
      "       Bedrooms  BldgGrade  YrBuilt  YrRenovated  TrafficNoise  LandVal  \\\n",
      "11010         3          7     1974            0             0   286000   \n",
      "12383         4         10     2006            0             0   299000   \n",
      "7789          3          7     1920         1957             1   182000   \n",
      "20959         3          7     1956            0             0   143000   \n",
      "23511         3          6     1969            0             0    75000   \n",
      "\n",
      "       ImpsVal  ZipCode  NewConstruction  \n",
      "11010   178000    98056            False  \n",
      "12383   550000    98029             True  \n",
      "7789    283000    98146            False  \n",
      "20959   142000    98059            False  \n",
      "23511    85000    98042            False  \n",
      "\n",
      "[5 rows x 22 columns]\n",
      "(4538, 22)\n"
     ]
    }
   ],
   "source": [
    "houseall = pd.read_csv(HOUSE_CSV, sep='\\t')\n",
    "\n",
    "house, house_test = train_test_split(houseall, test_size=0.2)\n",
    "\n",
    "print(house.head())\n",
    "print(house.shape)\n",
    "\n",
    "print(house_test.head())\n",
    "print(house_test.shape)"
   ]
  },
  {
   "cell_type": "markdown",
   "metadata": {},
   "source": [
    "We can use the `LinearRegression` model from _scikit-learn_."
   ]
  },
  {
   "cell_type": "markdown",
   "metadata": {},
   "source": [
    "## 1 - Multiple Linear Regression (SKlearn)"
   ]
  },
  {
   "cell_type": "code",
   "execution_count": 5,
   "metadata": {},
   "outputs": [
    {
     "name": "stdout",
     "output_type": "stream",
     "text": [
      "       AdjSalePrice  SqFtTotLiving  SqFtLot  Bathrooms  Bedrooms  BldgGrade\n",
      "10533      495578.0           1600     2722       2.25         2          7\n",
      "25462      325064.0           1350     5750       2.00         4          7\n",
      "11887      860860.0           2190     2944       1.50         3          9\n",
      "11120      290406.0           1360    12000       2.00         3          7\n",
      "7404       911068.0           4160    47480       3.25         4         10\n"
     ]
    }
   ],
   "source": [
    "subset = ['AdjSalePrice', 'SqFtTotLiving', 'SqFtLot', 'Bathrooms', \n",
    "          'Bedrooms', 'BldgGrade']\n",
    "\n",
    "print(house[subset].head())"
   ]
  },
  {
   "cell_type": "code",
   "execution_count": 6,
   "metadata": {},
   "outputs": [
    {
     "name": "stdout",
     "output_type": "stream",
     "text": [
      "      DocumentDate  SalePrice  PropertyID   PropertyType          ym  zhvi_px  \\\n",
      "10533   2007-03-10     489201  3278603970  Single Family  2007-03-01   429600   \n",
      "25462   2006-12-27     316250  9284801095  Single Family  2006-12-01   423400   \n",
      "11887   2006-01-05     758000  3592500971  Single Family  2006-01-01   383200   \n",
      "11120   2007-01-25     284000  3353401093  Single Family  2007-01-01   425600   \n",
      "7404    2012-09-25     690000  2426059124  Single Family  2012-09-01   329600   \n",
      "\n",
      "       zhvi_idx  AdjSalePrice  NbrLivingUnits  SqFtLot  ...  Bathrooms  \\\n",
      "10533  0.987132      495578.0               1     2722  ...       2.25   \n",
      "25462  0.972886      325064.0               1     5750  ...       2.00   \n",
      "11887  0.880515      860860.0               1     2944  ...       1.50   \n",
      "11120  0.977941      290406.0               1    12000  ...       2.00   \n",
      "7404   0.757353      911068.0               1    47480  ...       3.25   \n",
      "\n",
      "       Bedrooms  BldgGrade  YrBuilt  YrRenovated  TrafficNoise  LandVal  \\\n",
      "10533         2          7     2006            0             0    81000   \n",
      "25462         4          7     1981            0             0   129000   \n",
      "11887         3          9     1924            0             0   525000   \n",
      "11120         3          7     1979            0             0    62000   \n",
      "7404          4         10     1995            0             0   378000   \n",
      "\n",
      "       ImpsVal  ZipCode  NewConstruction  \n",
      "10533   339000    98126             True  \n",
      "25462   229000    98126            False  \n",
      "11887   491000    98112            False  \n",
      "11120   135000    98047            False  \n",
      "7404    530000    98072            False  \n",
      "\n",
      "[5 rows x 22 columns]\n",
      "Index(['DocumentDate', 'SalePrice', 'PropertyID', 'PropertyType', 'ym',\n",
      "       'zhvi_px', 'zhvi_idx', 'AdjSalePrice', 'NbrLivingUnits', 'SqFtLot',\n",
      "       'SqFtTotLiving', 'SqFtFinBasement', 'Bathrooms', 'Bedrooms',\n",
      "       'BldgGrade', 'YrBuilt', 'YrRenovated', 'TrafficNoise', 'LandVal',\n",
      "       'ImpsVal', 'ZipCode', 'NewConstruction'],\n",
      "      dtype='object')\n"
     ]
    }
   ],
   "source": [
    "print(house.head())\n",
    "print(house.columns)"
   ]
  },
  {
   "cell_type": "code",
   "execution_count": 7,
   "metadata": {},
   "outputs": [
    {
     "name": "stdout",
     "output_type": "stream",
     "text": [
      "Intercept: -537292.342\n",
      "Coefficients:\n",
      " SqFtTotLiving: 225.81655434699528\n",
      " SqFtLot: -0.016911652676232958\n",
      " Bathrooms: -15176.214094097379\n",
      " Bedrooms: -51016.63096341433\n",
      " BldgGrade: 109131.77720832141\n"
     ]
    }
   ],
   "source": [
    "predictors = ['SqFtTotLiving', 'SqFtLot', 'Bathrooms', \n",
    "              'Bedrooms', 'BldgGrade']\n",
    "outcome = 'AdjSalePrice'\n",
    "\n",
    "house_lm = LinearRegression()\n",
    "house_lm.fit(house[predictors], house[outcome])\n",
    "\n",
    "print(f'Intercept: {house_lm.intercept_:.3f}')\n",
    "print('Coefficients:')\n",
    "for name, coef in zip(predictors, house_lm.coef_):\n",
    "    print(f' {name}: {coef}')"
   ]
  },
  {
   "cell_type": "markdown",
   "metadata": {},
   "source": [
    "### Assessing the Model with performance KPIs\n",
    "_Scikit-learn_ provides a number of metrics to determine the quality of a model. Here we use the `r2_score` and `RMSE`."
   ]
  },
  {
   "cell_type": "code",
   "execution_count": 8,
   "metadata": {},
   "outputs": [
    {
     "name": "stdout",
     "output_type": "stream",
     "text": [
      "RMSE: 263601\n",
      "r2: 0.5400\n",
      "RMSE_test: 263601\n",
      "r2_test: 0.5426\n"
     ]
    }
   ],
   "source": [
    "fitted = house_lm.predict(house[predictors])\n",
    "RMSE = np.sqrt(mean_squared_error(house[outcome], fitted))\n",
    "r2 = r2_score(house[outcome], fitted)\n",
    "print(f'RMSE: {RMSE:.0f}')\n",
    "print(f'r2: {r2:.4f}')\n",
    "\n",
    "fitted_test = house_lm.predict(house_test[predictors])\n",
    "RMSE_test = np.sqrt(mean_squared_error(house_test[outcome], fitted_test))\n",
    "r2_test = r2_score(house_test[outcome], fitted_test)\n",
    "print(f'RMSE_test: {RMSE_test:.0f}')\n",
    "print(f'r2_test: {r2_test:.4f}')"
   ]
  },
  {
   "cell_type": "markdown",
   "metadata": {},
   "source": [
    "## 1 - Multiple Linear Regression (statsmodels)"
   ]
  },
  {
   "cell_type": "markdown",
   "metadata": {},
   "source": [
    "While _scikit-learn_ provides a variety of different metrics, _statsmodels_ provides a more in-depth analysis of the linear regression model. This package has two different ways of specifying the model, one that is similar to _scikit-learn_ and one that allows specifying _R_-style formulas. Here we use the first approach. As _statsmodels_ doesn't add an intercept automaticaly, we need to add a constant column with value 1 to the predictors. We can use the _pandas_ method assign for this."
   ]
  },
  {
   "cell_type": "code",
   "execution_count": 9,
   "metadata": {},
   "outputs": [
    {
     "name": "stdout",
     "output_type": "stream",
     "text": [
      "                            OLS Regression Results                            \n",
      "==============================================================================\n",
      "Dep. Variable:           AdjSalePrice   R-squared:                       0.540\n",
      "Model:                            OLS   Adj. R-squared:                  0.540\n",
      "Method:                 Least Squares   F-statistic:                     4259.\n",
      "Date:                Mon, 25 May 2020   Prob (F-statistic):               0.00\n",
      "Time:                        18:14:39   Log-Likelihood:            -2.5229e+05\n",
      "No. Observations:               18149   AIC:                         5.046e+05\n",
      "Df Residuals:                   18143   BIC:                         5.046e+05\n",
      "Df Model:                           5                                         \n",
      "Covariance Type:            nonrobust                                         \n",
      "=================================================================================\n",
      "                    coef    std err          t      P>|t|      [0.025      0.975]\n",
      "---------------------------------------------------------------------------------\n",
      "SqFtTotLiving   225.8166      4.444     50.814      0.000     217.106     234.527\n",
      "SqFtLot          -0.0169      0.068     -0.248      0.804      -0.150       0.117\n",
      "Bathrooms     -1.518e+04   4115.186     -3.688      0.000   -2.32e+04   -7110.061\n",
      "Bedrooms      -5.102e+04   2946.076    -17.317      0.000   -5.68e+04   -4.52e+04\n",
      "BldgGrade      1.091e+05   2713.466     40.219      0.000    1.04e+05    1.14e+05\n",
      "const         -5.373e+05   1.79e+04    -30.059      0.000   -5.72e+05   -5.02e+05\n",
      "==============================================================================\n",
      "Omnibus:                    24463.751   Durbin-Watson:                   1.983\n",
      "Prob(Omnibus):                  0.000   Jarque-Bera (JB):         18612687.804\n",
      "Skew:                           7.254   Prob(JB):                         0.00\n",
      "Kurtosis:                     159.214   Cond. No.                     2.93e+05\n",
      "==============================================================================\n",
      "\n",
      "Warnings:\n",
      "[1] Standard Errors assume that the covariance matrix of the errors is correctly specified.\n",
      "[2] The condition number is large, 2.93e+05. This might indicate that there are\n",
      "strong multicollinearity or other numerical problems.\n"
     ]
    }
   ],
   "source": [
    "mlr_sm = sm.OLS(house[outcome], house[predictors].assign(const=1))\n",
    "results = mlr_sm.fit()\n",
    "print(results.summary())"
   ]
  },
  {
   "cell_type": "markdown",
   "metadata": {},
   "source": [
    "### Correlations between predictors"
   ]
  },
  {
   "cell_type": "code",
   "execution_count": 10,
   "metadata": {},
   "outputs": [
    {
     "name": "stdout",
     "output_type": "stream",
     "text": [
      "Correlation Matrix \n",
      "                SqFtTotLiving   SqFtLot  Bathrooms  Bedrooms  BldgGrade\n",
      "SqFtTotLiving       1.000000  0.190555   0.767320  0.620581   0.771330\n",
      "SqFtLot             0.190555  1.000000   0.103067  0.069024   0.144039\n",
      "Bathrooms           0.767320  0.103067   1.000000  0.556512   0.661531\n",
      "Bedrooms            0.620581  0.069024   0.556512  1.000000   0.381189\n",
      "BldgGrade           0.771330  0.144039   0.661531  0.381189   1.000000\n"
     ]
    },
    {
     "data": {
      "image/png": "[encoded data removed]",
      "text/plain": [
       "<Figure size 432x288 with 2 Axes>"
      ]
     },
     "metadata": {
      "needs_background": "light"
     },
     "output_type": "display_data"
    }
   ],
   "source": [
    "corr = house[predictors].corr()\n",
    "print(\"Correlation Matrix \\n {}\".format(corr))\n",
    "\n",
    "ax = sns.heatmap(\n",
    "    corr, \n",
    "    vmin=-1, vmax=1, center=0,\n",
    "    cmap=sns.diverging_palette(20, 220, n=200),\n",
    "    square=True\n",
    ")\n",
    "ax.set_xticklabels(\n",
    "    ax.get_xticklabels(),\n",
    "    rotation=45,\n",
    "    horizontalalignment='right'\n",
    ")"
   ]
  },
  {
   "cell_type": "markdown",
   "metadata": {},
   "source": [
    "## 2 - Model Selection and Stepwise Regression"
   ]
  },
  {
   "cell_type": "code",
   "execution_count": 11,
   "metadata": {},
   "outputs": [
    {
     "name": "stdout",
     "output_type": "stream",
     "text": [
      "       SqFtTotLiving  SqFtLot  Bathrooms  Bedrooms  BldgGrade   PropertyType  \\\n",
      "10533           1600     2722       2.25         2          7  Single Family   \n",
      "25462           1350     5750       2.00         4          7  Single Family   \n",
      "11887           2190     2944       1.50         3          9  Single Family   \n",
      "11120           1360    12000       2.00         3          7  Single Family   \n",
      "7404            4160    47480       3.25         4         10  Single Family   \n",
      "\n",
      "       NbrLivingUnits  SqFtFinBasement  YrBuilt  YrRenovated  NewConstruction  \n",
      "10533               1                0     2006            0             True  \n",
      "25462               1                0     1981            0            False  \n",
      "11887               1              450     1924            0            False  \n",
      "11120               1                0     1979            0            False  \n",
      "7404                1                0     1995            0            False  \n",
      "\n",
      " PropertyType List \n",
      "Single Family    16575\n",
      "Townhouse         1380\n",
      "Multiplex          194\n",
      "Name: PropertyType, dtype: int64\n",
      "\n",
      "Predictors after nominal varibale(s) treatment: (18149, 12) \n",
      "\n",
      "\n",
      "                            OLS Regression Results                            \n",
      "==============================================================================\n",
      "Dep. Variable:           AdjSalePrice   R-squared:                       0.596\n",
      "Model:                            OLS   Adj. R-squared:                  0.595\n",
      "Method:                 Least Squares   F-statistic:                     2226.\n",
      "Date:                Mon, 25 May 2020   Prob (F-statistic):               0.00\n",
      "Time:                        18:14:41   Log-Likelihood:            -2.5112e+05\n",
      "No. Observations:               18149   AIC:                         5.023e+05\n",
      "Df Residuals:                   18136   BIC:                         5.024e+05\n",
      "Df Model:                          12                                         \n",
      "Covariance Type:            nonrobust                                         \n",
      "==============================================================================================\n",
      "                                 coef    std err          t      P>|t|      [0.025      0.975]\n",
      "----------------------------------------------------------------------------------------------\n",
      "SqFtTotLiving                193.5518      4.805     40.281      0.000     184.133     202.970\n",
      "SqFtLot                        0.1360      0.064      2.110      0.035       0.010       0.262\n",
      "Bathrooms                   5.031e+04   4317.362     11.652      0.000    4.18e+04    5.88e+04\n",
      "Bedrooms                    -5.54e+04   2834.620    -19.543      0.000    -6.1e+04   -4.98e+04\n",
      "BldgGrade                   1.413e+05   2755.966     51.261      0.000    1.36e+05    1.47e+05\n",
      "NbrLivingUnits               -2.5e+04   1.93e+04     -1.298      0.194   -6.28e+04    1.28e+04\n",
      "SqFtFinBasement                6.4432      5.233      1.231      0.218      -3.814      16.701\n",
      "YrBuilt                    -3671.5685     86.836    -42.281      0.000   -3841.776   -3501.361\n",
      "YrRenovated                   -2.1202      4.432     -0.478      0.632     -10.807       6.567\n",
      "NewConstruction              278.6571   6674.606      0.042      0.967   -1.28e+04    1.34e+04\n",
      "PropertyType_Single Family -1.071e+04   2.92e+04     -0.366      0.714    -6.8e+04    4.66e+04\n",
      "PropertyType_Townhouse      4.765e+04   3.02e+04      1.576      0.115   -1.16e+04    1.07e+05\n",
      "const                        6.42e+06   1.74e+05     36.835      0.000    6.08e+06    6.76e+06\n",
      "==============================================================================\n",
      "Omnibus:                    25586.797   Durbin-Watson:                   1.992\n",
      "Prob(Omnibus):                  0.000   Jarque-Bera (JB):         25553403.265\n",
      "Skew:                           7.846   Prob(JB):                         0.00\n",
      "Kurtosis:                     186.154   Cond. No.                     3.01e+06\n",
      "==============================================================================\n",
      "\n",
      "Warnings:\n",
      "[1] Standard Errors assume that the covariance matrix of the errors is correctly specified.\n",
      "[2] The condition number is large, 3.01e+06. This might indicate that there are\n",
      "strong multicollinearity or other numerical problems.\n"
     ]
    }
   ],
   "source": [
    "predictors = ['SqFtTotLiving', 'SqFtLot', 'Bathrooms', 'Bedrooms',\n",
    "              'BldgGrade', 'PropertyType', 'NbrLivingUnits',\n",
    "              'SqFtFinBasement', 'YrBuilt', 'YrRenovated', \n",
    "              'NewConstruction']\n",
    "\n",
    "print(house[predictors].head())\n",
    "\n",
    "print(\"\\n PropertyType List \\n{}\".format(house['PropertyType'].value_counts(dropna=False)))\n",
    "\n",
    "X = pd.get_dummies(house[predictors], drop_first=True)\n",
    "X['NewConstruction'] = [1 if nc else 0 for nc in X['NewConstruction']]\n",
    "\n",
    "print(\"\\nPredictors after nominal varibale(s) treatment: {} \\n\\n\".format(X.shape))\n",
    "\n",
    "house_full = sm.OLS(house[outcome], X.assign(const=1))\n",
    "results = house_full.fit()\n",
    "print(results.summary())"
   ]
  },
  {
   "cell_type": "markdown",
   "metadata": {},
   "source": [
    "We can use the `stepwise_selection` method from the _dmba_ package."
   ]
  },
  {
   "cell_type": "code",
   "execution_count": 12,
   "metadata": {},
   "outputs": [
    {
     "name": "stdout",
     "output_type": "stream",
     "text": [
      "Variables: SqFtTotLiving, SqFtLot, Bathrooms, Bedrooms, BldgGrade, NbrLivingUnits, SqFtFinBasement, YrBuilt, YrRenovated, NewConstruction, PropertyType_Single Family, PropertyType_Townhouse\n",
      "Start: score=518678.88, constant\n",
      "Step: score=506809.38, add SqFtTotLiving\n",
      "Step: score=504941.39, add BldgGrade\n",
      "Step: score=502853.23, add YrBuilt\n",
      "Step: score=502498.79, add Bedrooms\n",
      "Step: score=502317.45, add Bathrooms\n",
      "Step: score=502266.50, add PropertyType_Townhouse\n",
      "Step: score=502264.34, add SqFtLot\n",
      "Step: score=502263.57, add NbrLivingUnits\n",
      "Step: score=502263.57, unchanged None\n",
      "\n",
      "Intercept: 6455514.035\n",
      "Coefficients:\n",
      " SqFtTotLiving: 195.71554227514596\n",
      " BldgGrade: 140459.8698731352\n",
      " YrBuilt: -3696.073836472584\n",
      " Bedrooms: -55194.72668004559\n",
      " Bathrooms: 50368.02121183089\n",
      " PropertyType_Townhouse: 59973.385947772804\n",
      " SqFtLot: 0.13172564416718324\n",
      " NbrLivingUnits: -20001.16649589833\n"
     ]
    }
   ],
   "source": [
    "y = house[outcome]\n",
    "\n",
    "def train_model(variables):\n",
    "    if len(variables) == 0:\n",
    "        return None\n",
    "    model = LinearRegression()\n",
    "    model.fit(X[variables], y)\n",
    "    return model\n",
    "\n",
    "def score_model(model, variables):\n",
    "    if len(variables) == 0:\n",
    "        return AIC_score(y, [y.mean()] * len(y), model, df=1)\n",
    "    return AIC_score(y, model.predict(X[variables]), model)\n",
    "\n",
    "best_model, best_variables = stepwise_selection(X.columns, train_model, score_model, \n",
    "                                                verbose=True)\n",
    "\n",
    "print()\n",
    "print(f'Intercept: {best_model.intercept_:.3f}')\n",
    "print('Coefficients:')\n",
    "for name, coef in zip(best_variables, best_model.coef_):\n",
    "    print(f' {name}: {coef}')"
   ]
  },
  {
   "cell_type": "markdown",
   "metadata": {},
   "source": [
    "## 3 - Weighted regression\n",
    "For the house data recent sale price is more relavent for future prediction, old sale data is less reliable, therefore, we like to emphasis the recent sale data by apply more weight. We will use year the house sale to 2005 as weight.\n",
    "\n",
    "We can calculate the Year from the date column using either a list comprehension or the data frame's `apply` method."
   ]
  },
  {
   "cell_type": "code",
   "execution_count": 13,
   "metadata": {},
   "outputs": [
    {
     "name": "stdout",
     "output_type": "stream",
     "text": [
      "\n",
      "DocumentDate List \n",
      "2006-07-26    47\n",
      "2006-06-19    44\n",
      "2006-06-14    43\n",
      "2006-07-18    42\n",
      "2006-05-01    41\n",
      "              ..\n",
      "2010-08-21     1\n",
      "2013-01-14     1\n",
      "2010-12-19     1\n",
      "2006-02-18     1\n",
      "2010-12-22     1\n",
      "Name: DocumentDate, Length: 2465, dtype: int64\n"
     ]
    }
   ],
   "source": [
    "print(\"\\nDocumentDate List \\n{}\".format(house['DocumentDate'].value_counts(dropna=False)))"
   ]
  },
  {
   "cell_type": "code",
   "execution_count": 14,
   "metadata": {},
   "outputs": [
    {
     "name": "stderr",
     "output_type": "stream",
     "text": [
      "/Users/yibin/anaconda/lib/python3.6/site-packages/ipykernel_launcher.py:1: SettingWithCopyWarning: \n",
      "A value is trying to be set on a copy of a slice from a DataFrame.\n",
      "Try using .loc[row_indexer,col_indexer] = value instead\n",
      "\n",
      "See the caveats in the documentation: https://pandas.pydata.org/pandas-docs/stable/user_guide/indexing.html#returning-a-view-versus-a-copy\n",
      "  \"\"\"Entry point for launching an IPython kernel.\n",
      "/Users/yibin/anaconda/lib/python3.6/site-packages/ipykernel_launcher.py:2: SettingWithCopyWarning: \n",
      "A value is trying to be set on a copy of a slice from a DataFrame.\n",
      "Try using .loc[row_indexer,col_indexer] = value instead\n",
      "\n",
      "See the caveats in the documentation: https://pandas.pydata.org/pandas-docs/stable/user_guide/indexing.html#returning-a-view-versus-a-copy\n",
      "  \n",
      "/Users/yibin/anaconda/lib/python3.6/site-packages/ipykernel_launcher.py:3: SettingWithCopyWarning: \n",
      "A value is trying to be set on a copy of a slice from a DataFrame.\n",
      "Try using .loc[row_indexer,col_indexer] = value instead\n",
      "\n",
      "See the caveats in the documentation: https://pandas.pydata.org/pandas-docs/stable/user_guide/indexing.html#returning-a-view-versus-a-copy\n",
      "  This is separate from the ipykernel package so we can avoid doing imports until\n"
     ]
    }
   ],
   "source": [
    "house['Year'] = [int(date.split('-')[0]) for date in house.DocumentDate]  #list comprehension\n",
    "house['Year'] = house.DocumentDate.apply(lambda d: int(d.split('-')[0]))  # apply()\n",
    "house['Weight'] = house.Year - 2005"
   ]
  },
  {
   "cell_type": "code",
   "execution_count": 15,
   "metadata": {},
   "outputs": [
    {
     "data": {
      "text/html": [
       "<div>\n",
       "<style scoped>\n",
       "    .dataframe tbody tr th:only-of-type {\n",
       "        vertical-align: middle;\n",
       "    }\n",
       "\n",
       "    .dataframe tbody tr th {\n",
       "        vertical-align: top;\n",
       "    }\n",
       "\n",
       "    .dataframe thead th {\n",
       "        text-align: right;\n",
       "    }\n",
       "</style>\n",
       "<table border=\"1\" class=\"dataframe\">\n",
       "  <thead>\n",
       "    <tr style=\"text-align: right;\">\n",
       "      <th></th>\n",
       "      <th>predictor</th>\n",
       "      <th>house_lm</th>\n",
       "      <th>house_wt</th>\n",
       "    </tr>\n",
       "  </thead>\n",
       "  <tbody>\n",
       "    <tr>\n",
       "      <th>0</th>\n",
       "      <td>SqFtTotLiving</td>\n",
       "      <td>225.816554</td>\n",
       "      <td>240.913546</td>\n",
       "    </tr>\n",
       "    <tr>\n",
       "      <th>1</th>\n",
       "      <td>SqFtLot</td>\n",
       "      <td>-0.016912</td>\n",
       "      <td>-0.150278</td>\n",
       "    </tr>\n",
       "    <tr>\n",
       "      <th>2</th>\n",
       "      <td>Bathrooms</td>\n",
       "      <td>-15176.214094</td>\n",
       "      <td>-25937.841355</td>\n",
       "    </tr>\n",
       "    <tr>\n",
       "      <th>3</th>\n",
       "      <td>Bedrooms</td>\n",
       "      <td>-51016.630963</td>\n",
       "      <td>-54764.750332</td>\n",
       "    </tr>\n",
       "    <tr>\n",
       "      <th>4</th>\n",
       "      <td>BldgGrade</td>\n",
       "      <td>109131.777208</td>\n",
       "      <td>119545.068021</td>\n",
       "    </tr>\n",
       "    <tr>\n",
       "      <th>5</th>\n",
       "      <td>intercept</td>\n",
       "      <td>-537292.341505</td>\n",
       "      <td>-607098.244372</td>\n",
       "    </tr>\n",
       "  </tbody>\n",
       "</table>\n",
       "</div>"
      ],
      "text/plain": [
       "       predictor       house_lm       house_wt\n",
       "0  SqFtTotLiving     225.816554     240.913546\n",
       "1        SqFtLot      -0.016912      -0.150278\n",
       "2      Bathrooms  -15176.214094  -25937.841355\n",
       "3       Bedrooms  -51016.630963  -54764.750332\n",
       "4      BldgGrade  109131.777208  119545.068021\n",
       "5      intercept -537292.341505 -607098.244372"
      ]
     },
     "execution_count": 15,
     "metadata": {},
     "output_type": "execute_result"
    }
   ],
   "source": [
    "predictors = ['SqFtTotLiving', 'SqFtLot', 'Bathrooms', \n",
    "              'Bedrooms', 'BldgGrade']\n",
    "outcome = 'AdjSalePrice'\n",
    "\n",
    "house_wt = LinearRegression()\n",
    "house_wt.fit(house[predictors], house[outcome], sample_weight=house.Weight)\n",
    "pd.DataFrame({\n",
    "    'predictor': predictors,\n",
    "    'house_lm': house_lm.coef_,\n",
    "    'house_wt': house_wt.coef_,\n",
    "}).append({\n",
    "    'predictor': 'intercept', \n",
    "    'house_lm': house_lm.intercept_,\n",
    "    'house_wt': house_wt.intercept_,\n",
    "}, ignore_index=True)"
   ]
  },
  {
   "cell_type": "code",
   "execution_count": 17,
   "metadata": {},
   "outputs": [
    {
     "name": "stdout",
     "output_type": "stream",
     "text": [
      "       abs_residual_lm  abs_residual_wt  Year\n",
      "10533     43867.191248     48697.793949  2007\n",
      "25462     28097.746723     41912.261275  2006\n",
      "11887     97292.094547     68095.396721  2006\n",
      "11120     59729.351955     48980.389653  2007\n",
      "7404     328162.111734    368992.621935  2012\n",
      "\n",
      "\n",
      "Year   Abs_residual_lm    Abs_residual_wt\n",
      "2006 142146.43105157308 147628.15901069436\n",
      "2007 148850.15421396532 153238.17328783948\n",
      "2008 142607.4236078624 146525.93056700155\n",
      "2009 144326.80334668572 148230.63166698866\n",
      "2010 164703.01217686944 167860.36779065046\n",
      "2011 166876.51747634498 169913.22407987464\n",
      "2012 168235.42282019847 170365.50573923826\n",
      "2013 203138.83365696864 205992.08931926044\n",
      "2014 184906.3273209374 186633.50733063632\n",
      "2015 169975.70679862463 168306.36868563242\n"
     ]
    },
    {
     "data": {
      "image/png": "[encoded data removed]",
      "text/plain": [
       "<Figure size 720x288 with 2 Axes>"
      ]
     },
     "metadata": {
      "needs_background": "light"
     },
     "output_type": "display_data"
    }
   ],
   "source": [
    "residuals = pd.DataFrame({\n",
    "    'abs_residual_lm': np.abs(house_lm.predict(house[predictors]) - house[outcome]),\n",
    "    'abs_residual_wt': np.abs(house_wt.predict(house[predictors]) - house[outcome]),\n",
    "    'Year': house['Year'],\n",
    "})\n",
    "print(residuals.head())\n",
    "axes = residuals.boxplot(['abs_residual_lm', 'abs_residual_wt'], by='Year', figsize=(10, 4))\n",
    "axes[0].set_ylim(0, 300000)\n",
    "\n",
    "print(\"\\n\\nYear   Abs_residual_lm    Abs_residual_wt\")\n",
    "for year, group in residuals.groupby('Year'):\n",
    "    print(year, np.mean(group['abs_residual_lm']), np.mean(group['abs_residual_wt']))"
   ]
  },
  {
   "cell_type": "markdown",
   "metadata": {},
   "source": [
    "Seems only help 2015 prediction reduce the residuale.If we have a recent holdout sample we can test the weight could help for future prediction or not"
   ]
  },
  {
   "cell_type": "markdown",
   "metadata": {},
   "source": [
    "# 4 - Regularization"
   ]
  },
  {
   "cell_type": "code",
   "execution_count": 18,
   "metadata": {},
   "outputs": [
    {
     "name": "stdout",
     "output_type": "stream",
     "text": [
      "       SqFtTotLiving  SqFtLot  Bathrooms  Bedrooms  BldgGrade   PropertyType  \\\n",
      "10533           1600     2722       2.25         2          7  Single Family   \n",
      "25462           1350     5750       2.00         4          7  Single Family   \n",
      "11887           2190     2944       1.50         3          9  Single Family   \n",
      "11120           1360    12000       2.00         3          7  Single Family   \n",
      "7404            4160    47480       3.25         4         10  Single Family   \n",
      "\n",
      "       NbrLivingUnits  SqFtFinBasement  YrBuilt  YrRenovated  NewConstruction  \n",
      "10533               1                0     2006            0             True  \n",
      "25462               1                0     1981            0            False  \n",
      "11887               1              450     1924            0            False  \n",
      "11120               1                0     1979            0            False  \n",
      "7404                1                0     1995            0            False  \n",
      "\n",
      " PropertyType List \n",
      "Single Family    16575\n",
      "Townhouse         1380\n",
      "Multiplex          194\n",
      "Name: PropertyType, dtype: int64\n"
     ]
    }
   ],
   "source": [
    "predictors = ['SqFtTotLiving', 'SqFtLot', 'Bathrooms', 'Bedrooms',\n",
    "              'BldgGrade', 'PropertyType', 'NbrLivingUnits',\n",
    "              'SqFtFinBasement', 'YrBuilt', 'YrRenovated', \n",
    "              'NewConstruction']\n",
    "\n",
    "outcome = 'AdjSalePrice'\n",
    "\n",
    "print(house[predictors].head())\n",
    "\n",
    "print(\"\\n PropertyType List \\n{}\".format(house['PropertyType'].value_counts(dropna=False)))\n",
    "\n",
    "X_train = pd.get_dummies(house[predictors], drop_first=True)\n",
    "X_train['NewConstruction'] = [1 if nc else 0 for nc in X_train['NewConstruction']]\n",
    "y_train = house[outcome]\n",
    "\n",
    "X_test = pd.get_dummies(house_test[predictors], drop_first=True)\n",
    "X_test['NewConstruction'] = [1 if nc else 0 for nc in X_test['NewConstruction']]\n",
    "y_test = house_test[outcome]"
   ]
  },
  {
   "cell_type": "markdown",
   "metadata": {},
   "source": [
    "### Regular Multiple Regression"
   ]
  },
  {
   "cell_type": "code",
   "execution_count": 19,
   "metadata": {},
   "outputs": [
    {
     "data": {
      "text/plain": [
       "{'Intercept': 6420325.061,\n",
       " 'SqFtTotLiving': 193.552,\n",
       " 'SqFtLot': 0.136,\n",
       " 'Bathrooms': 50307.759,\n",
       " 'Bedrooms': -55397.312,\n",
       " 'BldgGrade': 141274.485,\n",
       " 'NbrLivingUnits': -25002.032,\n",
       " 'SqFtFinBasement': 6.443,\n",
       " 'YrBuilt': -3671.569,\n",
       " 'YrRenovated': -2.12,\n",
       " 'NewConstruction': 278.657,\n",
       " 'PropertyType_Single Family': -10714.119}"
      ]
     },
     "execution_count": 19,
     "metadata": {},
     "output_type": "execute_result"
    }
   ],
   "source": [
    "house_lm = LinearRegression()\n",
    "house_lm.fit(X_train, y_train)\n",
    "\n",
    "mlr_coefs = dict(\n",
    "    zip(['Intercept'] + X_train.columns.tolist()[:-1], \n",
    "        np.round(np.concatenate((house_lm.intercept_, house_lm.coef_), \n",
    "                                axis=None), 3))\n",
    ")\n",
    "\n",
    "mlr_coefs"
   ]
  },
  {
   "cell_type": "code",
   "execution_count": 20,
   "metadata": {},
   "outputs": [
    {
     "name": "stdout",
     "output_type": "stream",
     "text": [
      "regular mlr MSE: 238712\n",
      "r2_test: 0.5885\n"
     ]
    }
   ],
   "source": [
    "fitted_test = house_lm.predict(X_test)\n",
    "MSE_test = np.sqrt(mean_squared_error(y_test, fitted_test))\n",
    "r2 = r2_score(y_test, fitted_test)\n",
    "print(f'regular mlr MSE: {MSE_test:.0f}')\n",
    "print(f'r2_test: {r2:.4f}')"
   ]
  },
  {
   "cell_type": "markdown",
   "metadata": {},
   "source": [
    "### L2 - Ridge regression (Parameter shrinkage)"
   ]
  },
  {
   "cell_type": "code",
   "execution_count": 21,
   "metadata": {},
   "outputs": [
    {
     "name": "stdout",
     "output_type": "stream",
     "text": [
      "Ridge Regression MAE: 138247.612\n",
      "Ridge Regression coefficients:\n"
     ]
    },
    {
     "data": {
      "text/plain": [
       "{'Intercept': 6316005.942,\n",
       " 'SqFtTotLiving': 190.417,\n",
       " 'SqFtLot': 0.144,\n",
       " 'Bathrooms': 51040.744,\n",
       " 'Bedrooms': -54178.926,\n",
       " 'BldgGrade': 141014.125,\n",
       " 'NbrLivingUnits': -25702.801,\n",
       " 'SqFtFinBasement': 8.547,\n",
       " 'YrBuilt': -3616.321,\n",
       " 'YrRenovated': -1.268,\n",
       " 'NewConstruction': 178.346,\n",
       " 'PropertyType_Single Family': -12346.25}"
      ]
     },
     "execution_count": 21,
     "metadata": {},
     "output_type": "execute_result"
    }
   ],
   "source": [
    "ridge_cv = RidgeCV(normalize=True, alphas=np.logspace(-10, 1, 400))\n",
    "ridge_model = ridge_cv.fit(X_train, y_train)\n",
    "ridge_prediction = ridge_model.predict(X_test)\n",
    "ridge_mae = np.mean(np.abs(y_test - ridge_prediction))\n",
    "ridge_coefs = dict(\n",
    "    zip(['Intercept'] + X_train.columns.tolist()[:-1], \n",
    "        np.round(np.concatenate((ridge_model.intercept_, ridge_model.coef_), \n",
    "                                axis=None), 3))\n",
    ")\n",
    "\n",
    "print('Ridge Regression MAE: {}'.format(np.round(ridge_mae, 3)))\n",
    "print('Ridge Regression coefficients:')\n",
    "ridge_coefs"
   ]
  },
  {
   "cell_type": "markdown",
   "metadata": {},
   "source": [
    "### L1 - Lasso regression (Parameter sparsity)"
   ]
  },
  {
   "cell_type": "code",
   "execution_count": 22,
   "metadata": {},
   "outputs": [
    {
     "name": "stdout",
     "output_type": "stream",
     "text": [
      "LASSO MAE: 138188.618\n",
      "LASSO coefficients:\n"
     ]
    },
    {
     "data": {
      "text/plain": [
       "{'Intercept': 6263712.595,\n",
       " 'SqFtTotLiving': 192.268,\n",
       " 'SqFtLot': 0.116,\n",
       " 'Bathrooms': 48323.958,\n",
       " 'Bedrooms': -53737.993,\n",
       " 'BldgGrade': 141226.119,\n",
       " 'NbrLivingUnits': -14734.723,\n",
       " 'SqFtFinBasement': 6.496,\n",
       " 'YrBuilt': -3601.736,\n",
       " 'YrRenovated': -0.0,\n",
       " 'NewConstruction': 0.0,\n",
       " 'PropertyType_Single Family': -0.0}"
      ]
     },
     "execution_count": 22,
     "metadata": {},
     "output_type": "execute_result"
    }
   ],
   "source": [
    "lasso_cv = LassoCV(normalize=True, alphas=np.logspace(-10, 1, 400))\n",
    "lasso_model = lasso_cv.fit(X_train, y_train)\n",
    "lasso_prediction = lasso_model.predict(X_test)\n",
    "lasso_mae = np.mean(np.abs(y_test - lasso_prediction))\n",
    "lasso_coefs = dict(\n",
    "    zip(['Intercept'] + X_train.columns.tolist()[:-1], \n",
    "        np.round(np.concatenate((lasso_model.intercept_, lasso_model.coef_), axis=None), 3))\n",
    ")\n",
    "\n",
    "print('LASSO MAE: {}'.format(np.round(lasso_mae, 3)))\n",
    "print('LASSO coefficients:')\n",
    "lasso_coefs"
   ]
  },
  {
   "cell_type": "markdown",
   "metadata": {},
   "source": [
    "# Home Work"
   ]
  },
  {
   "cell_type": "markdown",
   "metadata": {},
   "source": [
    "1. Compare the three model fits and draw conclusion \n",
    "from the comparision of the three model fit regarding there coefficent difference"
   ]
  },
  {
   "cell_type": "markdown",
   "metadata": {},
   "source": [
    "2. Show the three model performance on both tran and test"
   ]
  },
  {
   "cell_type": "code",
   "execution_count": 27,
   "metadata": {},
   "outputs": [
    {
     "data": {
      "text/html": [
       "<div>\n",
       "<style scoped>\n",
       "    .dataframe tbody tr th:only-of-type {\n",
       "        vertical-align: middle;\n",
       "    }\n",
       "\n",
       "    .dataframe tbody tr th {\n",
       "        vertical-align: top;\n",
       "    }\n",
       "\n",
       "    .dataframe thead th {\n",
       "        text-align: right;\n",
       "    }\n",
       "</style>\n",
       "<table border=\"1\" class=\"dataframe\">\n",
       "  <thead>\n",
       "    <tr style=\"text-align: right;\">\n",
       "      <th></th>\n",
       "      <th>Intercept</th>\n",
       "      <th>SqFtTotLiving</th>\n",
       "      <th>SqFtLot</th>\n",
       "      <th>Bathrooms</th>\n",
       "      <th>Bedrooms</th>\n",
       "      <th>BldgGrade</th>\n",
       "      <th>NbrLivingUnits</th>\n",
       "      <th>SqFtFinBasement</th>\n",
       "      <th>YrBuilt</th>\n",
       "      <th>YrRenovated</th>\n",
       "      <th>NewConstruction</th>\n",
       "      <th>PropertyType_Single Family</th>\n",
       "    </tr>\n",
       "    <tr>\n",
       "      <th>Model</th>\n",
       "      <th></th>\n",
       "      <th></th>\n",
       "      <th></th>\n",
       "      <th></th>\n",
       "      <th></th>\n",
       "      <th></th>\n",
       "      <th></th>\n",
       "      <th></th>\n",
       "      <th></th>\n",
       "      <th></th>\n",
       "      <th></th>\n",
       "      <th></th>\n",
       "    </tr>\n",
       "  </thead>\n",
       "  <tbody>\n",
       "    <tr>\n",
       "      <th>MLR</th>\n",
       "      <td>6420325.061</td>\n",
       "      <td>193.552</td>\n",
       "      <td>0.136</td>\n",
       "      <td>50307.759</td>\n",
       "      <td>-55397.312</td>\n",
       "      <td>141274.485</td>\n",
       "      <td>-25002.032</td>\n",
       "      <td>6.443</td>\n",
       "      <td>-3671.569</td>\n",
       "      <td>-2.120</td>\n",
       "      <td>278.657</td>\n",
       "      <td>-10714.119</td>\n",
       "    </tr>\n",
       "    <tr>\n",
       "      <th>RidgeRegression</th>\n",
       "      <td>6316005.942</td>\n",
       "      <td>190.417</td>\n",
       "      <td>0.144</td>\n",
       "      <td>51040.744</td>\n",
       "      <td>-54178.926</td>\n",
       "      <td>141014.125</td>\n",
       "      <td>-25702.801</td>\n",
       "      <td>8.547</td>\n",
       "      <td>-3616.321</td>\n",
       "      <td>-1.268</td>\n",
       "      <td>178.346</td>\n",
       "      <td>-12346.250</td>\n",
       "    </tr>\n",
       "    <tr>\n",
       "      <th>LassoRegression</th>\n",
       "      <td>6263712.595</td>\n",
       "      <td>192.268</td>\n",
       "      <td>0.116</td>\n",
       "      <td>48323.958</td>\n",
       "      <td>-53737.993</td>\n",
       "      <td>141226.119</td>\n",
       "      <td>-14734.723</td>\n",
       "      <td>6.496</td>\n",
       "      <td>-3601.736</td>\n",
       "      <td>-0.000</td>\n",
       "      <td>0.000</td>\n",
       "      <td>-0.000</td>\n",
       "    </tr>\n",
       "  </tbody>\n",
       "</table>\n",
       "</div>"
      ],
      "text/plain": [
       "                   Intercept  SqFtTotLiving  SqFtLot  Bathrooms   Bedrooms  \\\n",
       "Model                                                                        \n",
       "MLR              6420325.061        193.552    0.136  50307.759 -55397.312   \n",
       "RidgeRegression  6316005.942        190.417    0.144  51040.744 -54178.926   \n",
       "LassoRegression  6263712.595        192.268    0.116  48323.958 -53737.993   \n",
       "\n",
       "                  BldgGrade  NbrLivingUnits  SqFtFinBasement   YrBuilt  \\\n",
       "Model                                                                    \n",
       "MLR              141274.485      -25002.032            6.443 -3671.569   \n",
       "RidgeRegression  141014.125      -25702.801            8.547 -3616.321   \n",
       "LassoRegression  141226.119      -14734.723            6.496 -3601.736   \n",
       "\n",
       "                 YrRenovated  NewConstruction  PropertyType_Single Family  \n",
       "Model                                                                      \n",
       "MLR                   -2.120          278.657                  -10714.119  \n",
       "RidgeRegression       -1.268          178.346                  -12346.250  \n",
       "LassoRegression       -0.000            0.000                      -0.000  "
      ]
     },
     "execution_count": 27,
     "metadata": {},
     "output_type": "execute_result"
    }
   ],
   "source": [
    "model_coefs = pd.DataFrame.from_dict([mlr_coefs, ridge_coefs, lasso_coefs])\n",
    "model_coefs['Model'] = ['MLR', 'RidgeRegression', 'LassoRegression']\n",
    "model_coefs.set_index(['Model'])"
   ]
  },
  {
   "cell_type": "code",
   "execution_count": null,
   "metadata": {},
   "outputs": [],
   "source": []
  }
 ],
 "metadata": {
  "kernelspec": {
   "display_name": "Python 3 (ipykernel)",
   "language": "python",
   "name": "python3"
  },
  "language_info": {
   "codemirror_mode": {
    "name": "ipython",
    "version": 3
   },
   "file_extension": ".py",
   "mimetype": "text/x-python",
   "name": "python",
   "nbconvert_exporter": "python",
   "pygments_lexer": "ipython3",
   "version": "3.9.13"
  }
 },
 "nbformat": 4,
 "nbformat_minor": 2
}
