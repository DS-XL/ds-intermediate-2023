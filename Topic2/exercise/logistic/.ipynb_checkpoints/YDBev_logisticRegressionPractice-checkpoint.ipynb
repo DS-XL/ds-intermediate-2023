{
 "cells": [
  {
   "cell_type": "markdown",
   "metadata": {},
   "source": [
    "# This is the practice for logistic regression\n",
    "## Goals:\n",
    "### 1 - Fit logistic regression model (Sklearn and GLM- statsmodel)\n",
    "### 2 - metrics to evaluate binary classification model"
   ]
  },
  {
   "cell_type": "code",
   "execution_count": 2,
   "metadata": {},
   "outputs": [],
   "source": [
    "from pathlib import Path\n",
    "import pandas as pd\n",
    "import numpy as np\n",
    "from sklearn.model_selection import train_test_split\n",
    "\n",
    "from sklearn.linear_model import LogisticRegression #, LogisticRegressionCV\n",
    "from sklearn.tree import DecisionTreeClassifier\n",
    "from sklearn.metrics import confusion_matrix, precision_recall_fscore_support\n",
    "from sklearn.metrics import roc_curve, accuracy_score, roc_auc_score\n",
    "\n",
    "import statsmodels.api as sm\n",
    "\n",
    "from dmba import classificationSummary\n",
    "\n",
    "import seaborn as sns\n",
    "import matplotlib.pyplot as plt\n",
    "\n",
    "%matplotlib inline"
   ]
  },
  {
   "cell_type": "markdown",
   "metadata": {},
   "source": [
    "Define paths to data sets. "
   ]
  },
  {
   "cell_type": "code",
   "execution_count": 3,
   "metadata": {},
   "outputs": [
    {
     "name": "stdout",
     "output_type": "stream",
     "text": [
      "loan3000.csv\n"
     ]
    }
   ],
   "source": [
    "# DATA = Path('.').resolve().parents[1] / 'Practice/logit'\n",
    "# LOAN3000_CSV = DATA / 'loan3000.csv'\n",
    "LOAN3000_CSV = 'loan3000.csv'\n",
    "print(LOAN3000_CSV)"
   ]
  },
  {
   "cell_type": "markdown",
   "metadata": {},
   "source": [
    "### Load Data and EDA"
   ]
  },
  {
   "cell_type": "code",
   "execution_count": 10,
   "metadata": {},
   "outputs": [
    {
     "name": "stdout",
     "output_type": "stream",
     "text": [
      "(3000, 6)\n",
      "Index(['Unnamed: 0', 'outcome', 'purpose_', 'dti', 'borrower_score',\n",
      "       'payment_inc_ratio'],\n",
      "      dtype='object')\n"
     ]
    },
    {
     "data": {
      "text/html": [
       "<div>\n",
       "<style scoped>\n",
       "    .dataframe tbody tr th:only-of-type {\n",
       "        vertical-align: middle;\n",
       "    }\n",
       "\n",
       "    .dataframe tbody tr th {\n",
       "        vertical-align: top;\n",
       "    }\n",
       "\n",
       "    .dataframe thead th {\n",
       "        text-align: right;\n",
       "    }\n",
       "</style>\n",
       "<table border=\"1\" class=\"dataframe\">\n",
       "  <thead>\n",
       "    <tr style=\"text-align: right;\">\n",
       "      <th></th>\n",
       "      <th>Unnamed: 0</th>\n",
       "      <th>outcome</th>\n",
       "      <th>purpose_</th>\n",
       "      <th>dti</th>\n",
       "      <th>borrower_score</th>\n",
       "      <th>payment_inc_ratio</th>\n",
       "    </tr>\n",
       "  </thead>\n",
       "  <tbody>\n",
       "    <tr>\n",
       "      <th>0</th>\n",
       "      <td>32109</td>\n",
       "      <td>paid off</td>\n",
       "      <td>debt_consolidation</td>\n",
       "      <td>21.23</td>\n",
       "      <td>0.40</td>\n",
       "      <td>5.11135</td>\n",
       "    </tr>\n",
       "    <tr>\n",
       "      <th>1</th>\n",
       "      <td>16982</td>\n",
       "      <td>default</td>\n",
       "      <td>credit_card</td>\n",
       "      <td>15.49</td>\n",
       "      <td>0.40</td>\n",
       "      <td>5.43165</td>\n",
       "    </tr>\n",
       "    <tr>\n",
       "      <th>2</th>\n",
       "      <td>25335</td>\n",
       "      <td>paid off</td>\n",
       "      <td>debt_consolidation</td>\n",
       "      <td>27.30</td>\n",
       "      <td>0.70</td>\n",
       "      <td>9.23003</td>\n",
       "    </tr>\n",
       "    <tr>\n",
       "      <th>3</th>\n",
       "      <td>34580</td>\n",
       "      <td>paid off</td>\n",
       "      <td>major_purchase</td>\n",
       "      <td>21.11</td>\n",
       "      <td>0.40</td>\n",
       "      <td>2.33482</td>\n",
       "    </tr>\n",
       "    <tr>\n",
       "      <th>4</th>\n",
       "      <td>14424</td>\n",
       "      <td>default</td>\n",
       "      <td>debt_consolidation</td>\n",
       "      <td>16.46</td>\n",
       "      <td>0.45</td>\n",
       "      <td>12.10320</td>\n",
       "    </tr>\n",
       "  </tbody>\n",
       "</table>\n",
       "</div>"
      ],
      "text/plain": [
       "   Unnamed: 0   outcome            purpose_    dti  borrower_score  \\\n",
       "0       32109  paid off  debt_consolidation  21.23            0.40   \n",
       "1       16982   default         credit_card  15.49            0.40   \n",
       "2       25335  paid off  debt_consolidation  27.30            0.70   \n",
       "3       34580  paid off      major_purchase  21.11            0.40   \n",
       "4       14424   default  debt_consolidation  16.46            0.45   \n",
       "\n",
       "   payment_inc_ratio  \n",
       "0            5.11135  \n",
       "1            5.43165  \n",
       "2            9.23003  \n",
       "3            2.33482  \n",
       "4           12.10320  "
      ]
     },
     "execution_count": 10,
     "metadata": {},
     "output_type": "execute_result"
    }
   ],
   "source": [
    "loan_data = pd.read_csv(LOAN3000_CSV)\n",
    "print(loan_data.shape)\n",
    "print(loan_data.columns)\n",
    "loan_data.head()"
   ]
  },
  {
   "cell_type": "code",
   "execution_count": 11,
   "metadata": {},
   "outputs": [
    {
     "name": "stdout",
     "output_type": "stream",
     "text": [
      "<class 'pandas.core.frame.DataFrame'>\n",
      "RangeIndex: 3000 entries, 0 to 2999\n",
      "Data columns (total 6 columns):\n",
      " #   Column             Non-Null Count  Dtype  \n",
      "---  ------             --------------  -----  \n",
      " 0   Unnamed: 0         3000 non-null   int64  \n",
      " 1   outcome            3000 non-null   object \n",
      " 2   purpose_           3000 non-null   object \n",
      " 3   dti                3000 non-null   float64\n",
      " 4   borrower_score     3000 non-null   float64\n",
      " 5   payment_inc_ratio  3000 non-null   float64\n",
      "dtypes: float64(3), int64(1), object(2)\n",
      "memory usage: 140.8+ KB\n"
     ]
    }
   ],
   "source": [
    "loan_data.info()"
   ]
  },
  {
   "cell_type": "markdown",
   "metadata": {},
   "source": [
    "##### Task: Create 'dv' before run the cell"
   ]
  },
  {
   "cell_type": "code",
   "execution_count": 12,
   "metadata": {},
   "outputs": [
    {
     "name": "stdout",
     "output_type": "stream",
     "text": [
      "(3000, 6)\n",
      "Index(['outcome', 'purpose', 'dti', 'borrower_score', 'payment_inc_ratio',\n",
      "       'dv'],\n",
      "      dtype='object')\n",
      "    outcome             purpose    dti  borrower_score  payment_inc_ratio  dv\n",
      "0  paid off  debt_consolidation  21.23            0.40            5.11135   0\n",
      "1   default         credit_card  15.49            0.40            5.43165   1\n",
      "2  paid off  debt_consolidation  27.30            0.70            9.23003   0\n",
      "3  paid off      major_purchase  21.11            0.40            2.33482   0\n",
      "4   default  debt_consolidation  16.46            0.45           12.10320   1\n"
     ]
    }
   ],
   "source": [
    "loan_data = loan_data.drop(['Unnamed: 0'], axis=1).copy()\n",
    "loan_data.columns=['outcome', 'purpose', 'dti', 'borrower_score', 'payment_inc_ratio']\n",
    "loan_data['dv'] = [1 if out==\"default\" else 0 for out in loan_data['outcome']]\n",
    "\n",
    "print(loan_data.shape)\n",
    "print(loan_data.columns)\n",
    "print(loan_data.head())"
   ]
  },
  {
   "cell_type": "code",
   "execution_count": 13,
   "metadata": {},
   "outputs": [
    {
     "name": "stdout",
     "output_type": "stream",
     "text": [
      "\n",
      "outcome\n",
      "paid off    1555\n",
      "default     1445\n",
      "Name: outcome, dtype: int64\n",
      "\n",
      "purpose\n",
      "debt_consolidation    1738\n",
      "credit_card            525\n",
      "other                  318\n",
      "home_improvement       186\n",
      "major_purchase         115\n",
      "small_business          88\n",
      "medical                 30\n",
      "Name: purpose, dtype: int64\n",
      "\n",
      "dti\n",
      "17.33    7\n",
      "16.20    6\n",
      "22.14    5\n",
      "18.62    5\n",
      "21.26    5\n",
      "        ..\n",
      "24.69    1\n",
      "0.70     1\n",
      "22.24    1\n",
      "6.36     1\n",
      "26.67    1\n",
      "Name: dti, Length: 1870, dtype: int64\n",
      "\n",
      "borrower_score\n",
      "0.50    444\n",
      "0.55    423\n",
      "0.45    418\n",
      "0.60    361\n",
      "0.40    354\n",
      "0.65    244\n",
      "0.35    218\n",
      "0.70    159\n",
      "0.30    150\n",
      "0.25     77\n",
      "0.75     71\n",
      "0.20     30\n",
      "0.80     30\n",
      "0.85     10\n",
      "0.15      7\n",
      "0.90      3\n",
      "0.10      1\n",
      "Name: borrower_score, dtype: int64\n",
      "\n",
      "payment_inc_ratio\n",
      "14.16070    2\n",
      "9.82954     2\n",
      "12.28830    2\n",
      "7.82267     2\n",
      "8.08560     2\n",
      "           ..\n",
      "8.26695     1\n",
      "7.37860     1\n",
      "3.83265     1\n",
      "4.68200     1\n",
      "12.88190    1\n",
      "Name: payment_inc_ratio, Length: 2962, dtype: int64\n",
      "\n",
      "dv\n",
      "0    1555\n",
      "1    1445\n",
      "Name: dv, dtype: int64\n"
     ]
    }
   ],
   "source": [
    "for nm in loan_data.columns:\n",
    "    print(\"\\n{}\".format(nm))\n",
    "    print(loan_data[nm].value_counts())"
   ]
  },
  {
   "cell_type": "markdown",
   "metadata": {},
   "source": [
    "##### Task - Please use 'dv' columnn calculate event rate, finish below cell before run"
   ]
  },
  {
   "cell_type": "code",
   "execution_count": 15,
   "metadata": {},
   "outputs": [
    {
     "name": "stdout",
     "output_type": "stream",
     "text": [
      "event rate is: 0.4816666666666667\n"
     ]
    }
   ],
   "source": [
    "print(\"event rate is: {}\".format(loan_data['dv'].mean()))\n",
    "# print(\"event rate is: {}\".format(sum(loan_data['dv'])*100/len(loan_data)))"
   ]
  },
  {
   "cell_type": "code",
   "execution_count": 16,
   "metadata": {},
   "outputs": [
    {
     "data": {
      "text/plain": [
       "outcome              0\n",
       "purpose              0\n",
       "dti                  0\n",
       "borrower_score       0\n",
       "payment_inc_ratio    0\n",
       "dv                   0\n",
       "dtype: int64"
      ]
     },
     "execution_count": 16,
     "metadata": {},
     "output_type": "execute_result"
    }
   ],
   "source": [
    "loan_data.isnull().sum()"
   ]
  },
  {
   "cell_type": "code",
   "execution_count": 17,
   "metadata": {},
   "outputs": [
    {
     "data": {
      "text/html": [
       "<div>\n",
       "<style scoped>\n",
       "    .dataframe tbody tr th:only-of-type {\n",
       "        vertical-align: middle;\n",
       "    }\n",
       "\n",
       "    .dataframe tbody tr th {\n",
       "        vertical-align: top;\n",
       "    }\n",
       "\n",
       "    .dataframe thead th {\n",
       "        text-align: right;\n",
       "    }\n",
       "</style>\n",
       "<table border=\"1\" class=\"dataframe\">\n",
       "  <thead>\n",
       "    <tr style=\"text-align: right;\">\n",
       "      <th></th>\n",
       "      <th>count</th>\n",
       "      <th>mean</th>\n",
       "      <th>std</th>\n",
       "      <th>min</th>\n",
       "      <th>25%</th>\n",
       "      <th>50%</th>\n",
       "      <th>75%</th>\n",
       "      <th>max</th>\n",
       "      <th>nuniqueWna</th>\n",
       "      <th>nunique</th>\n",
       "    </tr>\n",
       "  </thead>\n",
       "  <tbody>\n",
       "    <tr>\n",
       "      <th>dti</th>\n",
       "      <td>3000.0</td>\n",
       "      <td>16.120103</td>\n",
       "      <td>7.590890</td>\n",
       "      <td>0.000000</td>\n",
       "      <td>10.362500</td>\n",
       "      <td>15.98500</td>\n",
       "      <td>21.3600</td>\n",
       "      <td>35.2700</td>\n",
       "      <td>1870</td>\n",
       "      <td>1870</td>\n",
       "    </tr>\n",
       "    <tr>\n",
       "      <th>borrower_score</th>\n",
       "      <td>3000.0</td>\n",
       "      <td>0.502333</td>\n",
       "      <td>0.128297</td>\n",
       "      <td>0.100000</td>\n",
       "      <td>0.400000</td>\n",
       "      <td>0.50000</td>\n",
       "      <td>0.6000</td>\n",
       "      <td>0.9000</td>\n",
       "      <td>17</td>\n",
       "      <td>17</td>\n",
       "    </tr>\n",
       "    <tr>\n",
       "      <th>payment_inc_ratio</th>\n",
       "      <td>3000.0</td>\n",
       "      <td>8.137902</td>\n",
       "      <td>4.296310</td>\n",
       "      <td>0.221906</td>\n",
       "      <td>4.758135</td>\n",
       "      <td>7.58842</td>\n",
       "      <td>11.0915</td>\n",
       "      <td>33.6309</td>\n",
       "      <td>2962</td>\n",
       "      <td>2962</td>\n",
       "    </tr>\n",
       "    <tr>\n",
       "      <th>dv</th>\n",
       "      <td>3000.0</td>\n",
       "      <td>0.481667</td>\n",
       "      <td>0.499747</td>\n",
       "      <td>0.000000</td>\n",
       "      <td>0.000000</td>\n",
       "      <td>0.00000</td>\n",
       "      <td>1.0000</td>\n",
       "      <td>1.0000</td>\n",
       "      <td>2</td>\n",
       "      <td>2</td>\n",
       "    </tr>\n",
       "  </tbody>\n",
       "</table>\n",
       "</div>"
      ],
      "text/plain": [
       "                    count       mean       std       min        25%       50%  \\\n",
       "dti                3000.0  16.120103  7.590890  0.000000  10.362500  15.98500   \n",
       "borrower_score     3000.0   0.502333  0.128297  0.100000   0.400000   0.50000   \n",
       "payment_inc_ratio  3000.0   8.137902  4.296310  0.221906   4.758135   7.58842   \n",
       "dv                 3000.0   0.481667  0.499747  0.000000   0.000000   0.00000   \n",
       "\n",
       "                       75%      max  nuniqueWna  nunique  \n",
       "dti                21.3600  35.2700        1870     1870  \n",
       "borrower_score      0.6000   0.9000          17       17  \n",
       "payment_inc_ratio  11.0915  33.6309        2962     2962  \n",
       "dv                  1.0000   1.0000           2        2  "
      ]
     },
     "execution_count": 17,
     "metadata": {},
     "output_type": "execute_result"
    }
   ],
   "source": [
    "numcols=list(loan_data.describe().columns)\n",
    "num_stats = loan_data.describe().transpose() \n",
    "num_stats[\"nuniqueWna\"]= loan_data[numcols].nunique(dropna=False) \n",
    "num_stats[\"nunique\"]= loan_data[numcols].nunique()\n",
    "num_stats"
   ]
  },
  {
   "cell_type": "code",
   "execution_count": 18,
   "metadata": {},
   "outputs": [
    {
     "data": {
      "text/html": [
       "<div>\n",
       "<style scoped>\n",
       "    .dataframe tbody tr th:only-of-type {\n",
       "        vertical-align: middle;\n",
       "    }\n",
       "\n",
       "    .dataframe tbody tr th {\n",
       "        vertical-align: top;\n",
       "    }\n",
       "\n",
       "    .dataframe thead th {\n",
       "        text-align: right;\n",
       "    }\n",
       "</style>\n",
       "<table border=\"1\" class=\"dataframe\">\n",
       "  <thead>\n",
       "    <tr style=\"text-align: right;\">\n",
       "      <th></th>\n",
       "      <th>purpose</th>\n",
       "      <th>dv</th>\n",
       "      <th>counts</th>\n",
       "    </tr>\n",
       "  </thead>\n",
       "  <tbody>\n",
       "    <tr>\n",
       "      <th>0</th>\n",
       "      <td>credit_card</td>\n",
       "      <td>0</td>\n",
       "      <td>318</td>\n",
       "    </tr>\n",
       "    <tr>\n",
       "      <th>1</th>\n",
       "      <td>credit_card</td>\n",
       "      <td>1</td>\n",
       "      <td>207</td>\n",
       "    </tr>\n",
       "    <tr>\n",
       "      <th>2</th>\n",
       "      <td>debt_consolidation</td>\n",
       "      <td>0</td>\n",
       "      <td>876</td>\n",
       "    </tr>\n",
       "    <tr>\n",
       "      <th>3</th>\n",
       "      <td>debt_consolidation</td>\n",
       "      <td>1</td>\n",
       "      <td>862</td>\n",
       "    </tr>\n",
       "    <tr>\n",
       "      <th>4</th>\n",
       "      <td>home_improvement</td>\n",
       "      <td>0</td>\n",
       "      <td>106</td>\n",
       "    </tr>\n",
       "    <tr>\n",
       "      <th>5</th>\n",
       "      <td>home_improvement</td>\n",
       "      <td>1</td>\n",
       "      <td>80</td>\n",
       "    </tr>\n",
       "    <tr>\n",
       "      <th>6</th>\n",
       "      <td>major_purchase</td>\n",
       "      <td>0</td>\n",
       "      <td>66</td>\n",
       "    </tr>\n",
       "    <tr>\n",
       "      <th>7</th>\n",
       "      <td>major_purchase</td>\n",
       "      <td>1</td>\n",
       "      <td>49</td>\n",
       "    </tr>\n",
       "    <tr>\n",
       "      <th>8</th>\n",
       "      <td>medical</td>\n",
       "      <td>0</td>\n",
       "      <td>11</td>\n",
       "    </tr>\n",
       "    <tr>\n",
       "      <th>9</th>\n",
       "      <td>medical</td>\n",
       "      <td>1</td>\n",
       "      <td>19</td>\n",
       "    </tr>\n",
       "    <tr>\n",
       "      <th>10</th>\n",
       "      <td>other</td>\n",
       "      <td>0</td>\n",
       "      <td>146</td>\n",
       "    </tr>\n",
       "    <tr>\n",
       "      <th>11</th>\n",
       "      <td>other</td>\n",
       "      <td>1</td>\n",
       "      <td>172</td>\n",
       "    </tr>\n",
       "    <tr>\n",
       "      <th>12</th>\n",
       "      <td>small_business</td>\n",
       "      <td>0</td>\n",
       "      <td>32</td>\n",
       "    </tr>\n",
       "    <tr>\n",
       "      <th>13</th>\n",
       "      <td>small_business</td>\n",
       "      <td>1</td>\n",
       "      <td>56</td>\n",
       "    </tr>\n",
       "  </tbody>\n",
       "</table>\n",
       "</div>"
      ],
      "text/plain": [
       "               purpose  dv  counts\n",
       "0          credit_card   0     318\n",
       "1          credit_card   1     207\n",
       "2   debt_consolidation   0     876\n",
       "3   debt_consolidation   1     862\n",
       "4     home_improvement   0     106\n",
       "5     home_improvement   1      80\n",
       "6       major_purchase   0      66\n",
       "7       major_purchase   1      49\n",
       "8              medical   0      11\n",
       "9              medical   1      19\n",
       "10               other   0     146\n",
       "11               other   1     172\n",
       "12      small_business   0      32\n",
       "13      small_business   1      56"
      ]
     },
     "execution_count": 18,
     "metadata": {},
     "output_type": "execute_result"
    }
   ],
   "source": [
    "loan_data.groupby([\"purpose\", 'dv']).size().reset_index(name='counts')"
   ]
  },
  {
   "cell_type": "code",
   "execution_count": 20,
   "metadata": {},
   "outputs": [
    {
     "name": "stdout",
     "output_type": "stream",
     "text": [
      "                    count  default  default_rate\n",
      "purpose                                         \n",
      "credit_card           525      207      0.394286\n",
      "major_purchase        115       49      0.426087\n",
      "home_improvement      186       80      0.430108\n",
      "debt_consolidation   1738      862      0.495972\n",
      "other                 318      172      0.540881\n",
      "medical                30       19      0.633333\n",
      "small_business         88       56      0.636364\n"
     ]
    }
   ],
   "source": [
    "purpose_risk = pd.concat([loan_data.groupby([\"purpose\"]).size(), loan_data.groupby([\"purpose\"]).sum()['dv']], axis=1)\n",
    "purpose_risk.columns = ['count','default']\n",
    "purpose_risk['default_rate']=purpose_risk['default']/purpose_risk['count']\n",
    "print(purpose_risk.sort_values(['default_rate']))"
   ]
  },
  {
   "cell_type": "code",
   "execution_count": 21,
   "metadata": {},
   "outputs": [
    {
     "name": "stdout",
     "output_type": "stream",
     "text": [
      "Correlation Matrix \n",
      "                         dti  borrower_score  payment_inc_ratio        dv\n",
      "dti                1.000000       -0.258860           0.232972  0.152942\n",
      "borrower_score    -0.258860        1.000000          -0.109575 -0.297070\n",
      "payment_inc_ratio  0.232972       -0.109575           1.000000  0.162454\n",
      "dv                 0.152942       -0.297070           0.162454  1.000000\n"
     ]
    },
    {
     "data": {
      "text/plain": [
       "[Text(0.5, 0, 'dti'),\n",
       " Text(1.5, 0, 'borrower_score'),\n",
       " Text(2.5, 0, 'payment_inc_ratio'),\n",
       " Text(3.5, 0, 'dv')]"
      ]
     },
     "execution_count": 21,
     "metadata": {},
     "output_type": "execute_result"
    },
    {
     "data": {
      "image/png": "[encoded data removed]",
      "text/plain": [
       "<Figure size 640x480 with 2 Axes>"
      ]
     },
     "metadata": {},
     "output_type": "display_data"
    }
   ],
   "source": [
    "corr = loan_data[numcols].corr()\n",
    "print(\"Correlation Matrix \\n {}\".format(corr))\n",
    "\n",
    "ax = sns.heatmap(\n",
    "    corr, \n",
    "    vmin=-1, vmax=1, center=0,\n",
    "    cmap=sns.diverging_palette(20, 220, n=200),\n",
    "    square=True)\n",
    "\n",
    "ax.set_xticklabels(\n",
    "    ax.get_xticklabels(),\n",
    "    rotation=45,\n",
    "    horizontalalignment='right')"
   ]
  },
  {
   "cell_type": "markdown",
   "metadata": {},
   "source": [
    "This dataset do not have too much variables, therefore just did a light EDA. You can plot bar, histogram and bar/target, hist/targert. For this data just need to convert nominal to numerical"
   ]
  },
  {
   "cell_type": "markdown",
   "metadata": {},
   "source": [
    "# Logistic regression"
   ]
  },
  {
   "cell_type": "markdown",
   "metadata": {},
   "source": [
    "## Logistic Regression and the GLM\n",
    "The package _scikit-learn_ has a specialised class for `LogisticRegression`. _Statsmodels_ has a more general method based on generalized linear model (GLM).\n",
    "\n",
    "In scikit-learn, your target variable could be numerical or categorical."
   ]
  },
  {
   "cell_type": "code",
   "execution_count": 22,
   "metadata": {},
   "outputs": [
    {
     "name": "stdout",
     "output_type": "stream",
     "text": [
      "intercept  -0.8098118949289299\n",
      "classes ['default' 'paid off']\n"
     ]
    },
    {
     "data": {
      "text/html": [
       "<div>\n",
       "<style scoped>\n",
       "    .dataframe tbody tr th:only-of-type {\n",
       "        vertical-align: middle;\n",
       "    }\n",
       "\n",
       "    .dataframe tbody tr th {\n",
       "        vertical-align: top;\n",
       "    }\n",
       "\n",
       "    .dataframe thead th {\n",
       "        text-align: right;\n",
       "    }\n",
       "</style>\n",
       "<table border=\"1\" class=\"dataframe\">\n",
       "  <thead>\n",
       "    <tr style=\"text-align: right;\">\n",
       "      <th></th>\n",
       "      <th>coeff</th>\n",
       "    </tr>\n",
       "  </thead>\n",
       "  <tbody>\n",
       "    <tr>\n",
       "      <th>dti</th>\n",
       "      <td>-0.025841</td>\n",
       "    </tr>\n",
       "    <tr>\n",
       "      <th>borrower_score</th>\n",
       "      <td>4.432843</td>\n",
       "    </tr>\n",
       "    <tr>\n",
       "      <th>payment_inc_ratio</th>\n",
       "      <td>-0.063767</td>\n",
       "    </tr>\n",
       "    <tr>\n",
       "      <th>debt_consolidation</th>\n",
       "      <td>-0.357261</td>\n",
       "    </tr>\n",
       "    <tr>\n",
       "      <th>home_improvement</th>\n",
       "      <td>-0.542382</td>\n",
       "    </tr>\n",
       "    <tr>\n",
       "      <th>major_purchase</th>\n",
       "      <td>-0.672487</td>\n",
       "    </tr>\n",
       "    <tr>\n",
       "      <th>medical</th>\n",
       "      <td>-1.747502</td>\n",
       "    </tr>\n",
       "    <tr>\n",
       "      <th>other</th>\n",
       "      <td>-0.763174</td>\n",
       "    </tr>\n",
       "    <tr>\n",
       "      <th>small_business</th>\n",
       "      <td>-1.283278</td>\n",
       "    </tr>\n",
       "  </tbody>\n",
       "</table>\n",
       "</div>"
      ],
      "text/plain": [
       "                       coeff\n",
       "dti                -0.025841\n",
       "borrower_score      4.432843\n",
       "payment_inc_ratio  -0.063767\n",
       "debt_consolidation -0.357261\n",
       "home_improvement   -0.542382\n",
       "major_purchase     -0.672487\n",
       "medical            -1.747502\n",
       "other              -0.763174\n",
       "small_business     -1.283278"
      ]
     },
     "execution_count": 22,
     "metadata": {},
     "output_type": "execute_result"
    }
   ],
   "source": [
    "predictors = ['purpose', 'dti', 'borrower_score', 'payment_inc_ratio']\n",
    "outcome = 'outcome'\n",
    "\n",
    "loan, loan_test = train_test_split(loan_data, test_size=0.2)\n",
    "\n",
    "X_train = pd.get_dummies(loan[predictors], prefix='', prefix_sep='', drop_first=True)\n",
    "y_train = loan[outcome] \n",
    "\n",
    "X_test = pd.get_dummies(loan_test[predictors], prefix='', prefix_sep='', drop_first=True)\n",
    "y_test = loan_test[outcome] \n",
    "\n",
    "#C=1e42, regularization term, smaller = more regularization\n",
    "logit_reg = LogisticRegression(penalty='l2', C=1e42, solver='liblinear')\n",
    "logit_reg.fit(X_train, y_train)\n",
    "\n",
    "print('intercept ', logit_reg.intercept_[0])\n",
    "print('classes', logit_reg.classes_)\n",
    "pd.DataFrame({'coeff': logit_reg.coef_[0]}, \n",
    "             index=X_train.columns)"
   ]
  },
  {
   "cell_type": "markdown",
   "metadata": {},
   "source": [
    "##### Task - Please fit the model second model with taget is a binary target 'dv', finish below cell in \"Fit model\"\n",
    "##### Task continued - please output final model result as example above\n",
    "##### QUESTION - Are the fitted coefficents different between the two model? Why?"
   ]
  },
  {
   "cell_type": "code",
   "execution_count": null,
   "metadata": {},
   "outputs": [],
   "source": [
    "predictors = ['purpose', 'dti', 'borrower_score', 'payment_inc_ratio']\n",
    "outcome = 'dv'\n",
    "\n",
    "loan, loan_test = train_test_split(loan_data, test_size=0.2)\n",
    "\n",
    "X_train = pd.get_dummies(loan[predictors], prefix='', prefix_sep='', drop_first=True)\n",
    "y_train = loan[outcome] \n",
    "\n",
    "X_test = pd.get_dummies(loan_test[predictors], prefix='', prefix_sep='', drop_first=True)\n",
    "y_test = loan_test[outcome] \n",
    "\n",
    "# Fit model \n",
    "logit_reg2 = # code up your solution here"
   ]
  },
  {
   "cell_type": "markdown",
   "metadata": {},
   "source": [
    "#### Predicted Values from Logistic Regression"
   ]
  },
  {
   "cell_type": "code",
   "execution_count": 23,
   "metadata": {},
   "outputs": [
    {
     "name": "stdout",
     "output_type": "stream",
     "text": [
      "           default     paid off\n",
      "count  2400.000000  2400.000000\n",
      "mean      0.483334     0.516666\n",
      "std       0.170891     0.170891\n",
      "min       0.085313     0.083325\n",
      "25%       0.355634     0.392199\n",
      "50%       0.478798     0.521202\n",
      "75%       0.607801     0.644366\n",
      "max       0.916675     0.914687\n",
      "          default    paid off\n",
      "count  600.000000  600.000000\n",
      "mean     0.478873    0.521127\n",
      "std      0.174738    0.174738\n",
      "min      0.098476    0.084067\n",
      "25%      0.341762    0.389070\n",
      "50%      0.476741    0.523259\n",
      "75%      0.610930    0.658238\n",
      "max      0.915933    0.901524\n"
     ]
    }
   ],
   "source": [
    "pred_train = pd.DataFrame(logit_reg.predict_proba(X_train),\n",
    "                    columns=logit_reg.classes_)\n",
    "pred_test = pd.DataFrame(logit_reg.predict_proba(X_test),\n",
    "                    columns=logit_reg.classes_)\n",
    "print(pred_train.describe())\n",
    "\n",
    "print(pred_test.describe())"
   ]
  },
  {
   "cell_type": "code",
   "execution_count": null,
   "metadata": {},
   "outputs": [],
   "source": [
    "pred_train = pd.DataFrame(logit_reg2.predict_proba(X_train),\n",
    "                    columns=logit_reg2.classes_)\n",
    "pred_test = pd.DataFrame(logit_reg2.predict_proba(X_test),\n",
    "                    columns=logit_reg2.classes_)\n",
    "print(pred_train.describe())\n",
    "\n",
    "print(pred_test.describe())"
   ]
  },
  {
   "cell_type": "markdown",
   "metadata": {},
   "source": [
    "## GLM Model - logistic regression\n",
    "For comparison, here the GLM model using _statsmodels_. This method requires that the outcome class is mapped to numbers. \n",
    "\n",
    "You can use GLM (general linear model) with the binomial family to fit a logistic regression\n",
    "\n",
    "*Note: use this GLM module you can fit a series of model by changing the link function which specified in the family option*"
   ]
  },
  {
   "cell_type": "code",
   "execution_count": 24,
   "metadata": {},
   "outputs": [
    {
     "name": "stdout",
     "output_type": "stream",
     "text": [
      "                 Generalized Linear Model Regression Results                  \n",
      "==============================================================================\n",
      "Dep. Variable:                     dv   No. Observations:                 2400\n",
      "Model:                            GLM   Df Residuals:                     2390\n",
      "Model Family:                Binomial   Df Model:                            9\n",
      "Link Function:                  Logit   Scale:                          1.0000\n",
      "Method:                          IRLS   Log-Likelihood:                -1511.2\n",
      "Date:                Sun, 29 Jan 2023   Deviance:                       3022.5\n",
      "Time:                        02:08:49   Pearson chi2:                 2.39e+03\n",
      "No. Iterations:                     4   Pseudo R-squ. (CS):             0.1181\n",
      "Covariance Type:            nonrobust                                         \n",
      "======================================================================================\n",
      "                         coef    std err          z      P>|z|      [0.025      0.975]\n",
      "--------------------------------------------------------------------------------------\n",
      "const                  1.1389      0.259      4.390      0.000       0.630       1.647\n",
      "dti                    0.0182      0.006      2.974      0.003       0.006       0.030\n",
      "borrower_score        -4.7658      0.375    -12.705      0.000      -5.501      -4.031\n",
      "payment_inc_ratio      0.0661      0.011      6.164      0.000       0.045       0.087\n",
      "debt_consolidation     0.2911      0.119      2.442      0.015       0.057       0.525\n",
      "home_improvement       0.4222      0.211      2.005      0.045       0.009       0.835\n",
      "major_purchase         0.5508      0.255      2.162      0.031       0.052       1.050\n",
      "medical                1.4862      0.426      3.486      0.000       0.651       2.322\n",
      "other                  0.7537      0.173      4.362      0.000       0.415       1.092\n",
      "small_business         1.0926      0.280      3.902      0.000       0.544       1.641\n",
      "======================================================================================\n"
     ]
    }
   ],
   "source": [
    "predictors = ['purpose', 'dti', 'borrower_score', 'payment_inc_ratio']\n",
    "outcome = 'dv'\n",
    "\n",
    "loan, loan_test = train_test_split(loan_data, test_size=0.2)\n",
    "\n",
    "X_train = pd.get_dummies(loan[predictors], prefix='', prefix_sep='', drop_first=True)\n",
    "y_train = loan[outcome] \n",
    "\n",
    "X_test = pd.get_dummies(loan_test[predictors], prefix='', prefix_sep='', drop_first=True)\n",
    "y_test = loan_test[outcome] \n",
    "\n",
    "logit_reg_sm = sm.GLM(y_train, sm.add_constant(X_train), family=sm.families.Binomial())\n",
    "logit_result = logit_reg_sm.fit()\n",
    "print(logit_result.summary())"
   ]
  },
  {
   "cell_type": "markdown",
   "metadata": {},
   "source": [
    "# Evaluating Classification Models\n",
    "## Confusion Matrix"
   ]
  },
  {
   "cell_type": "markdown",
   "metadata": {},
   "source": [
    "###### Let's take a look how different prediction looks like"
   ]
  },
  {
   "cell_type": "code",
   "execution_count": 29,
   "metadata": {},
   "outputs": [
    {
     "data": {
      "text/plain": [
       "array(['default', 'default', 'default', 'default', 'paid off', 'paid off',\n",
       "       'paid off', 'paid off', 'paid off', 'paid off'], dtype=object)"
      ]
     },
     "execution_count": 29,
     "metadata": {},
     "output_type": "execute_result"
    }
   ],
   "source": [
    "logit_reg.predict(X_test)[:10]"
   ]
  },
  {
   "cell_type": "code",
   "execution_count": 30,
   "metadata": {},
   "outputs": [
    {
     "data": {
      "text/plain": [
       "array([[0.62969273, 0.37030727],\n",
       "       [0.7262903 , 0.2737097 ],\n",
       "       [0.65897382, 0.34102618],\n",
       "       [0.56773069, 0.43226931],\n",
       "       [0.18324272, 0.81675728],\n",
       "       [0.39038996, 0.60961004],\n",
       "       [0.28837207, 0.71162793],\n",
       "       [0.31352779, 0.68647221],\n",
       "       [0.40479363, 0.59520637],\n",
       "       [0.37069883, 0.62930117]])"
      ]
     },
     "execution_count": 30,
     "metadata": {},
     "output_type": "execute_result"
    }
   ],
   "source": [
    "logit_reg.predict_proba(X_test)[:10]"
   ]
  },
  {
   "cell_type": "markdown",
   "metadata": {},
   "source": [
    "##### Manully create confusion matrix"
   ]
  },
  {
   "cell_type": "code",
   "execution_count": 38,
   "metadata": {},
   "outputs": [
    {
     "name": "stdout",
     "output_type": "stream",
     "text": [
      "\n",
      "Confusion Matrix in 1D array\n",
      " True  Pred\n",
      "0     0       208\n",
      "      1       104\n",
      "1     0       110\n",
      "      1       178\n",
      "dtype: int64\n",
      "\n",
      "Confusion Matrix in 2 by 2 Table Format\n",
      " Pred    0    1\n",
      "True          \n",
      "0     208  104\n",
      "1     110  178\n",
      "\n",
      "Confusion Matrix in 2 by 2 Re-orgnized Table Format\n",
      "               Yhat = default  Yhat = paid off\n",
      "Y = default              178              110\n",
      "Y = paid off             104              208\n"
     ]
    }
   ],
   "source": [
    "# Confusion matrix\n",
    "pred_y = logit_reg.predict(X_test)\n",
    "pred_y = [1 if p == 'default' else 0 for p in pred_y]\n",
    "true_y = y_test \n",
    "true_pred = pd.DataFrame({'True': true_y, 'Pred': pred_y})\n",
    "true_pred['Cnt'] = [1] *len(true_y)\n",
    "confM=true_pred.groupby(['True', 'Pred']).size()\n",
    "\n",
    "print(\"\\nConfusion Matrix in 1D array\\n {}\".format(confM))\n",
    "\n",
    "print(\"\\nConfusion Matrix in 2 by 2 Table Format\\n {}\".format(pd.pivot_table(true_pred, values='Cnt', index=['True'],\n",
    "                    columns=['Pred'], aggfunc=np.sum)))\n",
    "\n",
    "conf_matorg = pd.DataFrame([[confM[1,1], confM[1,0]], [confM[0,1], confM[0,0]]],\n",
    "                       index=['Y = default', 'Y = paid off'],\n",
    "                       columns=['Yhat = default', 'Yhat = paid off'])\n",
    "print(\"\\nConfusion Matrix in 2 by 2 Re-orgnized Table Format\\n {}\".format(conf_matorg))"
   ]
  },
  {
   "cell_type": "markdown",
   "metadata": {},
   "source": [
    "##### A couple existing functions in packages provide confusion matrix"
   ]
  },
  {
   "cell_type": "code",
   "execution_count": 40,
   "metadata": {},
   "outputs": [
    {
     "name": "stdout",
     "output_type": "stream",
     "text": [
      "[[208 104]\n",
      " [110 178]]\n"
     ]
    }
   ],
   "source": [
    "print(confusion_matrix(y_test, pred_y))"
   ]
  },
  {
   "cell_type": "markdown",
   "metadata": {},
   "source": [
    "The package _dmba_ contains the function `classificationSummary` that prints confusion matrix and accuracy for a classification model. "
   ]
  },
  {
   "cell_type": "code",
   "execution_count": 41,
   "metadata": {},
   "outputs": [
    {
     "name": "stdout",
     "output_type": "stream",
     "text": [
      "Confusion Matrix (Accuracy 0.6433)\n",
      "\n",
      "         Prediction\n",
      "  Actual  default paid off\n",
      " default      208      104\n",
      "paid off      110      178\n"
     ]
    }
   ],
   "source": [
    "classificationSummary(y_test, pred_y, \n",
    "                      class_names=logit_reg.classes_)"
   ]
  },
  {
   "cell_type": "markdown",
   "metadata": {},
   "source": [
    "## Precision, Recall, and Specificity\n",
    "#### Precision = tp/(tp+fp)\n",
    "#### Recall (Sensitivity) = tp/(tp+fn)\n",
    "#### Specificity = tn/(tn+fp)"
   ]
  },
  {
   "attachments": {
    "prision.png": {
     "image/png": "[encoded data removed]"
    }
   },
   "cell_type": "markdown",
   "metadata": {},
   "source": [
    "![prision.png](attachment:prision.png)"
   ]
  },
  {
   "cell_type": "markdown",
   "metadata": {},
   "source": [
    "##### Task - use \"tn, fp, fn, tp\" to calculate \"Precision,Recball,Specificity\""
   ]
  },
  {
   "cell_type": "code",
   "execution_count": null,
   "metadata": {},
   "outputs": [],
   "source": [
    "tn, fp, fn, tp = confusion_matrix(y_test, logit_reg2.predict(X_test)).ravel()\n",
    "\n",
    "print('Precision:   {}'.format(YOUR_ANSWER)) \n",
    "print('Recall:     {}'.format(YOUR_ANSWER))\n",
    "print('Specificity: {}'.format(YOUR_ANSWER))"
   ]
  },
  {
   "cell_type": "markdown",
   "metadata": {},
   "source": [
    "##### Task - use \"conf_mat\" to calculate \"Precision,Recball,Specificity\""
   ]
  },
  {
   "cell_type": "code",
   "execution_count": null,
   "metadata": {},
   "outputs": [],
   "source": [
    "conf_mat = confusion_matrix(y_test, logit_reg2.predict(X_test))\n",
    "\n",
    "print('Precision', YOUR_ANSWER)\n",
    "print('Recball', YOUR_ANSWER)\n",
    "print('Specificity', YOUR_ANSWER)"
   ]
  },
  {
   "cell_type": "markdown",
   "metadata": {},
   "source": [
    "The _scikit-learn_ function `precision_recall_fscore_support` returns\n",
    "precision, recall, fbeta_score and support. "
   ]
  },
  {
   "cell_type": "code",
   "execution_count": null,
   "metadata": {},
   "outputs": [],
   "source": [
    "precision_recall_fscore_support(y_test, logit_reg2.predict(X_test), \n",
    "                                labels=[0, 1])"
   ]
  },
  {
   "cell_type": "code",
   "execution_count": null,
   "metadata": {},
   "outputs": [],
   "source": [
    "from sklearn.metrics import classification_report\n",
    "\n",
    "target_names = ['paid off', 'default']\n",
    "print(classification_report(true_y, pred_y, target_names=target_names))"
   ]
  },
  {
   "cell_type": "markdown",
   "metadata": {},
   "source": [
    "## ROC Curve\n",
    "The function `roc_curve` in _Scikit-learn_ calculates all the information that is required for plotting a ROC curve.\n",
    "\n",
    "You can also try `plot_roc_curve`: https://scikit-learn.org/0.24/modules/generated/sklearn.metrics.plot_roc_curve.html"
   ]
  },
  {
   "cell_type": "code",
   "execution_count": null,
   "metadata": {},
   "outputs": [],
   "source": [
    "fpr, tpr, thresholds = roc_curve(y_test, (logit_reg2.predict_proba(X_test)[:, 1]), \n",
    "                                 pos_label=1)\n",
    "roc_df = pd.DataFrame({'recall': tpr, 'specificity': 1 - fpr})\n",
    "\n",
    "ax = roc_df.plot(x='specificity', y='recall', figsize=(4, 4), legend=False)\n",
    "ax.set_ylim(0, 1)\n",
    "ax.set_xlim(1, 0)\n",
    "ax.plot((1, 0), (0, 1))\n",
    "ax.set_xlabel('specificity')\n",
    "ax.set_ylabel('recall')\n",
    "\n",
    "plt.tight_layout()"
   ]
  },
  {
   "cell_type": "markdown",
   "metadata": {},
   "source": [
    "## Accuracy and AUC\n",
    "Accuracy can easily be calculated using the _scikit-learn_ function `accuracy_score`."
   ]
  },
  {
   "cell_type": "code",
   "execution_count": null,
   "metadata": {},
   "outputs": [],
   "source": [
    "# code up accuracy metric using sklearn function\n"
   ]
  },
  {
   "cell_type": "code",
   "execution_count": null,
   "metadata": {},
   "outputs": [],
   "source": [
    "print(np.sum(roc_df.recall[:-1] * np.diff(1 - roc_df.specificity)))\n",
    "print(roc_auc_score(y_test, (logit_reg2.predict_proba(X_test)[:, 1])))"
   ]
  },
  {
   "cell_type": "code",
   "execution_count": null,
   "metadata": {},
   "outputs": [],
   "source": [
    "fpr, tpr, thresholds = roc_curve(y_test, (logit_reg.predict_proba(X_test)[:,0]), \n",
    "                                 pos_label=1)\n",
    "roc_df = pd.DataFrame({'recall': tpr, 'specificity': 1 - fpr})\n",
    "\n",
    "ax = roc_df.plot(x='specificity', y='recall', figsize=(4, 4), legend=False)\n",
    "ax.set_ylim(0, 1)\n",
    "ax.set_xlim(1, 0)\n",
    "# ax.plot((1, 0), (0, 1))\n",
    "ax.set_xlabel('specificity')\n",
    "ax.set_ylabel('recall')\n",
    "ax.fill_between(roc_df.specificity, 0, roc_df.recall, alpha=0.3)\n",
    "\n",
    "plt.tight_layout()"
   ]
  },
  {
   "cell_type": "markdown",
   "metadata": {},
   "source": [
    "## F1 Score \n",
    "### F1 = 2 * Precision* Recall/(Precision + Recall)"
   ]
  },
  {
   "cell_type": "markdown",
   "metadata": {},
   "source": [
    "##### Task - Calculate F1 score for 'default'"
   ]
  },
  {
   "cell_type": "code",
   "execution_count": null,
   "metadata": {},
   "outputs": [],
   "source": [
    "print('F1 SCORE for Default:  {}'.format(YOUR ANSWER))"
   ]
  }
 ],
 "metadata": {
  "kernelspec": {
   "display_name": "Python 3 (ipykernel)",
   "language": "python",
   "name": "python3"
  },
  "language_info": {
   "codemirror_mode": {
    "name": "ipython",
    "version": 3
   },
   "file_extension": ".py",
   "mimetype": "text/x-python",
   "name": "python",
   "nbconvert_exporter": "python",
   "pygments_lexer": "ipython3",
   "version": "3.9.13"
  }
 },
 "nbformat": 4,
 "nbformat_minor": 2
}
