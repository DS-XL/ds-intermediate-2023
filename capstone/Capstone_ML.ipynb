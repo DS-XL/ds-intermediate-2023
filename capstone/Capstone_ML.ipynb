{
 "cells": [
  {
   "cell_type": "markdown",
   "id": "35aabc08",
   "metadata": {},
   "source": [
    "# Capstone - Loan Status Prediction Machine Learning Model"
   ]
  },
  {
   "cell_type": "markdown",
   "id": "36df95e3",
   "metadata": {},
   "source": [
    "Goal: Build machine learning model(s) to predict loan status as target: if a loan will be charged-off (0), or stay current/are paid off (1).\n",
    "\n",
    "(1827125, 145)"
   ]
  },
  {
   "cell_type": "markdown",
   "id": "9c6f647f",
   "metadata": {
    "heading_collapsed": true
   },
   "source": [
    "##  Import packages"
   ]
  },
  {
   "cell_type": "code",
   "execution_count": 3,
   "id": "42ec5a14",
   "metadata": {
    "ExecuteTime": {
     "end_time": "2023-02-28T13:38:25.176722Z",
     "start_time": "2023-02-28T13:38:23.055333Z"
    },
    "hidden": true
   },
   "outputs": [
    {
     "name": "stdout",
     "output_type": "stream",
     "text": [
      "no display found. Using non-interactive Agg backend\n"
     ]
    }
   ],
   "source": [
    "# Install packages\n",
    "# import sys\n",
    "# !{sys.executable} -m pip install kneed\n",
    "\n",
    "# Get path \n",
    "import os\n",
    "from pathlib import Path # get path\n",
    "\n",
    "# Data wrangling\n",
    "import pandas as pd\n",
    "import numpy as np \n",
    "\n",
    "# Plotting\n",
    "%matplotlib inline\n",
    "import matplotlib.pyplot as plt\n",
    "import seaborn as sns\n",
    "from statsmodels.graphics.gofplots import qqplot # qqplot for data normality test\n",
    "\n",
    "# Statistical testing\n",
    "import scipy.stats as stats\n",
    "\n",
    "\n",
    "# Reporting\n",
    "from pandas_profiling import ProfileReport\n",
    "\n",
    "\n",
    "# PCA \n",
    "from sklearn.preprocessing import StandardScaler\n",
    "from sklearn.metrics.cluster import adjusted_rand_score\n",
    "from sklearn.decomposition import PCA\n",
    "\n",
    "#ML model building\n",
    "\n",
    "# Logistic regression\n",
    "\n",
    "from sklearn.linear_model import LogisticRegression #, LogisticRegressionCV\n",
    "from sklearn.tree import DecisionTreeClassifier\n",
    "from sklearn.metrics import classification_report\n",
    "from sklearn.metrics import confusion_matrix, precision_recall_fscore_support\n",
    "from sklearn.metrics import roc_curve, accuracy_score, roc_auc_score\n",
    "\n",
    "from dmba import classificationSummary\n",
    "\n",
    "\n",
    "# Decision Tree\n",
    "from sklearn import preprocessing\n",
    "from sklearn import metrics\n",
    "from sklearn.model_selection import train_test_split\n",
    "from sklearn.tree import DecisionTreeClassifier\n",
    "from sklearn.ensemble import RandomForestClassifier\n",
    "from sklearn.metrics import roc_auc_score\n",
    "from xgboost import XGBClassifier\n",
    "from dmba import plotDecisionTree, textDecisionTree # tree visualization\n",
    "\n",
    "\n",
    "\n",
    "\n",
    "\n",
    "\n",
    "\n",
    "\n",
    "\n",
    "\n",
    "\n",
    "\n",
    "import pydotplus\n"
   ]
  },
  {
   "cell_type": "markdown",
   "id": "81482040",
   "metadata": {
    "heading_collapsed": true
   },
   "source": [
    "## Load dataset¶"
   ]
  },
  {
   "cell_type": "code",
   "execution_count": 2,
   "id": "b8480262",
   "metadata": {
    "ExecuteTime": {
     "end_time": "2023-02-28T13:35:15.202365Z",
     "start_time": "2023-02-28T13:34:53.075905Z"
    },
    "hidden": true
   },
   "outputs": [
    {
     "name": "stderr",
     "output_type": "stream",
     "text": [
      "/var/folders/d5/0rs5hy6j79776c7g000ncxbm0000gn/T/ipykernel_72240/2918884660.py:3: DtypeWarning: Columns (19,47,55,112,123,124,125,128,129,130,133,139,140,141) have mixed types. Specify dtype option on import or set low_memory=False.\n",
      "  train = pd.read_csv(data_path)\n"
     ]
    }
   ],
   "source": [
    "# load dataset\n",
    "data_path = Path('.').resolve().parents[1] / 'train_data.csv'\n",
    "train = pd.read_csv(data_path)"
   ]
  },
  {
   "cell_type": "code",
   "execution_count": 3,
   "id": "8b3c23b8",
   "metadata": {
    "ExecuteTime": {
     "end_time": "2023-02-28T13:35:15.273481Z",
     "start_time": "2023-02-28T13:35:15.209767Z"
    },
    "hidden": true
   },
   "outputs": [
    {
     "data": {
      "text/html": [
       "<div>\n",
       "<style scoped>\n",
       "    .dataframe tbody tr th:only-of-type {\n",
       "        vertical-align: middle;\n",
       "    }\n",
       "\n",
       "    .dataframe tbody tr th {\n",
       "        vertical-align: top;\n",
       "    }\n",
       "\n",
       "    .dataframe thead th {\n",
       "        text-align: right;\n",
       "    }\n",
       "</style>\n",
       "<table border=\"1\" class=\"dataframe\">\n",
       "  <thead>\n",
       "    <tr style=\"text-align: right;\">\n",
       "      <th></th>\n",
       "      <th>id</th>\n",
       "      <th>member_id</th>\n",
       "      <th>loan_amnt</th>\n",
       "      <th>funded_amnt</th>\n",
       "      <th>funded_amnt_inv</th>\n",
       "      <th>term</th>\n",
       "      <th>int_rate</th>\n",
       "      <th>installment</th>\n",
       "      <th>grade</th>\n",
       "      <th>sub_grade</th>\n",
       "      <th>...</th>\n",
       "      <th>hardship_payoff_balance_amount</th>\n",
       "      <th>hardship_last_payment_amount</th>\n",
       "      <th>disbursement_method</th>\n",
       "      <th>debt_settlement_flag</th>\n",
       "      <th>debt_settlement_flag_date</th>\n",
       "      <th>settlement_status</th>\n",
       "      <th>settlement_date</th>\n",
       "      <th>settlement_amount</th>\n",
       "      <th>settlement_percentage</th>\n",
       "      <th>settlement_term</th>\n",
       "    </tr>\n",
       "  </thead>\n",
       "  <tbody>\n",
       "    <tr>\n",
       "      <th>0</th>\n",
       "      <td>NaN</td>\n",
       "      <td>NaN</td>\n",
       "      <td>10000</td>\n",
       "      <td>10000</td>\n",
       "      <td>10000.0</td>\n",
       "      <td>36 months</td>\n",
       "      <td>8.81</td>\n",
       "      <td>317.12</td>\n",
       "      <td>A</td>\n",
       "      <td>A5</td>\n",
       "      <td>...</td>\n",
       "      <td>NaN</td>\n",
       "      <td>NaN</td>\n",
       "      <td>Cash</td>\n",
       "      <td>N</td>\n",
       "      <td>NaN</td>\n",
       "      <td>NaN</td>\n",
       "      <td>NaN</td>\n",
       "      <td>NaN</td>\n",
       "      <td>NaN</td>\n",
       "      <td>NaN</td>\n",
       "    </tr>\n",
       "    <tr>\n",
       "      <th>1</th>\n",
       "      <td>NaN</td>\n",
       "      <td>NaN</td>\n",
       "      <td>10000</td>\n",
       "      <td>10000</td>\n",
       "      <td>10000.0</td>\n",
       "      <td>60 months</td>\n",
       "      <td>27.27</td>\n",
       "      <td>306.97</td>\n",
       "      <td>E</td>\n",
       "      <td>E5</td>\n",
       "      <td>...</td>\n",
       "      <td>NaN</td>\n",
       "      <td>NaN</td>\n",
       "      <td>Cash</td>\n",
       "      <td>N</td>\n",
       "      <td>NaN</td>\n",
       "      <td>NaN</td>\n",
       "      <td>NaN</td>\n",
       "      <td>NaN</td>\n",
       "      <td>NaN</td>\n",
       "      <td>NaN</td>\n",
       "    </tr>\n",
       "    <tr>\n",
       "      <th>2</th>\n",
       "      <td>NaN</td>\n",
       "      <td>NaN</td>\n",
       "      <td>4800</td>\n",
       "      <td>4800</td>\n",
       "      <td>4800.0</td>\n",
       "      <td>36 months</td>\n",
       "      <td>16.91</td>\n",
       "      <td>170.92</td>\n",
       "      <td>C</td>\n",
       "      <td>C5</td>\n",
       "      <td>...</td>\n",
       "      <td>NaN</td>\n",
       "      <td>NaN</td>\n",
       "      <td>Cash</td>\n",
       "      <td>N</td>\n",
       "      <td>NaN</td>\n",
       "      <td>NaN</td>\n",
       "      <td>NaN</td>\n",
       "      <td>NaN</td>\n",
       "      <td>NaN</td>\n",
       "      <td>NaN</td>\n",
       "    </tr>\n",
       "    <tr>\n",
       "      <th>3</th>\n",
       "      <td>NaN</td>\n",
       "      <td>NaN</td>\n",
       "      <td>35000</td>\n",
       "      <td>35000</td>\n",
       "      <td>35000.0</td>\n",
       "      <td>36 months</td>\n",
       "      <td>14.47</td>\n",
       "      <td>1204.23</td>\n",
       "      <td>C</td>\n",
       "      <td>C2</td>\n",
       "      <td>...</td>\n",
       "      <td>NaN</td>\n",
       "      <td>NaN</td>\n",
       "      <td>Cash</td>\n",
       "      <td>N</td>\n",
       "      <td>NaN</td>\n",
       "      <td>NaN</td>\n",
       "      <td>NaN</td>\n",
       "      <td>NaN</td>\n",
       "      <td>NaN</td>\n",
       "      <td>NaN</td>\n",
       "    </tr>\n",
       "    <tr>\n",
       "      <th>4</th>\n",
       "      <td>NaN</td>\n",
       "      <td>NaN</td>\n",
       "      <td>16000</td>\n",
       "      <td>16000</td>\n",
       "      <td>15975.0</td>\n",
       "      <td>60 months</td>\n",
       "      <td>10.08</td>\n",
       "      <td>340.59</td>\n",
       "      <td>B</td>\n",
       "      <td>B1</td>\n",
       "      <td>...</td>\n",
       "      <td>NaN</td>\n",
       "      <td>NaN</td>\n",
       "      <td>Cash</td>\n",
       "      <td>N</td>\n",
       "      <td>NaN</td>\n",
       "      <td>NaN</td>\n",
       "      <td>NaN</td>\n",
       "      <td>NaN</td>\n",
       "      <td>NaN</td>\n",
       "      <td>NaN</td>\n",
       "    </tr>\n",
       "  </tbody>\n",
       "</table>\n",
       "<p>5 rows × 145 columns</p>\n",
       "</div>"
      ],
      "text/plain": [
       "   id  member_id  loan_amnt  funded_amnt  funded_amnt_inv        term  \\\n",
       "0 NaN        NaN      10000        10000          10000.0   36 months   \n",
       "1 NaN        NaN      10000        10000          10000.0   60 months   \n",
       "2 NaN        NaN       4800         4800           4800.0   36 months   \n",
       "3 NaN        NaN      35000        35000          35000.0   36 months   \n",
       "4 NaN        NaN      16000        16000          15975.0   60 months   \n",
       "\n",
       "   int_rate  installment grade sub_grade  ... hardship_payoff_balance_amount  \\\n",
       "0      8.81       317.12     A        A5  ...                            NaN   \n",
       "1     27.27       306.97     E        E5  ...                            NaN   \n",
       "2     16.91       170.92     C        C5  ...                            NaN   \n",
       "3     14.47      1204.23     C        C2  ...                            NaN   \n",
       "4     10.08       340.59     B        B1  ...                            NaN   \n",
       "\n",
       "  hardship_last_payment_amount disbursement_method  debt_settlement_flag  \\\n",
       "0                          NaN                Cash                     N   \n",
       "1                          NaN                Cash                     N   \n",
       "2                          NaN                Cash                     N   \n",
       "3                          NaN                Cash                     N   \n",
       "4                          NaN                Cash                     N   \n",
       "\n",
       "  debt_settlement_flag_date settlement_status settlement_date  \\\n",
       "0                       NaN               NaN             NaN   \n",
       "1                       NaN               NaN             NaN   \n",
       "2                       NaN               NaN             NaN   \n",
       "3                       NaN               NaN             NaN   \n",
       "4                       NaN               NaN             NaN   \n",
       "\n",
       "  settlement_amount  settlement_percentage settlement_term  \n",
       "0               NaN                    NaN             NaN  \n",
       "1               NaN                    NaN             NaN  \n",
       "2               NaN                    NaN             NaN  \n",
       "3               NaN                    NaN             NaN  \n",
       "4               NaN                    NaN             NaN  \n",
       "\n",
       "[5 rows x 145 columns]"
      ]
     },
     "execution_count": 3,
     "metadata": {},
     "output_type": "execute_result"
    }
   ],
   "source": [
    "train.head()"
   ]
  },
  {
   "cell_type": "code",
   "execution_count": 4,
   "id": "c2e6d461",
   "metadata": {
    "ExecuteTime": {
     "end_time": "2023-02-28T13:35:15.278160Z",
     "start_time": "2023-02-28T13:35:15.275519Z"
    },
    "hidden": true
   },
   "outputs": [
    {
     "data": {
      "text/plain": [
       "(1827125, 145)"
      ]
     },
     "execution_count": 4,
     "metadata": {},
     "output_type": "execute_result"
    }
   ],
   "source": [
    "train.shape"
   ]
  },
  {
   "cell_type": "code",
   "execution_count": 5,
   "id": "415ab8ff",
   "metadata": {
    "ExecuteTime": {
     "end_time": "2023-02-28T13:35:21.634361Z",
     "start_time": "2023-02-28T13:35:15.279363Z"
    },
    "hidden": true
   },
   "outputs": [],
   "source": [
    "na_tally = train.isna().sum().sort_values(ascending = False)"
   ]
  },
  {
   "cell_type": "code",
   "execution_count": 6,
   "id": "c58b9d90",
   "metadata": {
    "ExecuteTime": {
     "end_time": "2023-02-28T13:35:21.641393Z",
     "start_time": "2023-02-28T13:35:21.635858Z"
    },
    "hidden": true
   },
   "outputs": [
    {
     "data": {
      "text/plain": [
       "id                                            1827125\n",
       "url                                           1827125\n",
       "member_id                                     1827125\n",
       "orig_projected_additional_accrued_interest    1822116\n",
       "hardship_length                               1821000\n",
       "hardship_reason                               1821000\n",
       "hardship_status                               1821000\n",
       "deferral_term                                 1821000\n",
       "hardship_amount                               1821000\n",
       "hardship_start_date                           1821000\n",
       "hardship_end_date                             1821000\n",
       "payment_plan_start_date                       1821000\n",
       "hardship_dpd                                  1821000\n",
       "hardship_loan_status                          1821000\n",
       "hardship_payoff_balance_amount                1821000\n",
       "hardship_last_payment_amount                  1821000\n",
       "hardship_type                                 1821000\n",
       "debt_settlement_flag_date                     1810175\n",
       "settlement_status                             1810175\n",
       "settlement_date                               1810175\n",
       "settlement_amount                             1810175\n",
       "settlement_percentage                         1810175\n",
       "settlement_term                               1810175\n",
       "sec_app_mths_since_last_major_derog           1796934\n",
       "desc                                          1773060\n",
       "sec_app_revol_util                            1736512\n",
       "revol_bal_joint                               1734981\n",
       "sec_app_mort_acc                              1734980\n",
       "sec_app_chargeoff_within_12_mths              1734980\n",
       "sec_app_num_rev_accts                         1734980\n",
       "sec_app_open_act_il                           1734980\n",
       "sec_app_open_acc                              1734980\n",
       "sec_app_collections_12_mths_ex_med            1734980\n",
       "sec_app_inq_last_6mths                        1734980\n",
       "sec_app_earliest_cr_line                      1734980\n",
       "verification_status_joint                     1728885\n",
       "dti_joint                                     1724434\n",
       "annual_inc_joint                              1724431\n",
       "dtype: int64"
      ]
     },
     "execution_count": 6,
     "metadata": {},
     "output_type": "execute_result"
    }
   ],
   "source": [
    "na_tally[na_tally>train.shape[0]*0.9]"
   ]
  },
  {
   "cell_type": "code",
   "execution_count": 7,
   "id": "f2f2b375",
   "metadata": {
    "ExecuteTime": {
     "end_time": "2023-02-28T13:35:24.422459Z",
     "start_time": "2023-02-28T13:35:21.642568Z"
    },
    "hidden": true
   },
   "outputs": [],
   "source": [
    "trn = train.copy().drop(columns=na_tally[na_tally>train.shape[0]*0.9].index)"
   ]
  },
  {
   "cell_type": "code",
   "execution_count": 8,
   "id": "eb8638e5",
   "metadata": {
    "ExecuteTime": {
     "end_time": "2023-02-28T13:35:25.006751Z",
     "start_time": "2023-02-28T13:35:24.425046Z"
    },
    "hidden": true
   },
   "outputs": [
    {
     "name": "stdout",
     "output_type": "stream",
     "text": [
      "['Charged Off' 'Current' 'Fully Paid']\n",
      "Paid off event rate is: 0.9269201614558391\n"
     ]
    }
   ],
   "source": [
    "print(trn['loan_status'].unique())\n",
    "\n",
    "trn['loan_status_dv'] = [1 if loan_status=='Fully Paid'or loan_status=='Current' else 0 for loan_status in trn['loan_status']]\n",
    "print(\"Paid off event rate is: {}\".format(trn['loan_status_dv'].mean()))"
   ]
  },
  {
   "cell_type": "code",
   "execution_count": 9,
   "id": "40a5dbd9",
   "metadata": {
    "ExecuteTime": {
     "end_time": "2023-02-28T13:35:25.013110Z",
     "start_time": "2023-02-28T13:35:25.009891Z"
    },
    "hidden": true
   },
   "outputs": [
    {
     "data": {
      "text/plain": [
       "Index(['loan_amnt', 'funded_amnt', 'funded_amnt_inv', 'term', 'int_rate',\n",
       "       'installment', 'grade', 'sub_grade', 'emp_title', 'emp_length',\n",
       "       ...\n",
       "       'pub_rec_bankruptcies', 'tax_liens', 'tot_hi_cred_lim',\n",
       "       'total_bal_ex_mort', 'total_bc_limit', 'total_il_high_credit_limit',\n",
       "       'hardship_flag', 'disbursement_method', 'debt_settlement_flag',\n",
       "       'loan_status_dv'],\n",
       "      dtype='object', length=108)"
      ]
     },
     "execution_count": 9,
     "metadata": {},
     "output_type": "execute_result"
    }
   ],
   "source": [
    "trn.columns"
   ]
  },
  {
   "cell_type": "code",
   "execution_count": 10,
   "id": "5e01d1a4",
   "metadata": {
    "ExecuteTime": {
     "end_time": "2023-02-28T13:35:25.015722Z",
     "start_time": "2023-02-28T13:35:25.014108Z"
    },
    "hidden": true
   },
   "outputs": [],
   "source": [
    "###### optional to run #########\n",
    "# sample a 3_pct dataset to investigate \n",
    "\n",
    "# trn_sample_3pct = trn.sample(n = int(trn.shape[0]*0.03), replace = False, random_state=2) # 91356\n",
    "# trn_sample_3pct.to_csv('trn_sample_3pct.csv') "
   ]
  },
  {
   "cell_type": "markdown",
   "id": "1e28631d",
   "metadata": {},
   "source": [
    "# Logistic Regression"
   ]
  },
  {
   "cell_type": "code",
   "execution_count": 5,
   "id": "55443fc8",
   "metadata": {
    "ExecuteTime": {
     "end_time": "2023-02-28T13:38:56.797056Z",
     "start_time": "2023-02-28T13:38:56.349549Z"
    }
   },
   "outputs": [],
   "source": [
    "data_path_sample = Path('.').resolve()/ 'trn_sample_3pct.csv'\n",
    "#trn_sample = pd.read_csv(data_path_sample) use this\n",
    "trn = pd.read_csv(data_path_sample) # delete after test "
   ]
  },
  {
   "cell_type": "markdown",
   "id": "88609eb1",
   "metadata": {},
   "source": [
    "## Select predictors & target - choose from EDA"
   ]
  },
  {
   "cell_type": "code",
   "execution_count": 6,
   "id": "eceedb8e",
   "metadata": {
    "ExecuteTime": {
     "end_time": "2023-02-28T13:38:58.282568Z",
     "start_time": "2023-02-28T13:38:58.277877Z"
    }
   },
   "outputs": [],
   "source": [
    "# Select predictors\n",
    "predictors = [i for i in trn.columns.tolist() if i not in ['policy_code','loan_status_dv','loan_status']]\n",
    "outcome = 'loan_status_dv'"
   ]
  },
  {
   "cell_type": "markdown",
   "id": "3ef90e99",
   "metadata": {},
   "source": [
    "## Get train and test datasets from trn "
   ]
  },
  {
   "cell_type": "markdown",
   "id": "0d050f2c",
   "metadata": {},
   "source": [
    "### Get dummy variables - edit"
   ]
  },
  {
   "cell_type": "code",
   "execution_count": 7,
   "id": "318c921b",
   "metadata": {
    "ExecuteTime": {
     "end_time": "2023-02-28T13:39:09.273075Z",
     "start_time": "2023-02-28T13:39:00.235663Z"
    }
   },
   "outputs": [
    {
     "name": "stdout",
     "output_type": "stream",
     "text": [
      "Index(['Unnamed: 0', 'loan_amnt', 'funded_amnt', 'funded_amnt_inv', 'int_rate',\n",
      "       'installment', 'annual_inc', 'dti', 'delinq_2yrs', 'inq_last_6mths',\n",
      "       ...\n",
      "       'last_credit_pull_d_Sep-2017', 'last_credit_pull_d_Sep-2018',\n",
      "       'application_type_Individual', 'application_type_Joint App',\n",
      "       'hardship_flag_N', 'hardship_flag_Y', 'disbursement_method_Cash',\n",
      "       'disbursement_method_DirectPay', 'debt_settlement_flag_N',\n",
      "       'debt_settlement_flag_Y'],\n",
      "      dtype='object', length=27367)\n"
     ]
    }
   ],
   "source": [
    "# Create two data sets for numeric and non-numeric data\n",
    "trn_num = trn.select_dtypes(exclude=['object'])\n",
    "trn_obj = trn.select_dtypes(include=['object'])\n",
    "\n",
    "# One-hot encode the non-numeric columns\n",
    "trn_onehot = pd.get_dummies(trn_obj)\n",
    "\n",
    "# Union the one-hot encoded columns to the numeric ones\n",
    "trn_prep = pd.concat([trn_num, trn_onehot], axis=1)\n",
    "\n",
    "# Print the columns in the new data set\n",
    "print(trn_prep.columns)"
   ]
  },
  {
   "cell_type": "code",
   "execution_count": 8,
   "id": "724aeb6b",
   "metadata": {
    "ExecuteTime": {
     "end_time": "2023-02-28T13:39:23.948480Z",
     "start_time": "2023-02-28T13:39:12.790280Z"
    }
   },
   "outputs": [],
   "source": [
    "##### optional when using real testing data set #######\n",
    "# Split within trn set\n",
    "trn_prep, trn_prep_test = train_test_split(trn_prep, test_size=0.2)  # may change to smaller dataset"
   ]
  },
  {
   "cell_type": "code",
   "execution_count": 9,
   "id": "07950911",
   "metadata": {
    "ExecuteTime": {
     "end_time": "2023-02-28T13:39:27.218228Z",
     "start_time": "2023-02-28T13:39:25.222880Z"
    }
   },
   "outputs": [],
   "source": [
    "# Real dataset\n",
    "data_path_test = Path('.').resolve().parents[1] / 'updated_test_data_20200728.csv'\n",
    "test = pd.read_csv(data_path_test)"
   ]
  },
  {
   "cell_type": "code",
   "execution_count": 11,
   "id": "581738c3",
   "metadata": {
    "ExecuteTime": {
     "end_time": "2023-02-28T13:40:00.928533Z",
     "start_time": "2023-02-28T13:39:59.767239Z"
    }
   },
   "outputs": [
    {
     "ename": "KeyError",
     "evalue": "\"['term', 'grade', 'sub_grade', 'emp_title', 'emp_length', 'home_ownership', 'verification_status', 'issue_d', 'pymnt_plan', 'purpose', 'title', 'zip_code', 'addr_state', 'earliest_cr_line', 'initial_list_status', 'last_pymnt_d', 'next_pymnt_d', 'last_credit_pull_d', 'application_type', 'hardship_flag', 'disbursement_method', 'debt_settlement_flag'] not in index\"",
     "output_type": "error",
     "traceback": [
      "\u001b[0;31m---------------------------------------------------------------------------\u001b[0m",
      "\u001b[0;31mKeyError\u001b[0m                                  Traceback (most recent call last)",
      "Cell \u001b[0;32mIn[11], line 1\u001b[0m\n\u001b[0;32m----> 1\u001b[0m X_train \u001b[38;5;241m=\u001b[39m pd\u001b[38;5;241m.\u001b[39mget_dummies(\u001b[43mtrn_prep\u001b[49m\u001b[43m[\u001b[49m\u001b[43mpredictors\u001b[49m\u001b[43m]\u001b[49m, prefix\u001b[38;5;241m=\u001b[39m\u001b[38;5;124m'\u001b[39m\u001b[38;5;124m'\u001b[39m, prefix_sep\u001b[38;5;241m=\u001b[39m\u001b[38;5;124m'\u001b[39m\u001b[38;5;124m'\u001b[39m, drop_first\u001b[38;5;241m=\u001b[39m\u001b[38;5;28;01mTrue\u001b[39;00m)\n\u001b[1;32m      2\u001b[0m X_test \u001b[38;5;241m=\u001b[39m pd\u001b[38;5;241m.\u001b[39mget_dummies(trn_prep_test[predictors], prefix\u001b[38;5;241m=\u001b[39m\u001b[38;5;124m'\u001b[39m\u001b[38;5;124m'\u001b[39m, prefix_sep\u001b[38;5;241m=\u001b[39m\u001b[38;5;124m'\u001b[39m\u001b[38;5;124m'\u001b[39m, drop_first\u001b[38;5;241m=\u001b[39m\u001b[38;5;28;01mTrue\u001b[39;00m)  \u001b[38;5;66;03m# use `test` for real\u001b[39;00m\n\u001b[1;32m      3\u001b[0m y_train \u001b[38;5;241m=\u001b[39m trn_prep[outcome] \n",
      "File \u001b[0;32m~/opt/anaconda3/envs/itmds2023/lib/python3.10/site-packages/pandas/core/frame.py:3811\u001b[0m, in \u001b[0;36mDataFrame.__getitem__\u001b[0;34m(self, key)\u001b[0m\n\u001b[1;32m   3809\u001b[0m     \u001b[38;5;28;01mif\u001b[39;00m is_iterator(key):\n\u001b[1;32m   3810\u001b[0m         key \u001b[38;5;241m=\u001b[39m \u001b[38;5;28mlist\u001b[39m(key)\n\u001b[0;32m-> 3811\u001b[0m     indexer \u001b[38;5;241m=\u001b[39m \u001b[38;5;28;43mself\u001b[39;49m\u001b[38;5;241;43m.\u001b[39;49m\u001b[43mcolumns\u001b[49m\u001b[38;5;241;43m.\u001b[39;49m\u001b[43m_get_indexer_strict\u001b[49m\u001b[43m(\u001b[49m\u001b[43mkey\u001b[49m\u001b[43m,\u001b[49m\u001b[43m \u001b[49m\u001b[38;5;124;43m\"\u001b[39;49m\u001b[38;5;124;43mcolumns\u001b[39;49m\u001b[38;5;124;43m\"\u001b[39;49m\u001b[43m)\u001b[49m[\u001b[38;5;241m1\u001b[39m]\n\u001b[1;32m   3813\u001b[0m \u001b[38;5;66;03m# take() does not accept boolean indexers\u001b[39;00m\n\u001b[1;32m   3814\u001b[0m \u001b[38;5;28;01mif\u001b[39;00m \u001b[38;5;28mgetattr\u001b[39m(indexer, \u001b[38;5;124m\"\u001b[39m\u001b[38;5;124mdtype\u001b[39m\u001b[38;5;124m\"\u001b[39m, \u001b[38;5;28;01mNone\u001b[39;00m) \u001b[38;5;241m==\u001b[39m \u001b[38;5;28mbool\u001b[39m:\n",
      "File \u001b[0;32m~/opt/anaconda3/envs/itmds2023/lib/python3.10/site-packages/pandas/core/indexes/base.py:6113\u001b[0m, in \u001b[0;36mIndex._get_indexer_strict\u001b[0;34m(self, key, axis_name)\u001b[0m\n\u001b[1;32m   6110\u001b[0m \u001b[38;5;28;01melse\u001b[39;00m:\n\u001b[1;32m   6111\u001b[0m     keyarr, indexer, new_indexer \u001b[38;5;241m=\u001b[39m \u001b[38;5;28mself\u001b[39m\u001b[38;5;241m.\u001b[39m_reindex_non_unique(keyarr)\n\u001b[0;32m-> 6113\u001b[0m \u001b[38;5;28;43mself\u001b[39;49m\u001b[38;5;241;43m.\u001b[39;49m\u001b[43m_raise_if_missing\u001b[49m\u001b[43m(\u001b[49m\u001b[43mkeyarr\u001b[49m\u001b[43m,\u001b[49m\u001b[43m \u001b[49m\u001b[43mindexer\u001b[49m\u001b[43m,\u001b[49m\u001b[43m \u001b[49m\u001b[43maxis_name\u001b[49m\u001b[43m)\u001b[49m\n\u001b[1;32m   6115\u001b[0m keyarr \u001b[38;5;241m=\u001b[39m \u001b[38;5;28mself\u001b[39m\u001b[38;5;241m.\u001b[39mtake(indexer)\n\u001b[1;32m   6116\u001b[0m \u001b[38;5;28;01mif\u001b[39;00m \u001b[38;5;28misinstance\u001b[39m(key, Index):\n\u001b[1;32m   6117\u001b[0m     \u001b[38;5;66;03m# GH 42790 - Preserve name from an Index\u001b[39;00m\n",
      "File \u001b[0;32m~/opt/anaconda3/envs/itmds2023/lib/python3.10/site-packages/pandas/core/indexes/base.py:6176\u001b[0m, in \u001b[0;36mIndex._raise_if_missing\u001b[0;34m(self, key, indexer, axis_name)\u001b[0m\n\u001b[1;32m   6173\u001b[0m     \u001b[38;5;28;01mraise\u001b[39;00m \u001b[38;5;167;01mKeyError\u001b[39;00m(\u001b[38;5;124mf\u001b[39m\u001b[38;5;124m\"\u001b[39m\u001b[38;5;124mNone of [\u001b[39m\u001b[38;5;132;01m{\u001b[39;00mkey\u001b[38;5;132;01m}\u001b[39;00m\u001b[38;5;124m] are in the [\u001b[39m\u001b[38;5;132;01m{\u001b[39;00maxis_name\u001b[38;5;132;01m}\u001b[39;00m\u001b[38;5;124m]\u001b[39m\u001b[38;5;124m\"\u001b[39m)\n\u001b[1;32m   6175\u001b[0m not_found \u001b[38;5;241m=\u001b[39m \u001b[38;5;28mlist\u001b[39m(ensure_index(key)[missing_mask\u001b[38;5;241m.\u001b[39mnonzero()[\u001b[38;5;241m0\u001b[39m]]\u001b[38;5;241m.\u001b[39munique())\n\u001b[0;32m-> 6176\u001b[0m \u001b[38;5;28;01mraise\u001b[39;00m \u001b[38;5;167;01mKeyError\u001b[39;00m(\u001b[38;5;124mf\u001b[39m\u001b[38;5;124m\"\u001b[39m\u001b[38;5;132;01m{\u001b[39;00mnot_found\u001b[38;5;132;01m}\u001b[39;00m\u001b[38;5;124m not in index\u001b[39m\u001b[38;5;124m\"\u001b[39m)\n",
      "\u001b[0;31mKeyError\u001b[0m: \"['term', 'grade', 'sub_grade', 'emp_title', 'emp_length', 'home_ownership', 'verification_status', 'issue_d', 'pymnt_plan', 'purpose', 'title', 'zip_code', 'addr_state', 'earliest_cr_line', 'initial_list_status', 'last_pymnt_d', 'next_pymnt_d', 'last_credit_pull_d', 'application_type', 'hardship_flag', 'disbursement_method', 'debt_settlement_flag'] not in index\""
     ]
    }
   ],
   "source": [
    "X_train = pd.get_dummies(trn_prep[predictors], prefix='', prefix_sep='', drop_first=True)\n",
    "X_test = pd.get_dummies(trn_prep_test[predictors], prefix='', prefix_sep='', drop_first=True)  # use `test` for real\n",
    "y_train = trn_prep[outcome] \n",
    "y_test = trn_prep_test[outcome]  # updated_test_data_20200728"
   ]
  },
  {
   "cell_type": "markdown",
   "id": "8bf89f12",
   "metadata": {},
   "source": [
    "## Fit model "
   ]
  },
  {
   "cell_type": "code",
   "execution_count": null,
   "id": "24fd4a78",
   "metadata": {
    "ExecuteTime": {
     "end_time": "2023-02-28T13:39:39.007250Z",
     "start_time": "2023-02-28T13:39:39.007242Z"
    }
   },
   "outputs": [],
   "source": [
    "#C=1e42, regularization term, smaller = more regularization\n",
    "logit_reg = LogisticRegression(penalty='l2', C=1e42, solver='liblinear') #solver='lbfgs'\n",
    "logit_reg.fit(X_train, y_train)\n",
    "\n",
    "# Intercept and coeff\n",
    "print('intercept ', logit_reg.intercept_[0])\n",
    "print('classes', logit_reg.classes_)\n",
    "pd.DataFrame({'coeff': logit_reg.coef_[0]}, \n",
    "             index=X_train.columns)\n",
    "\n",
    "# Parameters of the model\n",
    "print(logit_reg.get_params())"
   ]
  },
  {
   "cell_type": "markdown",
   "id": "bcb41739",
   "metadata": {},
   "source": [
    "## Predicted Values from Logistic Regression\n",
    "predict(): predict the actual class \n",
    "\n",
    "predict_proba(): predict the class probabilities"
   ]
  },
  {
   "cell_type": "code",
   "execution_count": null,
   "id": "feecac31",
   "metadata": {
    "ExecuteTime": {
     "end_time": "2023-02-28T13:39:09.334420Z",
     "start_time": "2023-02-28T13:39:09.334412Z"
    }
   },
   "outputs": [],
   "source": [
    "# Predicted probability\n",
    "pred_train = pd.DataFrame(logit_reg.predict_proba(X_train),\n",
    "                    columns=logit_reg.classes_)\n",
    "pred_test = pd.DataFrame(logit_reg.predict_proba(X_test),\n",
    "                    columns=logit_reg.classes_)\n",
    "\n",
    "print(pred_train.describe())\n",
    "print(pred_test.describe())"
   ]
  },
  {
   "cell_type": "code",
   "execution_count": null,
   "id": "b0e02dc8",
   "metadata": {
    "ExecuteTime": {
     "start_time": "2023-02-28T13:34:50.196Z"
    }
   },
   "outputs": [],
   "source": [
    "# Predicted results\n",
    "logit_reg.predict(X_test)[:10]\n"
   ]
  },
  {
   "cell_type": "code",
   "execution_count": null,
   "id": "c7a65a81",
   "metadata": {
    "ExecuteTime": {
     "start_time": "2023-02-28T13:34:50.197Z"
    }
   },
   "outputs": [],
   "source": [
    "# modify\n",
    "preds = clf_logistic.predict_proba(X_test)\n",
    "# Create dataframes of first five predictions, and first five true labels\n",
    "preds_df = pd.DataFrame(preds[:,1][0:5], columns = ['prob_default'])\n",
    "true_df = y_test.head(5)\n",
    "\n",
    "# Concatenate and print the two data frames for comparison\n",
    "print(pd.concat([true_df.reset_index(drop = True), preds_df], axis = 1))"
   ]
  },
  {
   "cell_type": "markdown",
   "id": "7d6eac92",
   "metadata": {},
   "source": [
    "## Confusion matrix"
   ]
  },
  {
   "cell_type": "code",
   "execution_count": null,
   "id": "24fc7f1f",
   "metadata": {
    "ExecuteTime": {
     "start_time": "2023-02-28T13:34:50.198Z"
    }
   },
   "outputs": [],
   "source": [
    "pred_y = logit_reg.predict(X_test)"
   ]
  },
  {
   "cell_type": "code",
   "execution_count": null,
   "id": "623c1014",
   "metadata": {
    "ExecuteTime": {
     "start_time": "2023-02-28T13:34:50.198Z"
    }
   },
   "outputs": [],
   "source": [
    "confusion_matrix(y_test, pred_y)"
   ]
  },
  {
   "cell_type": "code",
   "execution_count": null,
   "id": "dfed5ec5",
   "metadata": {
    "ExecuteTime": {
     "start_time": "2023-02-28T13:34:50.199Z"
    }
   },
   "outputs": [],
   "source": [
    "classificationSummary(y_test, pred_y, \n",
    "                      class_names=logit_reg.classes_)   "
   ]
  },
  {
   "cell_type": "markdown",
   "id": "a3e053cb",
   "metadata": {
    "ExecuteTime": {
     "start_time": "2023-02-28T04:56:29.627Z"
    }
   },
   "source": [
    "## Summary"
   ]
  },
  {
   "cell_type": "markdown",
   "id": "e9eea009",
   "metadata": {},
   "source": [
    "### Score"
   ]
  },
  {
   "cell_type": "code",
   "execution_count": null,
   "id": "d9f6e21b",
   "metadata": {
    "ExecuteTime": {
     "start_time": "2023-02-28T13:34:50.200Z"
    }
   },
   "outputs": [],
   "source": [
    "tn, fp, fn, tp = confusion_matrix(y_test, logit_reg.predict(X_test)).ravel()\n",
    "\n",
    "print('Accuracy: {}'.format((tn+tp)/(tn+fp+fn+tp)))\n",
    "print('Precision:   {}'.format(tp/(fp+tp))) \n",
    "print('Recall:     {}'.format(tp/(tp+fn)))\n",
    "print('Specificity: {}'.format(tn/(tn+fp)))"
   ]
  },
  {
   "cell_type": "code",
   "execution_count": null,
   "id": "1d5ebead",
   "metadata": {
    "ExecuteTime": {
     "start_time": "2023-02-28T13:34:50.202Z"
    }
   },
   "outputs": [],
   "source": [
    "# precision, recall, fbeta_score and support\n",
    "precision_recall_fscore_support(y_test, logit_reg2.predict(X_test), \n",
    "                                labels=[0, 1])"
   ]
  },
  {
   "cell_type": "code",
   "execution_count": null,
   "id": "44226d8b",
   "metadata": {
    "ExecuteTime": {
     "start_time": "2023-02-28T13:34:50.202Z"
    }
   },
   "outputs": [],
   "source": [
    "# precision    recall  f1-score   support\n",
    "target_names = ['paid off', 'default']\n",
    "true_y = y_test # updated_test_data_20200728  \n",
    "print(classification_report(true_y, pred_y, target_names=target_names))"
   ]
  },
  {
   "cell_type": "code",
   "execution_count": null,
   "id": "165643c8",
   "metadata": {
    "ExecuteTime": {
     "start_time": "2023-02-28T13:34:50.203Z"
    }
   },
   "outputs": [],
   "source": [
    "# F1 = 2 * Precision* Recall/(Precision + Recall)\n",
    "print('F1 SCORE for Default:  {}'.format(2*(tp/(fp+tp))*(tp/(tp+fn))/((tp/(fp+tp))+(tp/(tp+fn)))))"
   ]
  },
  {
   "cell_type": "markdown",
   "id": "d8924394",
   "metadata": {},
   "source": [
    "### ROC, AUC"
   ]
  },
  {
   "cell_type": "code",
   "execution_count": null,
   "id": "4fd4669f",
   "metadata": {
    "ExecuteTime": {
     "start_time": "2023-02-28T13:34:50.205Z"
    }
   },
   "outputs": [],
   "source": [
    "# roc_auc_score\n",
    "print(roc_auc_score(y_test, (logit_reg.predict_proba(X_test)[:, 1])))"
   ]
  },
  {
   "cell_type": "code",
   "execution_count": null,
   "id": "50b1a014",
   "metadata": {
    "ExecuteTime": {
     "start_time": "2023-02-28T13:34:50.206Z"
    }
   },
   "outputs": [],
   "source": [
    "# ROC\n",
    "fpr, tpr, thresholds = roc_curve(y_test, (logit_reg.predict_proba(X_test)[:, 1]), \n",
    "                                 pos_label=1)\n",
    "roc_df = pd.DataFrame({'recall': tpr, 'specificity': 1 - fpr})\n",
    "\n",
    "ax = roc_df.plot(x='specificity', y='recall', figsize=(4, 4), legend=False)\n",
    "ax.set_ylim(0, 1)\n",
    "ax.set_xlim(1, 0)\n",
    "ax.plot((1, 0), (0, 1))\n",
    "ax.set_xlabel('specificity')\n",
    "ax.set_ylabel('recall')\n",
    "\n",
    "plt.tight_layout()"
   ]
  },
  {
   "cell_type": "code",
   "execution_count": null,
   "id": "d9eec708",
   "metadata": {
    "ExecuteTime": {
     "start_time": "2023-02-28T13:34:50.206Z"
    }
   },
   "outputs": [],
   "source": [
    "# AUC\n",
    "fpr, tpr, thresholds = roc_curve(y_test, (logit_reg.predict_proba(X_test)[:,0]), \n",
    "                                 pos_label=1)\n",
    "roc_df = pd.DataFrame({'recall': tpr, 'specificity': 1 - fpr})\n",
    "\n",
    "ax = roc_df.plot(x='specificity', y='recall', figsize=(4, 4), legend=False)\n",
    "ax.set_ylim(0, 1)\n",
    "ax.set_xlim(1, 0)\n",
    "# ax.plot((1, 0), (0, 1))\n",
    "ax.set_xlabel('specificity')\n",
    "ax.set_ylabel('recall')\n",
    "ax.fill_between(roc_df.specificity, 0, roc_df.recall, alpha=0.3)\n",
    "\n",
    "plt.tight_layout()"
   ]
  },
  {
   "cell_type": "code",
   "execution_count": null,
   "id": "6b6a0b5d",
   "metadata": {},
   "outputs": [],
   "source": []
  },
  {
   "cell_type": "code",
   "execution_count": null,
   "id": "f2533362",
   "metadata": {},
   "outputs": [],
   "source": []
  },
  {
   "cell_type": "code",
   "execution_count": null,
   "id": "da8236f2",
   "metadata": {},
   "outputs": [],
   "source": []
  },
  {
   "cell_type": "code",
   "execution_count": null,
   "id": "acf4ac4c",
   "metadata": {},
   "outputs": [],
   "source": []
  },
  {
   "cell_type": "code",
   "execution_count": null,
   "id": "3d9c1c78",
   "metadata": {
    "ExecuteTime": {
     "start_time": "2023-02-28T13:34:50.209Z"
    }
   },
   "outputs": [],
   "source": [
    "\n",
    "# Create a dataframe for the probabilities of default\n",
    "preds_df = pd.DataFrame(preds[:,1], columns = ['prob_default'])\n",
    "\n",
    "# Reassign the values of loan status based on the new threshold\n",
    "preds_df['loan_status'] = preds_df['prob_default'].apply(lambda x: 1 if x > 0.4 else 0)\n",
    "\n",
    "# Store the number of loan defaults from the prediction data\n",
    "num_defaults = preds_df['loan_status'].value_counts()[1]\n",
    "\n",
    "# Store the default recall from the classification report\n",
    "default_recall = precision_recall_fscore_support(y_test,preds_df['loan_status'])[1][1]\n",
    "\n",
    "# Calculate the estimated impact of the new default recall rate\n",
    "print(num_defaults * avg_loan_amnt * (1 - default_recall))\n",
    "\n",
    "\n",
    "# Print the classification report\n",
    "target_names = ['Non-Default', 'Default']\n",
    "print(classification_report(y_test, preds_df['loan_status'], target_names=target_names))\n",
    "\n",
    "\n",
    "\n",
    "# threshold to max score\n",
    "plt.plot(thresh,def_recalls)\n",
    "plt.plot(thresh,nondef_recalls)\n",
    "plt.plot(thresh,accs)\n",
    "plt.xlabel(\"Probability Threshold\")\n",
    "plt.xticks(ticks)\n",
    "plt.legend([\"Default Recall\",\"Non-default Recall\",\"Model Accuracy\"])\n",
    "plt.show()"
   ]
  },
  {
   "cell_type": "markdown",
   "id": "6c698be9",
   "metadata": {},
   "source": [
    "# XGBoost Tree \n",
    "use gini\n",
    "\n",
    "good for interpretation, segmentation, and insight\n",
    "\n",
    "any purity gain after tree split?"
   ]
  },
  {
   "cell_type": "code",
   "execution_count": null,
   "id": "984603f5",
   "metadata": {
    "ExecuteTime": {
     "start_time": "2023-02-28T13:34:50.210Z"
    }
   },
   "outputs": [],
   "source": [
    "predictors = ['borrower_score', 'payment_inc_ratio']\n",
    "outcome = 'outcome'\n",
    "\n",
    "X = loan3000[predictors]\n",
    "y = loan3000[outcome]\n",
    "\n",
    "loan_tree = DecisionTreeClassifier(random_state=1, criterion='entropy',\n",
    "                                   min_impurity_decrease=0.003)\n",
    "loan_tree.fit(X, y)\n",
    "# check loan_tree.feature_importances_\n",
    "rf_all = RandomForestClassifier(n_estimators=200, random_state=1)\n",
    "rf_all.fit(X, y)\n",
    "rf_all.feature_importances_\n",
    "\n",
    "plotDecisionTree(loan_tree, feature_names=predictors, class_names=loan_tree.classes_)\n",
    "\n",
    "\n",
    "# random forest \n",
    "rf = RandomForestClassifier(n_estimators=500, random_state=1, \n",
    "                            oob_score=True)\n",
    "rf.fit(X, y)\n",
    "\n",
    "xgb = XGBClassifier(objective='binary:logistic', subsample=.63)\n",
    "print(xgb.fit(X, y))"
   ]
  },
  {
   "cell_type": "code",
   "execution_count": null,
   "id": "bcd864d7",
   "metadata": {
    "ExecuteTime": {
     "start_time": "2023-02-28T13:34:50.210Z"
    }
   },
   "outputs": [],
   "source": [
    "# results\n",
    "xgb_df = X.copy()\n",
    "xgb_df['prediction'] = xgb.predict(X)\n",
    "xgb_df['prob_default'] = xgb.predict_proba(X)[:, 0]\n",
    "print(xgb_df.head())"
   ]
  }
 ],
 "metadata": {
  "kernelspec": {
   "display_name": "Python 3 (ipykernel)",
   "language": "python",
   "name": "python3"
  },
  "language_info": {
   "codemirror_mode": {
    "name": "ipython",
    "version": 3
   },
   "file_extension": ".py",
   "mimetype": "text/x-python",
   "name": "python",
   "nbconvert_exporter": "python",
   "pygments_lexer": "ipython3",
   "version": "3.10.9"
  },
  "toc": {
   "base_numbering": 1,
   "nav_menu": {},
   "number_sections": true,
   "sideBar": true,
   "skip_h1_title": false,
   "title_cell": "Table of Contents",
   "title_sidebar": "Contents",
   "toc_cell": false,
   "toc_position": {
    "height": "calc(100% - 180px)",
    "left": "10px",
    "top": "150px",
    "width": "288px"
   },
   "toc_section_display": true,
   "toc_window_display": true
  },
  "varInspector": {
   "cols": {
    "lenName": 16,
    "lenType": 16,
    "lenVar": 40
   },
   "kernels_config": {
    "python": {
     "delete_cmd_postfix": "",
     "delete_cmd_prefix": "del ",
     "library": "var_list.py",
     "varRefreshCmd": "print(var_dic_list())"
    },
    "r": {
     "delete_cmd_postfix": ") ",
     "delete_cmd_prefix": "rm(",
     "library": "var_list.r",
     "varRefreshCmd": "cat(var_dic_list()) "
    }
   },
   "types_to_exclude": [
    "module",
    "function",
    "builtin_function_or_method",
    "instance",
    "_Feature"
   ],
   "window_display": false
  }
 },
 "nbformat": 4,
 "nbformat_minor": 5
}
