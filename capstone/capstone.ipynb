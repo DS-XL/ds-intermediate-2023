{
 "cells": [
  {
   "cell_type": "code",
   "execution_count": 1,
   "metadata": {},
   "outputs": [],
   "source": [
    "import pandas as pd\n",
    "import numpy as np\n",
    "from sklearn.model_selection import train_test_split, cross_val_score\n",
    "from sklearn.metrics import accuracy_score, f1_score, roc_auc_score, plot_roc_curve\n",
    "from sklearn.pipeline import Pipeline\n",
    "import matplotlib.pyplot as plt\n",
    "pd.set_option('display.max_columns', 500)"
   ]
  },
  {
   "cell_type": "code",
   "execution_count": 2,
   "metadata": {},
   "outputs": [
    {
     "name": "stderr",
     "output_type": "stream",
     "text": [
      "/Users/yuhaibo/anaconda3/lib/python3.7/site-packages/IPython/core/interactiveshell.py:3057: DtypeWarning: Columns (19,47,55,112,123,124,125,128,129,130,133,139,140,141) have mixed types. Specify dtype option on import or set low_memory=False.\n",
      "  interactivity=interactivity, compiler=compiler, result=result)\n"
     ]
    }
   ],
   "source": [
    "train_raw = pd.read_csv(\"./ds_data/DataBase/train_data.csv\")\n",
    "test_df = pd.read_csv(\"./ds_data/DataBase/updated_test_data_20200728.csv\")"
   ]
  },
  {
   "cell_type": "code",
   "execution_count": 3,
   "metadata": {},
   "outputs": [
    {
     "data": {
      "text/html": [
       "<div>\n",
       "<style scoped>\n",
       "    .dataframe tbody tr th:only-of-type {\n",
       "        vertical-align: middle;\n",
       "    }\n",
       "\n",
       "    .dataframe tbody tr th {\n",
       "        vertical-align: top;\n",
       "    }\n",
       "\n",
       "    .dataframe thead th {\n",
       "        text-align: right;\n",
       "    }\n",
       "</style>\n",
       "<table border=\"1\" class=\"dataframe\">\n",
       "  <thead>\n",
       "    <tr style=\"text-align: right;\">\n",
       "      <th></th>\n",
       "      <th>desc</th>\n",
       "      <th>next_pymnt_d</th>\n",
       "      <th>verification_status_joint</th>\n",
       "      <th>sec_app_earliest_cr_line</th>\n",
       "      <th>hardship_type</th>\n",
       "      <th>hardship_reason</th>\n",
       "      <th>hardship_status</th>\n",
       "      <th>hardship_start_date</th>\n",
       "      <th>hardship_end_date</th>\n",
       "      <th>payment_plan_start_date</th>\n",
       "      <th>hardship_loan_status</th>\n",
       "      <th>debt_settlement_flag_date</th>\n",
       "      <th>settlement_status</th>\n",
       "      <th>settlement_date</th>\n",
       "    </tr>\n",
       "  </thead>\n",
       "  <tbody>\n",
       "    <tr>\n",
       "      <th>0</th>\n",
       "      <td>NaN</td>\n",
       "      <td>NaN</td>\n",
       "      <td>NaN</td>\n",
       "      <td>NaN</td>\n",
       "      <td>NaN</td>\n",
       "      <td>NaN</td>\n",
       "      <td>NaN</td>\n",
       "      <td>NaN</td>\n",
       "      <td>NaN</td>\n",
       "      <td>NaN</td>\n",
       "      <td>NaN</td>\n",
       "      <td>NaN</td>\n",
       "      <td>NaN</td>\n",
       "      <td>NaN</td>\n",
       "    </tr>\n",
       "    <tr>\n",
       "      <th>1</th>\n",
       "      <td>NaN</td>\n",
       "      <td>NaN</td>\n",
       "      <td>NaN</td>\n",
       "      <td>NaN</td>\n",
       "      <td>NaN</td>\n",
       "      <td>NaN</td>\n",
       "      <td>NaN</td>\n",
       "      <td>NaN</td>\n",
       "      <td>NaN</td>\n",
       "      <td>NaN</td>\n",
       "      <td>NaN</td>\n",
       "      <td>NaN</td>\n",
       "      <td>NaN</td>\n",
       "      <td>NaN</td>\n",
       "    </tr>\n",
       "    <tr>\n",
       "      <th>2</th>\n",
       "      <td>NaN</td>\n",
       "      <td>NaN</td>\n",
       "      <td>NaN</td>\n",
       "      <td>NaN</td>\n",
       "      <td>NaN</td>\n",
       "      <td>NaN</td>\n",
       "      <td>NaN</td>\n",
       "      <td>NaN</td>\n",
       "      <td>NaN</td>\n",
       "      <td>NaN</td>\n",
       "      <td>NaN</td>\n",
       "      <td>NaN</td>\n",
       "      <td>NaN</td>\n",
       "      <td>NaN</td>\n",
       "    </tr>\n",
       "    <tr>\n",
       "      <th>3</th>\n",
       "      <td>NaN</td>\n",
       "      <td>NaN</td>\n",
       "      <td>NaN</td>\n",
       "      <td>NaN</td>\n",
       "      <td>NaN</td>\n",
       "      <td>NaN</td>\n",
       "      <td>NaN</td>\n",
       "      <td>NaN</td>\n",
       "      <td>NaN</td>\n",
       "      <td>NaN</td>\n",
       "      <td>NaN</td>\n",
       "      <td>NaN</td>\n",
       "      <td>NaN</td>\n",
       "      <td>NaN</td>\n",
       "    </tr>\n",
       "    <tr>\n",
       "      <th>4</th>\n",
       "      <td>NaN</td>\n",
       "      <td>NaN</td>\n",
       "      <td>NaN</td>\n",
       "      <td>NaN</td>\n",
       "      <td>NaN</td>\n",
       "      <td>NaN</td>\n",
       "      <td>NaN</td>\n",
       "      <td>NaN</td>\n",
       "      <td>NaN</td>\n",
       "      <td>NaN</td>\n",
       "      <td>NaN</td>\n",
       "      <td>NaN</td>\n",
       "      <td>NaN</td>\n",
       "      <td>NaN</td>\n",
       "    </tr>\n",
       "  </tbody>\n",
       "</table>\n",
       "</div>"
      ],
      "text/plain": [
       "  desc next_pymnt_d verification_status_joint sec_app_earliest_cr_line  \\\n",
       "0  NaN          NaN                       NaN                      NaN   \n",
       "1  NaN          NaN                       NaN                      NaN   \n",
       "2  NaN          NaN                       NaN                      NaN   \n",
       "3  NaN          NaN                       NaN                      NaN   \n",
       "4  NaN          NaN                       NaN                      NaN   \n",
       "\n",
       "  hardship_type hardship_reason hardship_status hardship_start_date  \\\n",
       "0           NaN             NaN             NaN                 NaN   \n",
       "1           NaN             NaN             NaN                 NaN   \n",
       "2           NaN             NaN             NaN                 NaN   \n",
       "3           NaN             NaN             NaN                 NaN   \n",
       "4           NaN             NaN             NaN                 NaN   \n",
       "\n",
       "  hardship_end_date payment_plan_start_date hardship_loan_status  \\\n",
       "0               NaN                     NaN                  NaN   \n",
       "1               NaN                     NaN                  NaN   \n",
       "2               NaN                     NaN                  NaN   \n",
       "3               NaN                     NaN                  NaN   \n",
       "4               NaN                     NaN                  NaN   \n",
       "\n",
       "  debt_settlement_flag_date settlement_status settlement_date  \n",
       "0                       NaN               NaN             NaN  \n",
       "1                       NaN               NaN             NaN  \n",
       "2                       NaN               NaN             NaN  \n",
       "3                       NaN               NaN             NaN  \n",
       "4                       NaN               NaN             NaN  "
      ]
     },
     "execution_count": 3,
     "metadata": {},
     "output_type": "execute_result"
    }
   ],
   "source": [
    "# /Users/yuhaibo/anaconda3/lib/python3.7/site-packages/IPython/core/interactiveshell.py:3057: \n",
    "# DtypeWarning: Columns (19,47,55,112,123,124,125,128,129,130,133,139,140,141) have mixed types. \n",
    "# Specify dtype option on import or set low_memory=False. interactivity=interactivity, compiler=compiler, result=result)\n",
    "train_raw.iloc[:, [19,47,55,112,123,124,125,128,129,130,133,139,140,141]].head()"
   ]
  },
  {
   "cell_type": "markdown",
   "metadata": {},
   "source": [
    "#  Requirement Scoping & Data Exploration\n",
    "* This is a classification problem\n",
    "* We have integer, float, string types of data\n",
    "* We want to predict loan_status\n",
    "* TODO: Show feature importance & industrial usage capability\n",
    "* Hyper tuning"
   ]
  },
  {
   "cell_type": "code",
   "execution_count": 4,
   "metadata": {},
   "outputs": [],
   "source": [
    "value_map = {'Charged Off': 1, 'Fully Paid': 0, 'Current': 0}\n",
    "train_raw['loan_status'].replace(value_map, inplace=True)\n",
    "\n",
    "train_raw.index = train_raw.index.set_names(['every_id'])\n",
    "train_raw = train_raw.reset_index()"
   ]
  },
  {
   "cell_type": "code",
   "execution_count": 5,
   "metadata": {},
   "outputs": [],
   "source": [
    "train_df, validate_df = train_test_split(train_raw, train_size=0.8, random_state=42)"
   ]
  },
  {
   "cell_type": "code",
   "execution_count": 6,
   "metadata": {},
   "outputs": [
    {
     "data": {
      "text/html": [
       "<div>\n",
       "<style scoped>\n",
       "    .dataframe tbody tr th:only-of-type {\n",
       "        vertical-align: middle;\n",
       "    }\n",
       "\n",
       "    .dataframe tbody tr th {\n",
       "        vertical-align: top;\n",
       "    }\n",
       "\n",
       "    .dataframe thead th {\n",
       "        text-align: right;\n",
       "    }\n",
       "</style>\n",
       "<table border=\"1\" class=\"dataframe\">\n",
       "  <thead>\n",
       "    <tr style=\"text-align: right;\">\n",
       "      <th></th>\n",
       "      <th>every_id</th>\n",
       "      <th>id</th>\n",
       "      <th>member_id</th>\n",
       "      <th>loan_amnt</th>\n",
       "      <th>funded_amnt</th>\n",
       "      <th>funded_amnt_inv</th>\n",
       "      <th>term</th>\n",
       "      <th>int_rate</th>\n",
       "      <th>installment</th>\n",
       "      <th>grade</th>\n",
       "      <th>sub_grade</th>\n",
       "      <th>emp_title</th>\n",
       "      <th>emp_length</th>\n",
       "      <th>home_ownership</th>\n",
       "      <th>annual_inc</th>\n",
       "      <th>verification_status</th>\n",
       "      <th>issue_d</th>\n",
       "      <th>loan_status</th>\n",
       "      <th>pymnt_plan</th>\n",
       "      <th>url</th>\n",
       "      <th>desc</th>\n",
       "      <th>purpose</th>\n",
       "      <th>title</th>\n",
       "      <th>zip_code</th>\n",
       "      <th>addr_state</th>\n",
       "      <th>dti</th>\n",
       "      <th>delinq_2yrs</th>\n",
       "      <th>earliest_cr_line</th>\n",
       "      <th>inq_last_6mths</th>\n",
       "      <th>mths_since_last_delinq</th>\n",
       "      <th>mths_since_last_record</th>\n",
       "      <th>open_acc</th>\n",
       "      <th>pub_rec</th>\n",
       "      <th>revol_bal</th>\n",
       "      <th>revol_util</th>\n",
       "      <th>total_acc</th>\n",
       "      <th>initial_list_status</th>\n",
       "      <th>out_prncp</th>\n",
       "      <th>out_prncp_inv</th>\n",
       "      <th>total_pymnt</th>\n",
       "      <th>total_pymnt_inv</th>\n",
       "      <th>total_rec_prncp</th>\n",
       "      <th>total_rec_int</th>\n",
       "      <th>total_rec_late_fee</th>\n",
       "      <th>recoveries</th>\n",
       "      <th>collection_recovery_fee</th>\n",
       "      <th>last_pymnt_d</th>\n",
       "      <th>last_pymnt_amnt</th>\n",
       "      <th>next_pymnt_d</th>\n",
       "      <th>last_credit_pull_d</th>\n",
       "      <th>collections_12_mths_ex_med</th>\n",
       "      <th>mths_since_last_major_derog</th>\n",
       "      <th>policy_code</th>\n",
       "      <th>application_type</th>\n",
       "      <th>annual_inc_joint</th>\n",
       "      <th>dti_joint</th>\n",
       "      <th>verification_status_joint</th>\n",
       "      <th>acc_now_delinq</th>\n",
       "      <th>tot_coll_amt</th>\n",
       "      <th>tot_cur_bal</th>\n",
       "      <th>open_acc_6m</th>\n",
       "      <th>open_act_il</th>\n",
       "      <th>open_il_12m</th>\n",
       "      <th>open_il_24m</th>\n",
       "      <th>mths_since_rcnt_il</th>\n",
       "      <th>total_bal_il</th>\n",
       "      <th>il_util</th>\n",
       "      <th>open_rv_12m</th>\n",
       "      <th>open_rv_24m</th>\n",
       "      <th>max_bal_bc</th>\n",
       "      <th>all_util</th>\n",
       "      <th>total_rev_hi_lim</th>\n",
       "      <th>inq_fi</th>\n",
       "      <th>total_cu_tl</th>\n",
       "      <th>inq_last_12m</th>\n",
       "      <th>acc_open_past_24mths</th>\n",
       "      <th>avg_cur_bal</th>\n",
       "      <th>bc_open_to_buy</th>\n",
       "      <th>bc_util</th>\n",
       "      <th>chargeoff_within_12_mths</th>\n",
       "      <th>delinq_amnt</th>\n",
       "      <th>mo_sin_old_il_acct</th>\n",
       "      <th>mo_sin_old_rev_tl_op</th>\n",
       "      <th>mo_sin_rcnt_rev_tl_op</th>\n",
       "      <th>mo_sin_rcnt_tl</th>\n",
       "      <th>mort_acc</th>\n",
       "      <th>mths_since_recent_bc</th>\n",
       "      <th>mths_since_recent_bc_dlq</th>\n",
       "      <th>mths_since_recent_inq</th>\n",
       "      <th>mths_since_recent_revol_delinq</th>\n",
       "      <th>num_accts_ever_120_pd</th>\n",
       "      <th>num_actv_bc_tl</th>\n",
       "      <th>num_actv_rev_tl</th>\n",
       "      <th>num_bc_sats</th>\n",
       "      <th>num_bc_tl</th>\n",
       "      <th>num_il_tl</th>\n",
       "      <th>num_op_rev_tl</th>\n",
       "      <th>num_rev_accts</th>\n",
       "      <th>num_rev_tl_bal_gt_0</th>\n",
       "      <th>num_sats</th>\n",
       "      <th>num_tl_120dpd_2m</th>\n",
       "      <th>num_tl_30dpd</th>\n",
       "      <th>num_tl_90g_dpd_24m</th>\n",
       "      <th>num_tl_op_past_12m</th>\n",
       "      <th>pct_tl_nvr_dlq</th>\n",
       "      <th>percent_bc_gt_75</th>\n",
       "      <th>pub_rec_bankruptcies</th>\n",
       "      <th>tax_liens</th>\n",
       "      <th>tot_hi_cred_lim</th>\n",
       "      <th>total_bal_ex_mort</th>\n",
       "      <th>total_bc_limit</th>\n",
       "      <th>total_il_high_credit_limit</th>\n",
       "      <th>revol_bal_joint</th>\n",
       "      <th>sec_app_earliest_cr_line</th>\n",
       "      <th>sec_app_inq_last_6mths</th>\n",
       "      <th>sec_app_mort_acc</th>\n",
       "      <th>sec_app_open_acc</th>\n",
       "      <th>sec_app_revol_util</th>\n",
       "      <th>sec_app_open_act_il</th>\n",
       "      <th>sec_app_num_rev_accts</th>\n",
       "      <th>sec_app_chargeoff_within_12_mths</th>\n",
       "      <th>sec_app_collections_12_mths_ex_med</th>\n",
       "      <th>sec_app_mths_since_last_major_derog</th>\n",
       "      <th>hardship_flag</th>\n",
       "      <th>hardship_type</th>\n",
       "      <th>hardship_reason</th>\n",
       "      <th>hardship_status</th>\n",
       "      <th>deferral_term</th>\n",
       "      <th>hardship_amount</th>\n",
       "      <th>hardship_start_date</th>\n",
       "      <th>hardship_end_date</th>\n",
       "      <th>payment_plan_start_date</th>\n",
       "      <th>hardship_length</th>\n",
       "      <th>hardship_dpd</th>\n",
       "      <th>hardship_loan_status</th>\n",
       "      <th>orig_projected_additional_accrued_interest</th>\n",
       "      <th>hardship_payoff_balance_amount</th>\n",
       "      <th>hardship_last_payment_amount</th>\n",
       "      <th>disbursement_method</th>\n",
       "      <th>debt_settlement_flag</th>\n",
       "      <th>debt_settlement_flag_date</th>\n",
       "      <th>settlement_status</th>\n",
       "      <th>settlement_date</th>\n",
       "      <th>settlement_amount</th>\n",
       "      <th>settlement_percentage</th>\n",
       "      <th>settlement_term</th>\n",
       "    </tr>\n",
       "  </thead>\n",
       "  <tbody>\n",
       "    <tr>\n",
       "      <th>808947</th>\n",
       "      <td>808947</td>\n",
       "      <td>NaN</td>\n",
       "      <td>NaN</td>\n",
       "      <td>15000</td>\n",
       "      <td>15000</td>\n",
       "      <td>15000.0</td>\n",
       "      <td>36 months</td>\n",
       "      <td>12.74</td>\n",
       "      <td>503.54</td>\n",
       "      <td>C</td>\n",
       "      <td>C1</td>\n",
       "      <td>CEO</td>\n",
       "      <td>10+ years</td>\n",
       "      <td>MORTGAGE</td>\n",
       "      <td>103000.0</td>\n",
       "      <td>Source Verified</td>\n",
       "      <td>Dec-2016</td>\n",
       "      <td>0</td>\n",
       "      <td>n</td>\n",
       "      <td>NaN</td>\n",
       "      <td>NaN</td>\n",
       "      <td>debt_consolidation</td>\n",
       "      <td>Debt consolidation</td>\n",
       "      <td>021xx</td>\n",
       "      <td>MA</td>\n",
       "      <td>21.93</td>\n",
       "      <td>0.0</td>\n",
       "      <td>Oct-2001</td>\n",
       "      <td>0.0</td>\n",
       "      <td>NaN</td>\n",
       "      <td>NaN</td>\n",
       "      <td>20.0</td>\n",
       "      <td>0.0</td>\n",
       "      <td>8600</td>\n",
       "      <td>30.0</td>\n",
       "      <td>28.0</td>\n",
       "      <td>f</td>\n",
       "      <td>4753.95</td>\n",
       "      <td>4753.95</td>\n",
       "      <td>13065.50</td>\n",
       "      <td>13065.50</td>\n",
       "      <td>10246.05</td>\n",
       "      <td>2819.45</td>\n",
       "      <td>0.0</td>\n",
       "      <td>0.0</td>\n",
       "      <td>0.0</td>\n",
       "      <td>Feb-2019</td>\n",
       "      <td>503.54</td>\n",
       "      <td>Mar-2019</td>\n",
       "      <td>Feb-2019</td>\n",
       "      <td>0.0</td>\n",
       "      <td>NaN</td>\n",
       "      <td>1</td>\n",
       "      <td>Individual</td>\n",
       "      <td>NaN</td>\n",
       "      <td>NaN</td>\n",
       "      <td>NaN</td>\n",
       "      <td>0.0</td>\n",
       "      <td>0.0</td>\n",
       "      <td>86956.0</td>\n",
       "      <td>1.0</td>\n",
       "      <td>2.0</td>\n",
       "      <td>3.0</td>\n",
       "      <td>4.0</td>\n",
       "      <td>7.0</td>\n",
       "      <td>78356.0</td>\n",
       "      <td>82.0</td>\n",
       "      <td>1.0</td>\n",
       "      <td>7.0</td>\n",
       "      <td>2126.0</td>\n",
       "      <td>47.0</td>\n",
       "      <td>28700.0</td>\n",
       "      <td>2.0</td>\n",
       "      <td>2.0</td>\n",
       "      <td>2.0</td>\n",
       "      <td>11.0</td>\n",
       "      <td>4348.0</td>\n",
       "      <td>9967.0</td>\n",
       "      <td>44.3</td>\n",
       "      <td>0.0</td>\n",
       "      <td>0.0</td>\n",
       "      <td>16.0</td>\n",
       "      <td>182.0</td>\n",
       "      <td>6.0</td>\n",
       "      <td>6.0</td>\n",
       "      <td>0.0</td>\n",
       "      <td>6.0</td>\n",
       "      <td>NaN</td>\n",
       "      <td>7.0</td>\n",
       "      <td>NaN</td>\n",
       "      <td>0.0</td>\n",
       "      <td>5.0</td>\n",
       "      <td>7.0</td>\n",
       "      <td>11.0</td>\n",
       "      <td>14.0</td>\n",
       "      <td>4.0</td>\n",
       "      <td>17.0</td>\n",
       "      <td>24.0</td>\n",
       "      <td>7.0</td>\n",
       "      <td>20.0</td>\n",
       "      <td>0.0</td>\n",
       "      <td>0.0</td>\n",
       "      <td>0.0</td>\n",
       "      <td>4.0</td>\n",
       "      <td>100.0</td>\n",
       "      <td>18.2</td>\n",
       "      <td>0.0</td>\n",
       "      <td>0.0</td>\n",
       "      <td>113949.0</td>\n",
       "      <td>86956.0</td>\n",
       "      <td>17900.0</td>\n",
       "      <td>85249.0</td>\n",
       "      <td>NaN</td>\n",
       "      <td>NaN</td>\n",
       "      <td>NaN</td>\n",
       "      <td>NaN</td>\n",
       "      <td>NaN</td>\n",
       "      <td>NaN</td>\n",
       "      <td>NaN</td>\n",
       "      <td>NaN</td>\n",
       "      <td>NaN</td>\n",
       "      <td>NaN</td>\n",
       "      <td>NaN</td>\n",
       "      <td>N</td>\n",
       "      <td>NaN</td>\n",
       "      <td>NaN</td>\n",
       "      <td>NaN</td>\n",
       "      <td>NaN</td>\n",
       "      <td>NaN</td>\n",
       "      <td>NaN</td>\n",
       "      <td>NaN</td>\n",
       "      <td>NaN</td>\n",
       "      <td>NaN</td>\n",
       "      <td>NaN</td>\n",
       "      <td>NaN</td>\n",
       "      <td>NaN</td>\n",
       "      <td>NaN</td>\n",
       "      <td>NaN</td>\n",
       "      <td>Cash</td>\n",
       "      <td>N</td>\n",
       "      <td>NaN</td>\n",
       "      <td>NaN</td>\n",
       "      <td>NaN</td>\n",
       "      <td>NaN</td>\n",
       "      <td>NaN</td>\n",
       "      <td>NaN</td>\n",
       "    </tr>\n",
       "    <tr>\n",
       "      <th>1559554</th>\n",
       "      <td>1559554</td>\n",
       "      <td>NaN</td>\n",
       "      <td>NaN</td>\n",
       "      <td>15000</td>\n",
       "      <td>15000</td>\n",
       "      <td>15000.0</td>\n",
       "      <td>60 months</td>\n",
       "      <td>10.49</td>\n",
       "      <td>322.34</td>\n",
       "      <td>B</td>\n",
       "      <td>B3</td>\n",
       "      <td>Principal</td>\n",
       "      <td>10+ years</td>\n",
       "      <td>MORTGAGE</td>\n",
       "      <td>118500.0</td>\n",
       "      <td>Not Verified</td>\n",
       "      <td>Dec-2014</td>\n",
       "      <td>0</td>\n",
       "      <td>n</td>\n",
       "      <td>NaN</td>\n",
       "      <td>NaN</td>\n",
       "      <td>debt_consolidation</td>\n",
       "      <td>Debt consolidation</td>\n",
       "      <td>622xx</td>\n",
       "      <td>IL</td>\n",
       "      <td>24.66</td>\n",
       "      <td>1.0</td>\n",
       "      <td>Jul-1985</td>\n",
       "      <td>0.0</td>\n",
       "      <td>16.0</td>\n",
       "      <td>NaN</td>\n",
       "      <td>30.0</td>\n",
       "      <td>0.0</td>\n",
       "      <td>36475</td>\n",
       "      <td>56.8</td>\n",
       "      <td>58.0</td>\n",
       "      <td>w</td>\n",
       "      <td>3073.27</td>\n",
       "      <td>3073.27</td>\n",
       "      <td>16099.52</td>\n",
       "      <td>16099.52</td>\n",
       "      <td>11926.73</td>\n",
       "      <td>4172.79</td>\n",
       "      <td>0.0</td>\n",
       "      <td>0.0</td>\n",
       "      <td>0.0</td>\n",
       "      <td>Feb-2019</td>\n",
       "      <td>322.34</td>\n",
       "      <td>Mar-2019</td>\n",
       "      <td>Feb-2019</td>\n",
       "      <td>0.0</td>\n",
       "      <td>NaN</td>\n",
       "      <td>1</td>\n",
       "      <td>Individual</td>\n",
       "      <td>NaN</td>\n",
       "      <td>NaN</td>\n",
       "      <td>NaN</td>\n",
       "      <td>0.0</td>\n",
       "      <td>0.0</td>\n",
       "      <td>251578.0</td>\n",
       "      <td>NaN</td>\n",
       "      <td>NaN</td>\n",
       "      <td>NaN</td>\n",
       "      <td>NaN</td>\n",
       "      <td>NaN</td>\n",
       "      <td>NaN</td>\n",
       "      <td>NaN</td>\n",
       "      <td>NaN</td>\n",
       "      <td>NaN</td>\n",
       "      <td>NaN</td>\n",
       "      <td>NaN</td>\n",
       "      <td>64200.0</td>\n",
       "      <td>NaN</td>\n",
       "      <td>NaN</td>\n",
       "      <td>NaN</td>\n",
       "      <td>4.0</td>\n",
       "      <td>9676.0</td>\n",
       "      <td>9973.0</td>\n",
       "      <td>69.7</td>\n",
       "      <td>0.0</td>\n",
       "      <td>0.0</td>\n",
       "      <td>158.0</td>\n",
       "      <td>353.0</td>\n",
       "      <td>22.0</td>\n",
       "      <td>3.0</td>\n",
       "      <td>3.0</td>\n",
       "      <td>26.0</td>\n",
       "      <td>NaN</td>\n",
       "      <td>2.0</td>\n",
       "      <td>16.0</td>\n",
       "      <td>0.0</td>\n",
       "      <td>6.0</td>\n",
       "      <td>13.0</td>\n",
       "      <td>8.0</td>\n",
       "      <td>15.0</td>\n",
       "      <td>15.0</td>\n",
       "      <td>24.0</td>\n",
       "      <td>40.0</td>\n",
       "      <td>13.0</td>\n",
       "      <td>30.0</td>\n",
       "      <td>0.0</td>\n",
       "      <td>0.0</td>\n",
       "      <td>0.0</td>\n",
       "      <td>2.0</td>\n",
       "      <td>98.3</td>\n",
       "      <td>50.0</td>\n",
       "      <td>0.0</td>\n",
       "      <td>0.0</td>\n",
       "      <td>339359.0</td>\n",
       "      <td>143675.0</td>\n",
       "      <td>32900.0</td>\n",
       "      <td>140216.0</td>\n",
       "      <td>NaN</td>\n",
       "      <td>NaN</td>\n",
       "      <td>NaN</td>\n",
       "      <td>NaN</td>\n",
       "      <td>NaN</td>\n",
       "      <td>NaN</td>\n",
       "      <td>NaN</td>\n",
       "      <td>NaN</td>\n",
       "      <td>NaN</td>\n",
       "      <td>NaN</td>\n",
       "      <td>NaN</td>\n",
       "      <td>N</td>\n",
       "      <td>NaN</td>\n",
       "      <td>NaN</td>\n",
       "      <td>NaN</td>\n",
       "      <td>NaN</td>\n",
       "      <td>NaN</td>\n",
       "      <td>NaN</td>\n",
       "      <td>NaN</td>\n",
       "      <td>NaN</td>\n",
       "      <td>NaN</td>\n",
       "      <td>NaN</td>\n",
       "      <td>NaN</td>\n",
       "      <td>NaN</td>\n",
       "      <td>NaN</td>\n",
       "      <td>NaN</td>\n",
       "      <td>Cash</td>\n",
       "      <td>N</td>\n",
       "      <td>NaN</td>\n",
       "      <td>NaN</td>\n",
       "      <td>NaN</td>\n",
       "      <td>NaN</td>\n",
       "      <td>NaN</td>\n",
       "      <td>NaN</td>\n",
       "    </tr>\n",
       "    <tr>\n",
       "      <th>870295</th>\n",
       "      <td>870295</td>\n",
       "      <td>NaN</td>\n",
       "      <td>NaN</td>\n",
       "      <td>15000</td>\n",
       "      <td>15000</td>\n",
       "      <td>15000.0</td>\n",
       "      <td>36 months</td>\n",
       "      <td>11.49</td>\n",
       "      <td>494.57</td>\n",
       "      <td>B</td>\n",
       "      <td>B5</td>\n",
       "      <td>Dietary Manager</td>\n",
       "      <td>10+ years</td>\n",
       "      <td>RENT</td>\n",
       "      <td>60000.0</td>\n",
       "      <td>Verified</td>\n",
       "      <td>Oct-2016</td>\n",
       "      <td>0</td>\n",
       "      <td>n</td>\n",
       "      <td>NaN</td>\n",
       "      <td>NaN</td>\n",
       "      <td>debt_consolidation</td>\n",
       "      <td>Debt consolidation</td>\n",
       "      <td>601xx</td>\n",
       "      <td>IL</td>\n",
       "      <td>28.26</td>\n",
       "      <td>0.0</td>\n",
       "      <td>Nov-1993</td>\n",
       "      <td>2.0</td>\n",
       "      <td>NaN</td>\n",
       "      <td>72.0</td>\n",
       "      <td>24.0</td>\n",
       "      <td>1.0</td>\n",
       "      <td>15763</td>\n",
       "      <td>49.8</td>\n",
       "      <td>60.0</td>\n",
       "      <td>w</td>\n",
       "      <td>3791.33</td>\n",
       "      <td>3791.33</td>\n",
       "      <td>13828.81</td>\n",
       "      <td>13828.81</td>\n",
       "      <td>11208.67</td>\n",
       "      <td>2620.14</td>\n",
       "      <td>0.0</td>\n",
       "      <td>0.0</td>\n",
       "      <td>0.0</td>\n",
       "      <td>Feb-2019</td>\n",
       "      <td>494.57</td>\n",
       "      <td>Mar-2019</td>\n",
       "      <td>Feb-2019</td>\n",
       "      <td>0.0</td>\n",
       "      <td>NaN</td>\n",
       "      <td>1</td>\n",
       "      <td>Individual</td>\n",
       "      <td>NaN</td>\n",
       "      <td>NaN</td>\n",
       "      <td>NaN</td>\n",
       "      <td>0.0</td>\n",
       "      <td>0.0</td>\n",
       "      <td>47348.0</td>\n",
       "      <td>2.0</td>\n",
       "      <td>4.0</td>\n",
       "      <td>2.0</td>\n",
       "      <td>3.0</td>\n",
       "      <td>5.0</td>\n",
       "      <td>31585.0</td>\n",
       "      <td>70.0</td>\n",
       "      <td>3.0</td>\n",
       "      <td>8.0</td>\n",
       "      <td>4576.0</td>\n",
       "      <td>61.0</td>\n",
       "      <td>31668.0</td>\n",
       "      <td>3.0</td>\n",
       "      <td>2.0</td>\n",
       "      <td>6.0</td>\n",
       "      <td>11.0</td>\n",
       "      <td>2630.0</td>\n",
       "      <td>6640.0</td>\n",
       "      <td>65.6</td>\n",
       "      <td>0.0</td>\n",
       "      <td>0.0</td>\n",
       "      <td>145.0</td>\n",
       "      <td>275.0</td>\n",
       "      <td>3.0</td>\n",
       "      <td>3.0</td>\n",
       "      <td>2.0</td>\n",
       "      <td>11.0</td>\n",
       "      <td>NaN</td>\n",
       "      <td>3.0</td>\n",
       "      <td>NaN</td>\n",
       "      <td>0.0</td>\n",
       "      <td>4.0</td>\n",
       "      <td>10.0</td>\n",
       "      <td>4.0</td>\n",
       "      <td>23.0</td>\n",
       "      <td>10.0</td>\n",
       "      <td>20.0</td>\n",
       "      <td>48.0</td>\n",
       "      <td>10.0</td>\n",
       "      <td>20.0</td>\n",
       "      <td>0.0</td>\n",
       "      <td>0.0</td>\n",
       "      <td>0.0</td>\n",
       "      <td>5.0</td>\n",
       "      <td>100.0</td>\n",
       "      <td>50.0</td>\n",
       "      <td>1.0</td>\n",
       "      <td>0.0</td>\n",
       "      <td>77136.0</td>\n",
       "      <td>47348.0</td>\n",
       "      <td>19300.0</td>\n",
       "      <td>45468.0</td>\n",
       "      <td>NaN</td>\n",
       "      <td>NaN</td>\n",
       "      <td>NaN</td>\n",
       "      <td>NaN</td>\n",
       "      <td>NaN</td>\n",
       "      <td>NaN</td>\n",
       "      <td>NaN</td>\n",
       "      <td>NaN</td>\n",
       "      <td>NaN</td>\n",
       "      <td>NaN</td>\n",
       "      <td>NaN</td>\n",
       "      <td>N</td>\n",
       "      <td>NaN</td>\n",
       "      <td>NaN</td>\n",
       "      <td>NaN</td>\n",
       "      <td>NaN</td>\n",
       "      <td>NaN</td>\n",
       "      <td>NaN</td>\n",
       "      <td>NaN</td>\n",
       "      <td>NaN</td>\n",
       "      <td>NaN</td>\n",
       "      <td>NaN</td>\n",
       "      <td>NaN</td>\n",
       "      <td>NaN</td>\n",
       "      <td>NaN</td>\n",
       "      <td>NaN</td>\n",
       "      <td>Cash</td>\n",
       "      <td>N</td>\n",
       "      <td>NaN</td>\n",
       "      <td>NaN</td>\n",
       "      <td>NaN</td>\n",
       "      <td>NaN</td>\n",
       "      <td>NaN</td>\n",
       "      <td>NaN</td>\n",
       "    </tr>\n",
       "    <tr>\n",
       "      <th>572397</th>\n",
       "      <td>572397</td>\n",
       "      <td>NaN</td>\n",
       "      <td>NaN</td>\n",
       "      <td>9600</td>\n",
       "      <td>9600</td>\n",
       "      <td>9600.0</td>\n",
       "      <td>36 months</td>\n",
       "      <td>9.49</td>\n",
       "      <td>307.48</td>\n",
       "      <td>B</td>\n",
       "      <td>B2</td>\n",
       "      <td>Chief Engineer</td>\n",
       "      <td>3 years</td>\n",
       "      <td>RENT</td>\n",
       "      <td>53000.0</td>\n",
       "      <td>Source Verified</td>\n",
       "      <td>Sep-2016</td>\n",
       "      <td>0</td>\n",
       "      <td>n</td>\n",
       "      <td>NaN</td>\n",
       "      <td>NaN</td>\n",
       "      <td>debt_consolidation</td>\n",
       "      <td>Debt consolidation</td>\n",
       "      <td>860xx</td>\n",
       "      <td>AZ</td>\n",
       "      <td>17.57</td>\n",
       "      <td>2.0</td>\n",
       "      <td>Jan-2002</td>\n",
       "      <td>1.0</td>\n",
       "      <td>15.0</td>\n",
       "      <td>NaN</td>\n",
       "      <td>5.0</td>\n",
       "      <td>0.0</td>\n",
       "      <td>2957</td>\n",
       "      <td>46.2</td>\n",
       "      <td>17.0</td>\n",
       "      <td>w</td>\n",
       "      <td>2085.52</td>\n",
       "      <td>2085.52</td>\n",
       "      <td>8911.86</td>\n",
       "      <td>8911.86</td>\n",
       "      <td>7514.48</td>\n",
       "      <td>1397.38</td>\n",
       "      <td>0.0</td>\n",
       "      <td>0.0</td>\n",
       "      <td>0.0</td>\n",
       "      <td>Feb-2019</td>\n",
       "      <td>307.48</td>\n",
       "      <td>Mar-2019</td>\n",
       "      <td>Feb-2019</td>\n",
       "      <td>0.0</td>\n",
       "      <td>NaN</td>\n",
       "      <td>1</td>\n",
       "      <td>Individual</td>\n",
       "      <td>NaN</td>\n",
       "      <td>NaN</td>\n",
       "      <td>NaN</td>\n",
       "      <td>0.0</td>\n",
       "      <td>1898.0</td>\n",
       "      <td>41106.0</td>\n",
       "      <td>1.0</td>\n",
       "      <td>1.0</td>\n",
       "      <td>1.0</td>\n",
       "      <td>1.0</td>\n",
       "      <td>6.0</td>\n",
       "      <td>38149.0</td>\n",
       "      <td>NaN</td>\n",
       "      <td>2.0</td>\n",
       "      <td>2.0</td>\n",
       "      <td>1014.0</td>\n",
       "      <td>46.0</td>\n",
       "      <td>6400.0</td>\n",
       "      <td>0.0</td>\n",
       "      <td>1.0</td>\n",
       "      <td>3.0</td>\n",
       "      <td>3.0</td>\n",
       "      <td>10277.0</td>\n",
       "      <td>386.0</td>\n",
       "      <td>72.4</td>\n",
       "      <td>0.0</td>\n",
       "      <td>0.0</td>\n",
       "      <td>128.0</td>\n",
       "      <td>176.0</td>\n",
       "      <td>8.0</td>\n",
       "      <td>6.0</td>\n",
       "      <td>0.0</td>\n",
       "      <td>41.0</td>\n",
       "      <td>77.0</td>\n",
       "      <td>6.0</td>\n",
       "      <td>15.0</td>\n",
       "      <td>0.0</td>\n",
       "      <td>1.0</td>\n",
       "      <td>3.0</td>\n",
       "      <td>2.0</td>\n",
       "      <td>6.0</td>\n",
       "      <td>5.0</td>\n",
       "      <td>4.0</td>\n",
       "      <td>12.0</td>\n",
       "      <td>3.0</td>\n",
       "      <td>5.0</td>\n",
       "      <td>0.0</td>\n",
       "      <td>0.0</td>\n",
       "      <td>0.0</td>\n",
       "      <td>3.0</td>\n",
       "      <td>75.0</td>\n",
       "      <td>0.0</td>\n",
       "      <td>0.0</td>\n",
       "      <td>0.0</td>\n",
       "      <td>46070.0</td>\n",
       "      <td>41106.0</td>\n",
       "      <td>1400.0</td>\n",
       "      <td>39670.0</td>\n",
       "      <td>NaN</td>\n",
       "      <td>NaN</td>\n",
       "      <td>NaN</td>\n",
       "      <td>NaN</td>\n",
       "      <td>NaN</td>\n",
       "      <td>NaN</td>\n",
       "      <td>NaN</td>\n",
       "      <td>NaN</td>\n",
       "      <td>NaN</td>\n",
       "      <td>NaN</td>\n",
       "      <td>NaN</td>\n",
       "      <td>N</td>\n",
       "      <td>NaN</td>\n",
       "      <td>NaN</td>\n",
       "      <td>NaN</td>\n",
       "      <td>NaN</td>\n",
       "      <td>NaN</td>\n",
       "      <td>NaN</td>\n",
       "      <td>NaN</td>\n",
       "      <td>NaN</td>\n",
       "      <td>NaN</td>\n",
       "      <td>NaN</td>\n",
       "      <td>NaN</td>\n",
       "      <td>NaN</td>\n",
       "      <td>NaN</td>\n",
       "      <td>NaN</td>\n",
       "      <td>Cash</td>\n",
       "      <td>N</td>\n",
       "      <td>NaN</td>\n",
       "      <td>NaN</td>\n",
       "      <td>NaN</td>\n",
       "      <td>NaN</td>\n",
       "      <td>NaN</td>\n",
       "      <td>NaN</td>\n",
       "    </tr>\n",
       "    <tr>\n",
       "      <th>1172593</th>\n",
       "      <td>1172593</td>\n",
       "      <td>NaN</td>\n",
       "      <td>NaN</td>\n",
       "      <td>24000</td>\n",
       "      <td>24000</td>\n",
       "      <td>24000.0</td>\n",
       "      <td>60 months</td>\n",
       "      <td>12.99</td>\n",
       "      <td>545.96</td>\n",
       "      <td>C</td>\n",
       "      <td>C2</td>\n",
       "      <td>Respiratory Therapist</td>\n",
       "      <td>5 years</td>\n",
       "      <td>MORTGAGE</td>\n",
       "      <td>70000.0</td>\n",
       "      <td>Source Verified</td>\n",
       "      <td>Feb-2015</td>\n",
       "      <td>0</td>\n",
       "      <td>n</td>\n",
       "      <td>NaN</td>\n",
       "      <td>NaN</td>\n",
       "      <td>debt_consolidation</td>\n",
       "      <td>Debt consolidation</td>\n",
       "      <td>881xx</td>\n",
       "      <td>NM</td>\n",
       "      <td>26.28</td>\n",
       "      <td>0.0</td>\n",
       "      <td>Mar-2003</td>\n",
       "      <td>0.0</td>\n",
       "      <td>70.0</td>\n",
       "      <td>21.0</td>\n",
       "      <td>10.0</td>\n",
       "      <td>2.0</td>\n",
       "      <td>19175</td>\n",
       "      <td>75.8</td>\n",
       "      <td>18.0</td>\n",
       "      <td>w</td>\n",
       "      <td>6119.84</td>\n",
       "      <td>6119.84</td>\n",
       "      <td>26188.76</td>\n",
       "      <td>26188.76</td>\n",
       "      <td>17880.16</td>\n",
       "      <td>8308.60</td>\n",
       "      <td>0.0</td>\n",
       "      <td>0.0</td>\n",
       "      <td>0.0</td>\n",
       "      <td>Feb-2019</td>\n",
       "      <td>545.96</td>\n",
       "      <td>Mar-2019</td>\n",
       "      <td>Feb-2019</td>\n",
       "      <td>0.0</td>\n",
       "      <td>NaN</td>\n",
       "      <td>1</td>\n",
       "      <td>Individual</td>\n",
       "      <td>NaN</td>\n",
       "      <td>NaN</td>\n",
       "      <td>NaN</td>\n",
       "      <td>0.0</td>\n",
       "      <td>0.0</td>\n",
       "      <td>298039.0</td>\n",
       "      <td>NaN</td>\n",
       "      <td>NaN</td>\n",
       "      <td>NaN</td>\n",
       "      <td>NaN</td>\n",
       "      <td>NaN</td>\n",
       "      <td>NaN</td>\n",
       "      <td>NaN</td>\n",
       "      <td>NaN</td>\n",
       "      <td>NaN</td>\n",
       "      <td>NaN</td>\n",
       "      <td>NaN</td>\n",
       "      <td>25300.0</td>\n",
       "      <td>NaN</td>\n",
       "      <td>NaN</td>\n",
       "      <td>NaN</td>\n",
       "      <td>3.0</td>\n",
       "      <td>29804.0</td>\n",
       "      <td>5126.0</td>\n",
       "      <td>78.9</td>\n",
       "      <td>0.0</td>\n",
       "      <td>0.0</td>\n",
       "      <td>141.0</td>\n",
       "      <td>142.0</td>\n",
       "      <td>9.0</td>\n",
       "      <td>7.0</td>\n",
       "      <td>1.0</td>\n",
       "      <td>9.0</td>\n",
       "      <td>70.0</td>\n",
       "      <td>8.0</td>\n",
       "      <td>70.0</td>\n",
       "      <td>0.0</td>\n",
       "      <td>4.0</td>\n",
       "      <td>5.0</td>\n",
       "      <td>4.0</td>\n",
       "      <td>8.0</td>\n",
       "      <td>6.0</td>\n",
       "      <td>5.0</td>\n",
       "      <td>11.0</td>\n",
       "      <td>5.0</td>\n",
       "      <td>10.0</td>\n",
       "      <td>0.0</td>\n",
       "      <td>0.0</td>\n",
       "      <td>0.0</td>\n",
       "      <td>2.0</td>\n",
       "      <td>94.1</td>\n",
       "      <td>50.0</td>\n",
       "      <td>0.0</td>\n",
       "      <td>2.0</td>\n",
       "      <td>337965.0</td>\n",
       "      <td>55360.0</td>\n",
       "      <td>24300.0</td>\n",
       "      <td>67844.0</td>\n",
       "      <td>NaN</td>\n",
       "      <td>NaN</td>\n",
       "      <td>NaN</td>\n",
       "      <td>NaN</td>\n",
       "      <td>NaN</td>\n",
       "      <td>NaN</td>\n",
       "      <td>NaN</td>\n",
       "      <td>NaN</td>\n",
       "      <td>NaN</td>\n",
       "      <td>NaN</td>\n",
       "      <td>NaN</td>\n",
       "      <td>N</td>\n",
       "      <td>NaN</td>\n",
       "      <td>NaN</td>\n",
       "      <td>NaN</td>\n",
       "      <td>NaN</td>\n",
       "      <td>NaN</td>\n",
       "      <td>NaN</td>\n",
       "      <td>NaN</td>\n",
       "      <td>NaN</td>\n",
       "      <td>NaN</td>\n",
       "      <td>NaN</td>\n",
       "      <td>NaN</td>\n",
       "      <td>NaN</td>\n",
       "      <td>NaN</td>\n",
       "      <td>NaN</td>\n",
       "      <td>Cash</td>\n",
       "      <td>N</td>\n",
       "      <td>NaN</td>\n",
       "      <td>NaN</td>\n",
       "      <td>NaN</td>\n",
       "      <td>NaN</td>\n",
       "      <td>NaN</td>\n",
       "      <td>NaN</td>\n",
       "    </tr>\n",
       "  </tbody>\n",
       "</table>\n",
       "</div>"
      ],
      "text/plain": [
       "         every_id  id  member_id  loan_amnt  funded_amnt  funded_amnt_inv  \\\n",
       "808947     808947 NaN        NaN      15000        15000          15000.0   \n",
       "1559554   1559554 NaN        NaN      15000        15000          15000.0   \n",
       "870295     870295 NaN        NaN      15000        15000          15000.0   \n",
       "572397     572397 NaN        NaN       9600         9600           9600.0   \n",
       "1172593   1172593 NaN        NaN      24000        24000          24000.0   \n",
       "\n",
       "               term  int_rate  installment grade sub_grade  \\\n",
       "808947    36 months     12.74       503.54     C        C1   \n",
       "1559554   60 months     10.49       322.34     B        B3   \n",
       "870295    36 months     11.49       494.57     B        B5   \n",
       "572397    36 months      9.49       307.48     B        B2   \n",
       "1172593   60 months     12.99       545.96     C        C2   \n",
       "\n",
       "                     emp_title emp_length home_ownership  annual_inc  \\\n",
       "808947                     CEO  10+ years       MORTGAGE    103000.0   \n",
       "1559554              Principal  10+ years       MORTGAGE    118500.0   \n",
       "870295         Dietary Manager  10+ years           RENT     60000.0   \n",
       "572397          Chief Engineer    3 years           RENT     53000.0   \n",
       "1172593  Respiratory Therapist    5 years       MORTGAGE     70000.0   \n",
       "\n",
       "        verification_status   issue_d  loan_status pymnt_plan  url desc  \\\n",
       "808947      Source Verified  Dec-2016            0          n  NaN  NaN   \n",
       "1559554        Not Verified  Dec-2014            0          n  NaN  NaN   \n",
       "870295             Verified  Oct-2016            0          n  NaN  NaN   \n",
       "572397      Source Verified  Sep-2016            0          n  NaN  NaN   \n",
       "1172593     Source Verified  Feb-2015            0          n  NaN  NaN   \n",
       "\n",
       "                    purpose               title zip_code addr_state    dti  \\\n",
       "808947   debt_consolidation  Debt consolidation    021xx         MA  21.93   \n",
       "1559554  debt_consolidation  Debt consolidation    622xx         IL  24.66   \n",
       "870295   debt_consolidation  Debt consolidation    601xx         IL  28.26   \n",
       "572397   debt_consolidation  Debt consolidation    860xx         AZ  17.57   \n",
       "1172593  debt_consolidation  Debt consolidation    881xx         NM  26.28   \n",
       "\n",
       "         delinq_2yrs earliest_cr_line  inq_last_6mths  mths_since_last_delinq  \\\n",
       "808947           0.0         Oct-2001             0.0                     NaN   \n",
       "1559554          1.0         Jul-1985             0.0                    16.0   \n",
       "870295           0.0         Nov-1993             2.0                     NaN   \n",
       "572397           2.0         Jan-2002             1.0                    15.0   \n",
       "1172593          0.0         Mar-2003             0.0                    70.0   \n",
       "\n",
       "         mths_since_last_record  open_acc  pub_rec  revol_bal  revol_util  \\\n",
       "808947                      NaN      20.0      0.0       8600        30.0   \n",
       "1559554                     NaN      30.0      0.0      36475        56.8   \n",
       "870295                     72.0      24.0      1.0      15763        49.8   \n",
       "572397                      NaN       5.0      0.0       2957        46.2   \n",
       "1172593                    21.0      10.0      2.0      19175        75.8   \n",
       "\n",
       "         total_acc initial_list_status  out_prncp  out_prncp_inv  total_pymnt  \\\n",
       "808947        28.0                   f    4753.95        4753.95     13065.50   \n",
       "1559554       58.0                   w    3073.27        3073.27     16099.52   \n",
       "870295        60.0                   w    3791.33        3791.33     13828.81   \n",
       "572397        17.0                   w    2085.52        2085.52      8911.86   \n",
       "1172593       18.0                   w    6119.84        6119.84     26188.76   \n",
       "\n",
       "         total_pymnt_inv  total_rec_prncp  total_rec_int  total_rec_late_fee  \\\n",
       "808947          13065.50         10246.05        2819.45                 0.0   \n",
       "1559554         16099.52         11926.73        4172.79                 0.0   \n",
       "870295          13828.81         11208.67        2620.14                 0.0   \n",
       "572397           8911.86          7514.48        1397.38                 0.0   \n",
       "1172593         26188.76         17880.16        8308.60                 0.0   \n",
       "\n",
       "         recoveries  collection_recovery_fee last_pymnt_d  last_pymnt_amnt  \\\n",
       "808947          0.0                      0.0     Feb-2019           503.54   \n",
       "1559554         0.0                      0.0     Feb-2019           322.34   \n",
       "870295          0.0                      0.0     Feb-2019           494.57   \n",
       "572397          0.0                      0.0     Feb-2019           307.48   \n",
       "1172593         0.0                      0.0     Feb-2019           545.96   \n",
       "\n",
       "        next_pymnt_d last_credit_pull_d  collections_12_mths_ex_med  \\\n",
       "808947      Mar-2019           Feb-2019                         0.0   \n",
       "1559554     Mar-2019           Feb-2019                         0.0   \n",
       "870295      Mar-2019           Feb-2019                         0.0   \n",
       "572397      Mar-2019           Feb-2019                         0.0   \n",
       "1172593     Mar-2019           Feb-2019                         0.0   \n",
       "\n",
       "         mths_since_last_major_derog  policy_code application_type  \\\n",
       "808947                           NaN            1       Individual   \n",
       "1559554                          NaN            1       Individual   \n",
       "870295                           NaN            1       Individual   \n",
       "572397                           NaN            1       Individual   \n",
       "1172593                          NaN            1       Individual   \n",
       "\n",
       "         annual_inc_joint  dti_joint verification_status_joint  \\\n",
       "808947                NaN        NaN                       NaN   \n",
       "1559554               NaN        NaN                       NaN   \n",
       "870295                NaN        NaN                       NaN   \n",
       "572397                NaN        NaN                       NaN   \n",
       "1172593               NaN        NaN                       NaN   \n",
       "\n",
       "         acc_now_delinq  tot_coll_amt  tot_cur_bal  open_acc_6m  open_act_il  \\\n",
       "808947              0.0           0.0      86956.0          1.0          2.0   \n",
       "1559554             0.0           0.0     251578.0          NaN          NaN   \n",
       "870295              0.0           0.0      47348.0          2.0          4.0   \n",
       "572397              0.0        1898.0      41106.0          1.0          1.0   \n",
       "1172593             0.0           0.0     298039.0          NaN          NaN   \n",
       "\n",
       "         open_il_12m  open_il_24m  mths_since_rcnt_il  total_bal_il  il_util  \\\n",
       "808947           3.0          4.0                 7.0       78356.0     82.0   \n",
       "1559554          NaN          NaN                 NaN           NaN      NaN   \n",
       "870295           2.0          3.0                 5.0       31585.0     70.0   \n",
       "572397           1.0          1.0                 6.0       38149.0      NaN   \n",
       "1172593          NaN          NaN                 NaN           NaN      NaN   \n",
       "\n",
       "         open_rv_12m  open_rv_24m  max_bal_bc  all_util  total_rev_hi_lim  \\\n",
       "808947           1.0          7.0      2126.0      47.0           28700.0   \n",
       "1559554          NaN          NaN         NaN       NaN           64200.0   \n",
       "870295           3.0          8.0      4576.0      61.0           31668.0   \n",
       "572397           2.0          2.0      1014.0      46.0            6400.0   \n",
       "1172593          NaN          NaN         NaN       NaN           25300.0   \n",
       "\n",
       "         inq_fi  total_cu_tl  inq_last_12m  acc_open_past_24mths  avg_cur_bal  \\\n",
       "808947      2.0          2.0           2.0                  11.0       4348.0   \n",
       "1559554     NaN          NaN           NaN                   4.0       9676.0   \n",
       "870295      3.0          2.0           6.0                  11.0       2630.0   \n",
       "572397      0.0          1.0           3.0                   3.0      10277.0   \n",
       "1172593     NaN          NaN           NaN                   3.0      29804.0   \n",
       "\n",
       "         bc_open_to_buy  bc_util  chargeoff_within_12_mths  delinq_amnt  \\\n",
       "808947           9967.0     44.3                       0.0          0.0   \n",
       "1559554          9973.0     69.7                       0.0          0.0   \n",
       "870295           6640.0     65.6                       0.0          0.0   \n",
       "572397            386.0     72.4                       0.0          0.0   \n",
       "1172593          5126.0     78.9                       0.0          0.0   \n",
       "\n",
       "         mo_sin_old_il_acct  mo_sin_old_rev_tl_op  mo_sin_rcnt_rev_tl_op  \\\n",
       "808947                 16.0                 182.0                    6.0   \n",
       "1559554               158.0                 353.0                   22.0   \n",
       "870295                145.0                 275.0                    3.0   \n",
       "572397                128.0                 176.0                    8.0   \n",
       "1172593               141.0                 142.0                    9.0   \n",
       "\n",
       "         mo_sin_rcnt_tl  mort_acc  mths_since_recent_bc  \\\n",
       "808947              6.0       0.0                   6.0   \n",
       "1559554             3.0       3.0                  26.0   \n",
       "870295              3.0       2.0                  11.0   \n",
       "572397              6.0       0.0                  41.0   \n",
       "1172593             7.0       1.0                   9.0   \n",
       "\n",
       "         mths_since_recent_bc_dlq  mths_since_recent_inq  \\\n",
       "808947                        NaN                    7.0   \n",
       "1559554                       NaN                    2.0   \n",
       "870295                        NaN                    3.0   \n",
       "572397                       77.0                    6.0   \n",
       "1172593                      70.0                    8.0   \n",
       "\n",
       "         mths_since_recent_revol_delinq  num_accts_ever_120_pd  \\\n",
       "808947                              NaN                    0.0   \n",
       "1559554                            16.0                    0.0   \n",
       "870295                              NaN                    0.0   \n",
       "572397                             15.0                    0.0   \n",
       "1172593                            70.0                    0.0   \n",
       "\n",
       "         num_actv_bc_tl  num_actv_rev_tl  num_bc_sats  num_bc_tl  num_il_tl  \\\n",
       "808947              5.0              7.0         11.0       14.0        4.0   \n",
       "1559554             6.0             13.0          8.0       15.0       15.0   \n",
       "870295              4.0             10.0          4.0       23.0       10.0   \n",
       "572397              1.0              3.0          2.0        6.0        5.0   \n",
       "1172593             4.0              5.0          4.0        8.0        6.0   \n",
       "\n",
       "         num_op_rev_tl  num_rev_accts  num_rev_tl_bal_gt_0  num_sats  \\\n",
       "808947            17.0           24.0                  7.0      20.0   \n",
       "1559554           24.0           40.0                 13.0      30.0   \n",
       "870295            20.0           48.0                 10.0      20.0   \n",
       "572397             4.0           12.0                  3.0       5.0   \n",
       "1172593            5.0           11.0                  5.0      10.0   \n",
       "\n",
       "         num_tl_120dpd_2m  num_tl_30dpd  num_tl_90g_dpd_24m  \\\n",
       "808947                0.0           0.0                 0.0   \n",
       "1559554               0.0           0.0                 0.0   \n",
       "870295                0.0           0.0                 0.0   \n",
       "572397                0.0           0.0                 0.0   \n",
       "1172593               0.0           0.0                 0.0   \n",
       "\n",
       "         num_tl_op_past_12m  pct_tl_nvr_dlq  percent_bc_gt_75  \\\n",
       "808947                  4.0           100.0              18.2   \n",
       "1559554                 2.0            98.3              50.0   \n",
       "870295                  5.0           100.0              50.0   \n",
       "572397                  3.0            75.0               0.0   \n",
       "1172593                 2.0            94.1              50.0   \n",
       "\n",
       "         pub_rec_bankruptcies  tax_liens  tot_hi_cred_lim  total_bal_ex_mort  \\\n",
       "808947                    0.0        0.0         113949.0            86956.0   \n",
       "1559554                   0.0        0.0         339359.0           143675.0   \n",
       "870295                    1.0        0.0          77136.0            47348.0   \n",
       "572397                    0.0        0.0          46070.0            41106.0   \n",
       "1172593                   0.0        2.0         337965.0            55360.0   \n",
       "\n",
       "         total_bc_limit  total_il_high_credit_limit  revol_bal_joint  \\\n",
       "808947          17900.0                     85249.0              NaN   \n",
       "1559554         32900.0                    140216.0              NaN   \n",
       "870295          19300.0                     45468.0              NaN   \n",
       "572397           1400.0                     39670.0              NaN   \n",
       "1172593         24300.0                     67844.0              NaN   \n",
       "\n",
       "        sec_app_earliest_cr_line  sec_app_inq_last_6mths  sec_app_mort_acc  \\\n",
       "808947                       NaN                     NaN               NaN   \n",
       "1559554                      NaN                     NaN               NaN   \n",
       "870295                       NaN                     NaN               NaN   \n",
       "572397                       NaN                     NaN               NaN   \n",
       "1172593                      NaN                     NaN               NaN   \n",
       "\n",
       "         sec_app_open_acc  sec_app_revol_util  sec_app_open_act_il  \\\n",
       "808947                NaN                 NaN                  NaN   \n",
       "1559554               NaN                 NaN                  NaN   \n",
       "870295                NaN                 NaN                  NaN   \n",
       "572397                NaN                 NaN                  NaN   \n",
       "1172593               NaN                 NaN                  NaN   \n",
       "\n",
       "         sec_app_num_rev_accts  sec_app_chargeoff_within_12_mths  \\\n",
       "808947                     NaN                               NaN   \n",
       "1559554                    NaN                               NaN   \n",
       "870295                     NaN                               NaN   \n",
       "572397                     NaN                               NaN   \n",
       "1172593                    NaN                               NaN   \n",
       "\n",
       "         sec_app_collections_12_mths_ex_med  \\\n",
       "808947                                  NaN   \n",
       "1559554                                 NaN   \n",
       "870295                                  NaN   \n",
       "572397                                  NaN   \n",
       "1172593                                 NaN   \n",
       "\n",
       "         sec_app_mths_since_last_major_derog hardship_flag hardship_type  \\\n",
       "808947                                   NaN             N           NaN   \n",
       "1559554                                  NaN             N           NaN   \n",
       "870295                                   NaN             N           NaN   \n",
       "572397                                   NaN             N           NaN   \n",
       "1172593                                  NaN             N           NaN   \n",
       "\n",
       "        hardship_reason hardship_status  deferral_term  hardship_amount  \\\n",
       "808947              NaN             NaN            NaN              NaN   \n",
       "1559554             NaN             NaN            NaN              NaN   \n",
       "870295              NaN             NaN            NaN              NaN   \n",
       "572397              NaN             NaN            NaN              NaN   \n",
       "1172593             NaN             NaN            NaN              NaN   \n",
       "\n",
       "        hardship_start_date hardship_end_date payment_plan_start_date  \\\n",
       "808947                  NaN               NaN                     NaN   \n",
       "1559554                 NaN               NaN                     NaN   \n",
       "870295                  NaN               NaN                     NaN   \n",
       "572397                  NaN               NaN                     NaN   \n",
       "1172593                 NaN               NaN                     NaN   \n",
       "\n",
       "         hardship_length  hardship_dpd hardship_loan_status  \\\n",
       "808947               NaN           NaN                  NaN   \n",
       "1559554              NaN           NaN                  NaN   \n",
       "870295               NaN           NaN                  NaN   \n",
       "572397               NaN           NaN                  NaN   \n",
       "1172593              NaN           NaN                  NaN   \n",
       "\n",
       "         orig_projected_additional_accrued_interest  \\\n",
       "808947                                          NaN   \n",
       "1559554                                         NaN   \n",
       "870295                                          NaN   \n",
       "572397                                          NaN   \n",
       "1172593                                         NaN   \n",
       "\n",
       "         hardship_payoff_balance_amount  hardship_last_payment_amount  \\\n",
       "808947                              NaN                           NaN   \n",
       "1559554                             NaN                           NaN   \n",
       "870295                              NaN                           NaN   \n",
       "572397                              NaN                           NaN   \n",
       "1172593                             NaN                           NaN   \n",
       "\n",
       "        disbursement_method debt_settlement_flag debt_settlement_flag_date  \\\n",
       "808947                 Cash                    N                       NaN   \n",
       "1559554                Cash                    N                       NaN   \n",
       "870295                 Cash                    N                       NaN   \n",
       "572397                 Cash                    N                       NaN   \n",
       "1172593                Cash                    N                       NaN   \n",
       "\n",
       "        settlement_status settlement_date  settlement_amount  \\\n",
       "808947                NaN             NaN                NaN   \n",
       "1559554               NaN             NaN                NaN   \n",
       "870295                NaN             NaN                NaN   \n",
       "572397                NaN             NaN                NaN   \n",
       "1172593               NaN             NaN                NaN   \n",
       "\n",
       "         settlement_percentage  settlement_term  \n",
       "808947                     NaN              NaN  \n",
       "1559554                    NaN              NaN  \n",
       "870295                     NaN              NaN  \n",
       "572397                     NaN              NaN  \n",
       "1172593                    NaN              NaN  "
      ]
     },
     "execution_count": 6,
     "metadata": {},
     "output_type": "execute_result"
    }
   ],
   "source": [
    "train_df.sample(5)"
   ]
  },
  {
   "cell_type": "code",
   "execution_count": 7,
   "metadata": {},
   "outputs": [
    {
     "name": "stdout",
     "output_type": "stream",
     "text": [
      "(1461700, 146)\n",
      "(365425, 146)\n",
      "(211627, 146)\n"
     ]
    }
   ],
   "source": [
    "print(train_df.shape)\n",
    "print(validate_df.shape)\n",
    "print(test_df.shape)"
   ]
  },
  {
   "cell_type": "code",
   "execution_count": 8,
   "metadata": {},
   "outputs": [
    {
     "name": "stdout",
     "output_type": "stream",
     "text": [
      "(1354809, 146)\n",
      "(106891, 146)\n",
      "\n",
      "\n",
      "(338790, 146)\n",
      "(26635, 146)\n"
     ]
    }
   ],
   "source": [
    "print(train_df.loc[train_df['loan_status'] == 0].shape)\n",
    "print(train_df.loc[train_df['loan_status'] == 1].shape)\n",
    "print(\"\\n\")\n",
    "print(validate_df.loc[validate_df['loan_status'] == 0].shape)\n",
    "print(validate_df.loc[validate_df['loan_status'] == 1].shape)"
   ]
  },
  {
   "cell_type": "code",
   "execution_count": 9,
   "metadata": {},
   "outputs": [
    {
     "data": {
      "text/plain": [
       "0.9211025317959949"
      ]
     },
     "execution_count": 9,
     "metadata": {},
     "output_type": "execute_result"
    }
   ],
   "source": [
    "(1354809-106891)/1354809"
   ]
  },
  {
   "cell_type": "markdown",
   "metadata": {},
   "source": [
    "&uarr; 92% of people have loan_status=0, this is pretty imbalanced, we can downsample in train_df and validate_df:"
   ]
  },
  {
   "cell_type": "code",
   "execution_count": 10,
   "metadata": {},
   "outputs": [
    {
     "data": {
      "text/plain": [
       "(200000, 146)"
      ]
     },
     "execution_count": 10,
     "metadata": {},
     "output_type": "execute_result"
    }
   ],
   "source": [
    "train_df_balanced_a = train_df[train_df['loan_status'] == 0].sample(int(1e5))\n",
    "train_df_balanced_b = train_df[train_df['loan_status'] == 1].sample(int(1e5))\n",
    "train_df_balanced = pd.concat([train_df_balanced_a, train_df_balanced_b], axis=0)\n",
    "train_df_balanced.shape"
   ]
  },
  {
   "cell_type": "code",
   "execution_count": 11,
   "metadata": {},
   "outputs": [
    {
     "data": {
      "text/plain": [
       "(40000, 146)"
      ]
     },
     "execution_count": 11,
     "metadata": {},
     "output_type": "execute_result"
    }
   ],
   "source": [
    "validate_df_balanced_a = validate_df[validate_df['loan_status'] == 0].sample(int(2e4))\n",
    "validate_df_balanced_b = validate_df[validate_df['loan_status'] == 1].sample(int(2e4))\n",
    "validate_df_balanced = pd.concat([validate_df_balanced_a, validate_df_balanced_b], axis=0)\n",
    "validate_df_balanced.shape"
   ]
  },
  {
   "cell_type": "markdown",
   "metadata": {},
   "source": [
    "OK, let's see why people loan and how they distribute: &darr;"
   ]
  },
  {
   "cell_type": "code",
   "execution_count": 12,
   "metadata": {},
   "outputs": [
    {
     "data": {
      "text/plain": [
       "array(['other', 'credit_card', 'moving', 'major_purchase', 'medical',\n",
       "       'debt_consolidation', 'vacation', 'house', 'home_improvement',\n",
       "       'small_business', 'car', 'renewable_energy', 'wedding',\n",
       "       'educational'], dtype=object)"
      ]
     },
     "execution_count": 12,
     "metadata": {},
     "output_type": "execute_result"
    }
   ],
   "source": [
    "train_df['purpose'].unique()"
   ]
  },
  {
   "cell_type": "code",
   "execution_count": 13,
   "metadata": {},
   "outputs": [
    {
     "data": {
      "text/html": [
       "<div>\n",
       "<style scoped>\n",
       "    .dataframe tbody tr th:only-of-type {\n",
       "        vertical-align: middle;\n",
       "    }\n",
       "\n",
       "    .dataframe tbody tr th {\n",
       "        vertical-align: top;\n",
       "    }\n",
       "\n",
       "    .dataframe thead th {\n",
       "        text-align: right;\n",
       "    }\n",
       "</style>\n",
       "<table border=\"1\" class=\"dataframe\">\n",
       "  <thead>\n",
       "    <tr style=\"text-align: right;\">\n",
       "      <th></th>\n",
       "      <th>loan_status</th>\n",
       "    </tr>\n",
       "    <tr>\n",
       "      <th>purpose</th>\n",
       "      <th></th>\n",
       "    </tr>\n",
       "  </thead>\n",
       "  <tbody>\n",
       "    <tr>\n",
       "      <th>debt_consolidation</th>\n",
       "      <td>824723</td>\n",
       "    </tr>\n",
       "    <tr>\n",
       "      <th>credit_card</th>\n",
       "      <td>342600</td>\n",
       "    </tr>\n",
       "    <tr>\n",
       "      <th>home_improvement</th>\n",
       "      <td>98119</td>\n",
       "    </tr>\n",
       "    <tr>\n",
       "      <th>other</th>\n",
       "      <td>88883</td>\n",
       "    </tr>\n",
       "    <tr>\n",
       "      <th>major_purchase</th>\n",
       "      <td>31639</td>\n",
       "    </tr>\n",
       "    <tr>\n",
       "      <th>medical</th>\n",
       "      <td>17453</td>\n",
       "    </tr>\n",
       "    <tr>\n",
       "      <th>car</th>\n",
       "      <td>14733</td>\n",
       "    </tr>\n",
       "    <tr>\n",
       "      <th>small_business</th>\n",
       "      <td>13894</td>\n",
       "    </tr>\n",
       "    <tr>\n",
       "      <th>vacation</th>\n",
       "      <td>9993</td>\n",
       "    </tr>\n",
       "    <tr>\n",
       "      <th>moving</th>\n",
       "      <td>9495</td>\n",
       "    </tr>\n",
       "    <tr>\n",
       "      <th>house</th>\n",
       "      <td>8890</td>\n",
       "    </tr>\n",
       "    <tr>\n",
       "      <th>renewable_energy</th>\n",
       "      <td>850</td>\n",
       "    </tr>\n",
       "    <tr>\n",
       "      <th>wedding</th>\n",
       "      <td>426</td>\n",
       "    </tr>\n",
       "    <tr>\n",
       "      <th>educational</th>\n",
       "      <td>2</td>\n",
       "    </tr>\n",
       "  </tbody>\n",
       "</table>\n",
       "</div>"
      ],
      "text/plain": [
       "                    loan_status\n",
       "purpose                        \n",
       "debt_consolidation       824723\n",
       "credit_card              342600\n",
       "home_improvement          98119\n",
       "other                     88883\n",
       "major_purchase            31639\n",
       "medical                   17453\n",
       "car                       14733\n",
       "small_business            13894\n",
       "vacation                   9993\n",
       "moving                     9495\n",
       "house                      8890\n",
       "renewable_energy            850\n",
       "wedding                     426\n",
       "educational                   2"
      ]
     },
     "execution_count": 13,
     "metadata": {},
     "output_type": "execute_result"
    }
   ],
   "source": [
    "train_df[['purpose', 'loan_status']].groupby('purpose').count().sort_values(by='loan_status', ascending=False)"
   ]
  },
  {
   "cell_type": "code",
   "execution_count": 14,
   "metadata": {},
   "outputs": [
    {
     "data": {
      "text/html": [
       "<div>\n",
       "<style scoped>\n",
       "    .dataframe tbody tr th:only-of-type {\n",
       "        vertical-align: middle;\n",
       "    }\n",
       "\n",
       "    .dataframe tbody tr th {\n",
       "        vertical-align: top;\n",
       "    }\n",
       "\n",
       "    .dataframe thead th {\n",
       "        text-align: right;\n",
       "    }\n",
       "</style>\n",
       "<table border=\"1\" class=\"dataframe\">\n",
       "  <thead>\n",
       "    <tr style=\"text-align: right;\">\n",
       "      <th></th>\n",
       "      <th>loan_status</th>\n",
       "      <th>every_id</th>\n",
       "    </tr>\n",
       "    <tr>\n",
       "      <th>purpose</th>\n",
       "      <th></th>\n",
       "      <th></th>\n",
       "    </tr>\n",
       "  </thead>\n",
       "  <tbody>\n",
       "    <tr>\n",
       "      <th>car</th>\n",
       "      <td>0</td>\n",
       "      <td>13952</td>\n",
       "    </tr>\n",
       "    <tr>\n",
       "      <th>car</th>\n",
       "      <td>1</td>\n",
       "      <td>781</td>\n",
       "    </tr>\n",
       "    <tr>\n",
       "      <th>credit_card</th>\n",
       "      <td>0</td>\n",
       "      <td>322308</td>\n",
       "    </tr>\n",
       "    <tr>\n",
       "      <th>credit_card</th>\n",
       "      <td>1</td>\n",
       "      <td>20292</td>\n",
       "    </tr>\n",
       "    <tr>\n",
       "      <th>debt_consolidation</th>\n",
       "      <td>0</td>\n",
       "      <td>758830</td>\n",
       "    </tr>\n",
       "    <tr>\n",
       "      <th>debt_consolidation</th>\n",
       "      <td>1</td>\n",
       "      <td>65893</td>\n",
       "    </tr>\n",
       "    <tr>\n",
       "      <th>home_improvement</th>\n",
       "      <td>0</td>\n",
       "      <td>91888</td>\n",
       "    </tr>\n",
       "    <tr>\n",
       "      <th>home_improvement</th>\n",
       "      <td>1</td>\n",
       "      <td>6231</td>\n",
       "    </tr>\n",
       "    <tr>\n",
       "      <th>house</th>\n",
       "      <td>0</td>\n",
       "      <td>8322</td>\n",
       "    </tr>\n",
       "    <tr>\n",
       "      <th>house</th>\n",
       "      <td>1</td>\n",
       "      <td>568</td>\n",
       "    </tr>\n",
       "    <tr>\n",
       "      <th>major_purchase</th>\n",
       "      <td>0</td>\n",
       "      <td>29450</td>\n",
       "    </tr>\n",
       "    <tr>\n",
       "      <th>major_purchase</th>\n",
       "      <td>1</td>\n",
       "      <td>2189</td>\n",
       "    </tr>\n",
       "    <tr>\n",
       "      <th>medical</th>\n",
       "      <td>0</td>\n",
       "      <td>16118</td>\n",
       "    </tr>\n",
       "    <tr>\n",
       "      <th>medical</th>\n",
       "      <td>1</td>\n",
       "      <td>1335</td>\n",
       "    </tr>\n",
       "    <tr>\n",
       "      <th>moving</th>\n",
       "      <td>0</td>\n",
       "      <td>8661</td>\n",
       "    </tr>\n",
       "    <tr>\n",
       "      <th>moving</th>\n",
       "      <td>1</td>\n",
       "      <td>834</td>\n",
       "    </tr>\n",
       "    <tr>\n",
       "      <th>other</th>\n",
       "      <td>0</td>\n",
       "      <td>82550</td>\n",
       "    </tr>\n",
       "    <tr>\n",
       "      <th>other</th>\n",
       "      <td>1</td>\n",
       "      <td>6333</td>\n",
       "    </tr>\n",
       "    <tr>\n",
       "      <th>renewable_energy</th>\n",
       "      <td>0</td>\n",
       "      <td>766</td>\n",
       "    </tr>\n",
       "    <tr>\n",
       "      <th>renewable_energy</th>\n",
       "      <td>1</td>\n",
       "      <td>84</td>\n",
       "    </tr>\n",
       "    <tr>\n",
       "      <th>small_business</th>\n",
       "      <td>0</td>\n",
       "      <td>12259</td>\n",
       "    </tr>\n",
       "    <tr>\n",
       "      <th>small_business</th>\n",
       "      <td>1</td>\n",
       "      <td>1635</td>\n",
       "    </tr>\n",
       "    <tr>\n",
       "      <th>vacation</th>\n",
       "      <td>0</td>\n",
       "      <td>9323</td>\n",
       "    </tr>\n",
       "    <tr>\n",
       "      <th>vacation</th>\n",
       "      <td>1</td>\n",
       "      <td>670</td>\n",
       "    </tr>\n",
       "    <tr>\n",
       "      <th>wedding</th>\n",
       "      <td>0</td>\n",
       "      <td>380</td>\n",
       "    </tr>\n",
       "    <tr>\n",
       "      <th>wedding</th>\n",
       "      <td>1</td>\n",
       "      <td>46</td>\n",
       "    </tr>\n",
       "  </tbody>\n",
       "</table>\n",
       "</div>"
      ],
      "text/plain": [
       "                    loan_status  every_id\n",
       "purpose                                  \n",
       "car                           0     13952\n",
       "car                           1       781\n",
       "credit_card                   0    322308\n",
       "credit_card                   1     20292\n",
       "debt_consolidation            0    758830\n",
       "debt_consolidation            1     65893\n",
       "home_improvement              0     91888\n",
       "home_improvement              1      6231\n",
       "house                         0      8322\n",
       "house                         1       568\n",
       "major_purchase                0     29450\n",
       "major_purchase                1      2189\n",
       "medical                       0     16118\n",
       "medical                       1      1335\n",
       "moving                        0      8661\n",
       "moving                        1       834\n",
       "other                         0     82550\n",
       "other                         1      6333\n",
       "renewable_energy              0       766\n",
       "renewable_energy              1        84\n",
       "small_business                0     12259\n",
       "small_business                1      1635\n",
       "vacation                      0      9323\n",
       "vacation                      1       670\n",
       "wedding                       0       380\n",
       "wedding                       1        46"
      ]
     },
     "execution_count": 14,
     "metadata": {},
     "output_type": "execute_result"
    }
   ],
   "source": [
    "train_df[['purpose', 'every_id',\n",
    "                   'loan_status']].groupby(['purpose','loan_status']).count().reset_index(level=1).drop('educational')"
   ]
  },
  {
   "cell_type": "code",
   "execution_count": 15,
   "metadata": {},
   "outputs": [
    {
     "data": {
      "image/png": "[encoded data removed]",
      "text/plain": [
       "<Figure size 720x360 with 1 Axes>"
      ]
     },
     "metadata": {
      "needs_background": "light"
     },
     "output_type": "display_data"
    }
   ],
   "source": [
    "x = train_df[['purpose', 'every_id', 'loan_status']].groupby(['purpose']).apply(\n",
    "    lambda x: x[x['loan_status']==1].shape[0] / x.shape[0]).sort_values(ascending=False)\n",
    "# x = train_df[['purpose', 'every_id', 'loan_amnt', 'loan_status']].groupby(['purpose']).apply(\n",
    "#     lambda x: x.loc[x['loan_status']==1, 'loan_amnt'].sum() / x['loan_amnt'].sum()).sort_values(ascending=False)\n",
    "fig, ax = plt.subplots(figsize=(10,5))\n",
    "x.plot.bar()\n",
    "plt.xlabel('percentage')\n",
    "plt.title(\"Positive Rate of loan_status in all purpose\", fontsize=15)\n",
    "plt.show()"
   ]
  },
  {
   "cell_type": "markdown",
   "metadata": {},
   "source": [
    "&uarr; Seems those whose purpose is to run small business and to get wedding are more likely to be marked as 'Charged Off' at last."
   ]
  },
  {
   "cell_type": "code",
   "execution_count": 16,
   "metadata": {},
   "outputs": [
    {
     "data": {
      "text/plain": [
       "count     1461700\n",
       "unique          2\n",
       "top             N\n",
       "freq      1461694\n",
       "Name: hardship_flag, dtype: object"
      ]
     },
     "execution_count": 16,
     "metadata": {},
     "output_type": "execute_result"
    }
   ],
   "source": [
    "train_df['hardship_flag'].describe()"
   ]
  },
  {
   "cell_type": "markdown",
   "metadata": {},
   "source": [
    "&uarr; This feature is so so useless, and there are many other features like this, let me skip them."
   ]
  },
  {
   "cell_type": "markdown",
   "metadata": {},
   "source": [
    "# 0. Brainstorm"
   ]
  },
  {
   "cell_type": "markdown",
   "metadata": {},
   "source": [
    "* Everything related to economics\n",
    "* Include interest?\n",
    "* binary: charged off VS current/paid off\n",
    "* **Sometimes the data is imbalanced, we will try to make it balanced by sampling. I've heard of someone saying: in reality, we may want to take advantages of the imbalance so that we should keep the training data as is. Is this statement correct?** No, only in testing phase."
   ]
  },
  {
   "cell_type": "markdown",
   "metadata": {},
   "source": [
    "## 0.1. Definition based:"
   ]
  },
  {
   "cell_type": "code",
   "execution_count": 17,
   "metadata": {},
   "outputs": [],
   "source": [
    "# charged_off: not paid\n",
    "# paid_off: paid"
   ]
  },
  {
   "cell_type": "code",
   "execution_count": 18,
   "metadata": {},
   "outputs": [],
   "source": [
    "# how to tell charged off from current? pay date? next_pymnt_d √"
   ]
  },
  {
   "cell_type": "code",
   "execution_count": 19,
   "metadata": {},
   "outputs": [
    {
     "data": {
      "text/html": [
       "<div>\n",
       "<style scoped>\n",
       "    .dataframe tbody tr th:only-of-type {\n",
       "        vertical-align: middle;\n",
       "    }\n",
       "\n",
       "    .dataframe tbody tr th {\n",
       "        vertical-align: top;\n",
       "    }\n",
       "\n",
       "    .dataframe thead th {\n",
       "        text-align: right;\n",
       "    }\n",
       "</style>\n",
       "<table border=\"1\" class=\"dataframe\">\n",
       "  <thead>\n",
       "    <tr style=\"text-align: right;\">\n",
       "      <th></th>\n",
       "      <th>issue_d</th>\n",
       "      <th>loan_amnt</th>\n",
       "      <th>funded_amnt</th>\n",
       "      <th>int_rate</th>\n",
       "      <th>last_pymnt_d</th>\n",
       "      <th>last_pymnt_amnt</th>\n",
       "      <th>total_pymnt</th>\n",
       "      <th>next_pymnt_d</th>\n",
       "      <th>annual_inc</th>\n",
       "      <th>loan_status</th>\n",
       "    </tr>\n",
       "  </thead>\n",
       "  <tbody>\n",
       "    <tr>\n",
       "      <th>1218950</th>\n",
       "      <td>Mar-2017</td>\n",
       "      <td>17000</td>\n",
       "      <td>17000</td>\n",
       "      <td>12.74</td>\n",
       "      <td>May-2018</td>\n",
       "      <td>4.100000</td>\n",
       "      <td>19142.061345</td>\n",
       "      <td>NaN</td>\n",
       "      <td>74000.0</td>\n",
       "      <td>0</td>\n",
       "    </tr>\n",
       "    <tr>\n",
       "      <th>136192</th>\n",
       "      <td>Dec-2018</td>\n",
       "      <td>4900</td>\n",
       "      <td>4900</td>\n",
       "      <td>12.98</td>\n",
       "      <td>Feb-2019</td>\n",
       "      <td>165.060000</td>\n",
       "      <td>321.290000</td>\n",
       "      <td>Mar-2019</td>\n",
       "      <td>21000.0</td>\n",
       "      <td>0</td>\n",
       "    </tr>\n",
       "    <tr>\n",
       "      <th>1730960</th>\n",
       "      <td>Dec-2017</td>\n",
       "      <td>14000</td>\n",
       "      <td>14000</td>\n",
       "      <td>12.62</td>\n",
       "      <td>Feb-2019</td>\n",
       "      <td>315.830000</td>\n",
       "      <td>4397.080000</td>\n",
       "      <td>Mar-2019</td>\n",
       "      <td>80000.0</td>\n",
       "      <td>0</td>\n",
       "    </tr>\n",
       "    <tr>\n",
       "      <th>1520573</th>\n",
       "      <td>Jun-2013</td>\n",
       "      <td>7550</td>\n",
       "      <td>7550</td>\n",
       "      <td>14.09</td>\n",
       "      <td>Jun-2015</td>\n",
       "      <td>3153.300000</td>\n",
       "      <td>9094.010002</td>\n",
       "      <td>NaN</td>\n",
       "      <td>62000.0</td>\n",
       "      <td>0</td>\n",
       "    </tr>\n",
       "    <tr>\n",
       "      <th>1156813</th>\n",
       "      <td>Feb-2015</td>\n",
       "      <td>9000</td>\n",
       "      <td>9000</td>\n",
       "      <td>9.17</td>\n",
       "      <td>Mar-2018</td>\n",
       "      <td>286.520000</td>\n",
       "      <td>10324.135956</td>\n",
       "      <td>NaN</td>\n",
       "      <td>60000.0</td>\n",
       "      <td>0</td>\n",
       "    </tr>\n",
       "    <tr>\n",
       "      <th>380675</th>\n",
       "      <td>Jun-2018</td>\n",
       "      <td>7225</td>\n",
       "      <td>7225</td>\n",
       "      <td>17.47</td>\n",
       "      <td>Feb-2019</td>\n",
       "      <td>259.290000</td>\n",
       "      <td>2067.310000</td>\n",
       "      <td>Mar-2019</td>\n",
       "      <td>35000.0</td>\n",
       "      <td>0</td>\n",
       "    </tr>\n",
       "    <tr>\n",
       "      <th>903867</th>\n",
       "      <td>Dec-2015</td>\n",
       "      <td>10000</td>\n",
       "      <td>10000</td>\n",
       "      <td>7.26</td>\n",
       "      <td>Dec-2018</td>\n",
       "      <td>309.610000</td>\n",
       "      <td>11150.493957</td>\n",
       "      <td>NaN</td>\n",
       "      <td>43000.0</td>\n",
       "      <td>0</td>\n",
       "    </tr>\n",
       "    <tr>\n",
       "      <th>864995</th>\n",
       "      <td>Oct-2016</td>\n",
       "      <td>3500</td>\n",
       "      <td>3500</td>\n",
       "      <td>13.49</td>\n",
       "      <td>Jul-2017</td>\n",
       "      <td>2899.920000</td>\n",
       "      <td>3842.121356</td>\n",
       "      <td>NaN</td>\n",
       "      <td>29000.0</td>\n",
       "      <td>0</td>\n",
       "    </tr>\n",
       "    <tr>\n",
       "      <th>1212515</th>\n",
       "      <td>Mar-2017</td>\n",
       "      <td>16700</td>\n",
       "      <td>16700</td>\n",
       "      <td>18.99</td>\n",
       "      <td>Feb-2019</td>\n",
       "      <td>612.080000</td>\n",
       "      <td>14142.600000</td>\n",
       "      <td>Mar-2019</td>\n",
       "      <td>38000.0</td>\n",
       "      <td>0</td>\n",
       "    </tr>\n",
       "    <tr>\n",
       "      <th>880931</th>\n",
       "      <td>Oct-2016</td>\n",
       "      <td>1000</td>\n",
       "      <td>1000</td>\n",
       "      <td>13.49</td>\n",
       "      <td>Feb-2019</td>\n",
       "      <td>33.935528</td>\n",
       "      <td>952.140000</td>\n",
       "      <td>Mar-2019</td>\n",
       "      <td>35265.0</td>\n",
       "      <td>0</td>\n",
       "    </tr>\n",
       "  </tbody>\n",
       "</table>\n",
       "</div>"
      ],
      "text/plain": [
       "          issue_d  loan_amnt  funded_amnt  int_rate last_pymnt_d  \\\n",
       "1218950  Mar-2017      17000        17000     12.74     May-2018   \n",
       "136192   Dec-2018       4900         4900     12.98     Feb-2019   \n",
       "1730960  Dec-2017      14000        14000     12.62     Feb-2019   \n",
       "1520573  Jun-2013       7550         7550     14.09     Jun-2015   \n",
       "1156813  Feb-2015       9000         9000      9.17     Mar-2018   \n",
       "380675   Jun-2018       7225         7225     17.47     Feb-2019   \n",
       "903867   Dec-2015      10000        10000      7.26     Dec-2018   \n",
       "864995   Oct-2016       3500         3500     13.49     Jul-2017   \n",
       "1212515  Mar-2017      16700        16700     18.99     Feb-2019   \n",
       "880931   Oct-2016       1000         1000     13.49     Feb-2019   \n",
       "\n",
       "         last_pymnt_amnt   total_pymnt next_pymnt_d  annual_inc  loan_status  \n",
       "1218950         4.100000  19142.061345          NaN     74000.0            0  \n",
       "136192        165.060000    321.290000     Mar-2019     21000.0            0  \n",
       "1730960       315.830000   4397.080000     Mar-2019     80000.0            0  \n",
       "1520573      3153.300000   9094.010002          NaN     62000.0            0  \n",
       "1156813       286.520000  10324.135956          NaN     60000.0            0  \n",
       "380675        259.290000   2067.310000     Mar-2019     35000.0            0  \n",
       "903867        309.610000  11150.493957          NaN     43000.0            0  \n",
       "864995       2899.920000   3842.121356          NaN     29000.0            0  \n",
       "1212515       612.080000  14142.600000     Mar-2019     38000.0            0  \n",
       "880931         33.935528    952.140000     Mar-2019     35265.0            0  "
      ]
     },
     "execution_count": 19,
     "metadata": {},
     "output_type": "execute_result"
    }
   ],
   "source": [
    "train_df_balanced[['issue_d','loan_amnt','funded_amnt','int_rate','last_pymnt_d', 'last_pymnt_amnt', 'total_pymnt','next_pymnt_d', 'annual_inc', 'loan_status']].head(10)"
   ]
  },
  {
   "cell_type": "code",
   "execution_count": 20,
   "metadata": {},
   "outputs": [],
   "source": [
    "def loan_status_logic1(inp_df):\n",
    "    \"\"\"\n",
    "    based on next_pymnt_d, total_payment, funded_amnt\n",
    "    \"\"\"\n",
    "    temp_df = inp_df.copy()\n",
    "    current_ind = temp_df['next_pymnt_d'].notna()\n",
    "    paid_off_ind = (temp_df['total_pymnt'] >= temp_df['loan_amnt']) & (~current_ind)\n",
    "    charged_off_ind = (temp_df['total_pymnt'] < temp_df['loan_amnt']) & (~current_ind)\n",
    "    temp_df.loc[current_ind | paid_off_ind, 'prediction_score'] = 0\n",
    "    temp_df.loc[charged_off_ind, 'prediction_score'] = 1\n",
    "    return temp_df"
   ]
  },
  {
   "cell_type": "code",
   "execution_count": 21,
   "metadata": {},
   "outputs": [],
   "source": [
    "valid_res = loan_status_logic1(validate_df_balanced)"
   ]
  },
  {
   "cell_type": "code",
   "execution_count": 22,
   "metadata": {
    "scrolled": false
   },
   "outputs": [
    {
     "data": {
      "text/plain": [
       "0.9689"
      ]
     },
     "execution_count": 22,
     "metadata": {},
     "output_type": "execute_result"
    }
   ],
   "source": [
    "accuracy_score(valid_res['loan_status'], valid_res['prediction_score'])"
   ]
  },
  {
   "cell_type": "code",
   "execution_count": 23,
   "metadata": {},
   "outputs": [
    {
     "data": {
      "text/plain": [
       "0.9679017442460522"
      ]
     },
     "execution_count": 23,
     "metadata": {},
     "output_type": "execute_result"
    }
   ],
   "source": [
    "f1_score(valid_res['loan_status'], valid_res['prediction_score'], average='binary')"
   ]
  },
  {
   "cell_type": "code",
   "execution_count": 24,
   "metadata": {
    "scrolled": true
   },
   "outputs": [
    {
     "data": {
      "text/plain": [
       "0.9689"
      ]
     },
     "execution_count": 24,
     "metadata": {},
     "output_type": "execute_result"
    }
   ],
   "source": [
    "roc_auc_score(valid_res['loan_status'], valid_res['prediction_score'])"
   ]
  },
  {
   "cell_type": "markdown",
   "metadata": {},
   "source": [
    "### Let's translate this idea into ML pipeline:"
   ]
  },
  {
   "cell_type": "code",
   "execution_count": 25,
   "metadata": {},
   "outputs": [],
   "source": [
    "ser1 = train_df_balanced[['next_pymnt_d','total_pymnt', 'loan_amnt','loan_status']].sample(frac=0.1).copy()\n",
    "ser1['has_next_pymnt_d'] = ser1['next_pymnt_d'].notna()\n",
    "ser1['is_paid_off'] = (ser1['total_pymnt'] >= ser1['loan_amnt']) & (ser1['next_pymnt_d'].isna())\n",
    "ser1['is_current'] = (ser1['total_pymnt'] < ser1['loan_amnt']) & (ser1['next_pymnt_d'].notna())\n",
    "\n",
    "X_train = ser1[['has_next_pymnt_d', 'is_paid_off', 'is_current']]\n",
    "y_train = ser1['loan_status']\n",
    "\n",
    "# for validate data, we actually don't want it to be balanced. (My understanding)\n",
    "# ser1 = validate_df_balanced[['next_pymnt_d','total_pymnt', 'loan_amnt','loan_status']].copy()\n",
    "ser1 = validate_df[['next_pymnt_d','total_pymnt', 'loan_amnt','loan_status']].copy()\n",
    "ser1['has_next_pymnt_d'] = ser1['next_pymnt_d'].notna()\n",
    "ser1['is_paid_off'] = (ser1['total_pymnt'] >= ser1['loan_amnt']) & (ser1['next_pymnt_d'].isna())\n",
    "ser1['is_current'] = (ser1['total_pymnt'] < ser1['loan_amnt']) & (ser1['next_pymnt_d'].notna())\n",
    "\n",
    "X_valid = ser1[['has_next_pymnt_d', 'is_paid_off', 'is_current']]\n",
    "y_valid = ser1['loan_status']"
   ]
  },
  {
   "cell_type": "markdown",
   "metadata": {},
   "source": [
    "#### RF:"
   ]
  },
  {
   "cell_type": "code",
   "execution_count": 26,
   "metadata": {},
   "outputs": [
    {
     "name": "stdout",
     "output_type": "stream",
     "text": [
      "Random Forest score: 0.969\n"
     ]
    }
   ],
   "source": [
    "from sklearn.ensemble import RandomForestClassifier\n",
    "rf = RandomForestClassifier()\n",
    "\n",
    "rf.fit(X_train, y_train)\n",
    "# evaluate the performance of the Random Forest classifier\n",
    "rf_scores = cross_val_score(rf, X_train, y_train, cv=10)\n",
    "print('Random Forest score: %0.3f' % rf_scores.mean())"
   ]
  },
  {
   "cell_type": "code",
   "execution_count": 27,
   "metadata": {},
   "outputs": [
    {
     "data": {
      "image/png": "[encoded data removed]",
      "text/plain": [
       "<Figure size 576x576 with 1 Axes>"
      ]
     },
     "metadata": {
      "needs_background": "light"
     },
     "output_type": "display_data"
    }
   ],
   "source": [
    "from sklearn.tree import export_graphviz\n",
    "import matplotlib.pyplot as plt\n",
    "from sklearn import tree\n",
    "\n",
    "fig, axes = plt.subplots(nrows = 1,ncols = 1,figsize = (8,8))\n",
    "tree.plot_tree(rf.estimators_[0],\n",
    "               feature_names = X_train.columns, \n",
    "               class_names=y_train.name,\n",
    "               filled = True);\n",
    "fig.savefig('rf_individualtree.png')\n",
    "# code referrence \n",
    "# https://stackoverflow.com/questions/42621190/display-this-decision-tree-with-graphviz"
   ]
  },
  {
   "cell_type": "markdown",
   "metadata": {},
   "source": [
    "#### Log Regression:"
   ]
  },
  {
   "cell_type": "code",
   "execution_count": 28,
   "metadata": {},
   "outputs": [
    {
     "name": "stdout",
     "output_type": "stream",
     "text": [
      "0.9954080864746528\n"
     ]
    },
    {
     "data": {
      "image/png": "[encoded data removed]",
      "text/plain": [
       "<Figure size 432x288 with 1 Axes>"
      ]
     },
     "metadata": {
      "needs_background": "light"
     },
     "output_type": "display_data"
    }
   ],
   "source": [
    "from sklearn.linear_model import LogisticRegression\n",
    "log_reg = LogisticRegression(random_state=42).fit(X_train, y_train)\n",
    "print(log_reg.score(X_valid, y_valid))\n",
    "plot_roc_curve(log_reg, X_valid, y_valid)\n",
    "plt.title(\"LR AUROC\")\n",
    "plt.show()"
   ]
  },
  {
   "cell_type": "markdown",
   "metadata": {},
   "source": [
    "#### SVM:"
   ]
  },
  {
   "cell_type": "code",
   "execution_count": 29,
   "metadata": {},
   "outputs": [
    {
     "name": "stdout",
     "output_type": "stream",
     "text": [
      "testing score: 0.9954080864746528\n",
      "SVM score: 0.969\n"
     ]
    }
   ],
   "source": [
    "from sklearn.svm import SVC\n",
    "svm = SVC(probability=True)\n",
    "\n",
    "clf = svm.fit(X_train, y_train)\n",
    "print('testing score:', clf.score(X_valid, y_valid))\n",
    "\n",
    "# evaluate the performance of the SVM classifier\n",
    "svm_scores = cross_val_score(svm, X_train, y_train, cv=10)\n",
    "print('SVM score: %0.3f' % svm_scores.mean())\n"
   ]
  },
  {
   "cell_type": "code",
   "execution_count": 30,
   "metadata": {},
   "outputs": [
    {
     "data": {
      "text/plain": [
       "0.9530873708154042"
      ]
     },
     "execution_count": 30,
     "metadata": {},
     "output_type": "execute_result"
    }
   ],
   "source": [
    "t = clf.predict_proba(X_valid)\n",
    "roc_auc_score(y_valid, [item[1] for item in t])"
   ]
  },
  {
   "cell_type": "code",
   "execution_count": 31,
   "metadata": {},
   "outputs": [
    {
     "data": {
      "image/png": "[encoded data removed]",
      "text/plain": [
       "<Figure size 432x288 with 1 Axes>"
      ]
     },
     "metadata": {
      "needs_background": "light"
     },
     "output_type": "display_data"
    }
   ],
   "source": [
    "plot_roc_curve(clf, X_valid, y_valid)\n",
    "plt.title(\"SVM AUROC\")\n",
    "plt.show()"
   ]
  },
  {
   "cell_type": "markdown",
   "metadata": {},
   "source": [
    "**It's working well after training on balanced data and testing on imbalanced validation data. However, this definition based model seems to be using prori and circular reasoning.** (I'm not sure if this is allowed or normally seen in ML design in industry, need some feedback here.)  \n",
    "We usually define *loan_status* by the money paid (paid_off->0, still_paying->0, not_paying->1), and this model is again, predicting loan_status by the money paid.\n"
   ]
  },
  {
   "cell_type": "markdown",
   "metadata": {},
   "source": [
    "So, let's assume: These information are unavailable, or we don't know the definition of loan_status, or let's say we want to know the final loan_status from the begining as the banks give money to the person.\n"
   ]
  },
  {
   "attachments": {},
   "cell_type": "markdown",
   "metadata": {},
   "source": [
    "# 1. Feature selection:"
   ]
  },
  {
   "cell_type": "markdown",
   "metadata": {},
   "source": [
    "We want to foresee if the person can pay off the loan at last. So it's better to predict it at the earliest stage.   \n",
    "I'm using LR because I defined this task as a binary classification problem.  \n"
   ]
  },
  {
   "cell_type": "markdown",
   "metadata": {},
   "source": [
    "## 1.1 Basic features:\n",
    "I'm thinking of these features because they are very basic and easy to get:\n",
    "* annual_inc\n",
    "* addr_state\n",
    "* loan_amnt\n",
    "* verification_status\n",
    "\n",
    "These information can be obtained before the bank makes loan commitment."
   ]
  },
  {
   "cell_type": "code",
   "execution_count": 32,
   "metadata": {},
   "outputs": [],
   "source": [
    "from sklearn.linear_model import LogisticRegression\n",
    "from sklearn.preprocessing import StandardScaler, MinMaxScaler, Normalizer\n",
    "from sklearn.pipeline import make_pipeline\n",
    "from scipy.stats import uniform\n",
    "from sklearn.model_selection import RandomizedSearchCV"
   ]
  },
  {
   "cell_type": "code",
   "execution_count": 33,
   "metadata": {},
   "outputs": [
    {
     "data": {
      "text/plain": [
       "array(['Source Verified', 'Verified', 'Not Verified'], dtype=object)"
      ]
     },
     "execution_count": 33,
     "metadata": {},
     "output_type": "execute_result"
    }
   ],
   "source": [
    "train_df_balanced['verification_status'].unique()"
   ]
  },
  {
   "cell_type": "code",
   "execution_count": 34,
   "metadata": {},
   "outputs": [
    {
     "data": {
      "text/plain": [
       "<matplotlib.axes._subplots.AxesSubplot at 0x7f89e6b99fd0>"
      ]
     },
     "execution_count": 34,
     "metadata": {},
     "output_type": "execute_result"
    },
    {
     "data": {
      "image/png": "[encoded data removed]",
      "text/plain": [
       "<Figure size 432x288 with 1 Axes>"
      ]
     },
     "metadata": {
      "needs_background": "light"
     },
     "output_type": "display_data"
    }
   ],
   "source": [
    "train_df_balanced[['verification_status', \n",
    "                   'loan_status']].groupby('verification_status').count().plot.bar()"
   ]
  },
  {
   "cell_type": "markdown",
   "metadata": {},
   "source": [
    "&uarr; Verification status seems OK."
   ]
  },
  {
   "cell_type": "code",
   "execution_count": 35,
   "metadata": {},
   "outputs": [
    {
     "data": {
      "text/plain": [
       "Text(0.5, 1.0, 'Annual income reported by every group in all states')"
      ]
     },
     "execution_count": 35,
     "metadata": {},
     "output_type": "execute_result"
    },
    {
     "data": {
      "image/png": "[encoded data removed]",
      "text/plain": [
       "<Figure size 432x288 with 1 Axes>"
      ]
     },
     "metadata": {
      "needs_background": "light"
     },
     "output_type": "display_data"
    }
   ],
   "source": [
    "train_df_balanced[['annual_inc', \n",
    "                   'loan_status']].groupby('loan_status').mean().plot.bar()\n",
    "plt.title('Annual income reported by every group in all states', fontsize=15)\n"
   ]
  },
  {
   "cell_type": "markdown",
   "metadata": {},
   "source": [
    "&uarr; We can see the average reported income in group 0 is higher, this makes sense becase banks are more likely to loan to people that earn more."
   ]
  },
  {
   "cell_type": "code",
   "execution_count": 36,
   "metadata": {},
   "outputs": [
    {
     "data": {
      "image/png": "[encoded data removed]",
      "text/plain": [
       "<Figure size 1440x720 with 1 Axes>"
      ]
     },
     "metadata": {
      "needs_background": "light"
     },
     "output_type": "display_data"
    }
   ],
   "source": [
    "# code Referring:\n",
    "# https://stackoverflow.com/questions/10369681/how-to-plot-bar-graphs-with-same-x-coordinates-side-by-side-dodged\n",
    "\n",
    "x = train_df_balanced[['annual_inc', 'addr_state',\n",
    "                   'loan_status']].groupby(['addr_state','loan_status']).mean().reset_index(level=1)\n",
    "\n",
    "\n",
    "ticks = list(x.index)[::2]\n",
    "N = len(ticks)\n",
    "\n",
    "blue_bar = x.loc[x['loan_status']==1, 'annual_inc'].values\n",
    "orange_bar = x.loc[x['loan_status']==0, 'annual_inc'].values\n",
    "\n",
    "ind = np.arange(N)\n",
    "plt.figure(figsize=(20,10))\n",
    "width = 0.4\n",
    "\n",
    "# Plotting\n",
    "plt.bar(ind, blue_bar , width, label='1-annual_inc')\n",
    "plt.bar(ind + width, orange_bar, width, label='0-annual_inc')\n",
    "\n",
    "plt.xlabel('addr_state',fontsize=15)\n",
    "plt.ylabel('annual_inc',fontsize=15)\n",
    "plt.title('Annual income reported by every group in every state', fontsize=20)\n",
    "\n",
    "plt.xticks(ind + width / 2, ticks)\n",
    "plt.legend(fontsize=15)\n",
    "plt.show()"
   ]
  },
  {
   "cell_type": "markdown",
   "metadata": {},
   "source": [
    "Above plot shows us the reported annual income by people from different loan_status in every state.  \n",
    "We can see in some of the states, the income relationship in loan_status=0 and loan_status=1 are opposite with the previous plot (titled *Annual income reported by every group in all states*). Which might indicates people from some states are more likely to report a higher income than they actually earn. This sounds a little discriminative, so I'll stop here and not report the state names"
   ]
  },
  {
   "cell_type": "markdown",
   "metadata": {},
   "source": [
    "Now let's take a look at how much do people loan in each State:"
   ]
  },
  {
   "cell_type": "code",
   "execution_count": 37,
   "metadata": {},
   "outputs": [
    {
     "data": {
      "image/png": "[encoded data removed]",
      "text/plain": [
       "<Figure size 1080x432 with 1 Axes>"
      ]
     },
     "metadata": {
      "needs_background": "light"
     },
     "output_type": "display_data"
    }
   ],
   "source": [
    "train_df_balanced[['addr_state', \n",
    "                   'loan_amnt',\n",
    "                   ]].groupby(['addr_state']).sum().sort_values(['loan_amnt'],ascending=False).plot.bar(figsize=(15, 6))\n",
    "plt.title('loan_amount in every state', fontsize=20)\n",
    "plt.show()"
   ]
  },
  {
   "cell_type": "markdown",
   "metadata": {},
   "source": [
    "&uarr; We can see from above that CA people really like to loan.  \n",
    "CA, NY, TX, FL, IL, NJ, PA, OH are ranked top.  \n",
    "Moreover, I see the loan_amount jumping from CA to NY and from FL to IL. Maybe it's due to difference in population, or maybe it's the difference in purpose of loan. (Housing, Landing, Car etc)   \n",
    "This information is useful for marketing and advertising. I can dig further to find out whether it's due to population or something else, but I'll stop here because that's not our goal."
   ]
  },
  {
   "cell_type": "markdown",
   "metadata": {},
   "source": [
    "## 1.2 Baseline\n",
    "We just chose some simple and basic features in Section 1.1 Basic Features.  \n",
    "Now let's apply some models to make predictions."
   ]
  },
  {
   "cell_type": "code",
   "execution_count": 38,
   "metadata": {},
   "outputs": [],
   "source": [
    "ser1 = train_df_balanced[['annual_inc', 'loan_amnt', 'addr_state', 'verification_status', 'loan_status']].sample(frac=0.1).copy()\n",
    "\n",
    "X_train_lg = ser1[['annual_inc', 'loan_amnt', 'verification_status', 'addr_state']]\n",
    "X_train_lg = pd.concat([X_train_lg, pd.get_dummies(X_train_lg['verification_status'], prefix='income') ], axis=1)\n",
    "X_train_lg = pd.concat([X_train_lg, pd.get_dummies(X_train_lg['addr_state'], prefix='state') ], axis=1)\n",
    "y_train_lg = ser1['loan_status']\n",
    "\n",
    "\n",
    "# for validate data, we actually don't want it to be balanced. (My understanding)\n",
    "# ser1 = validate_df_balanced[['annual_inc', 'loan_amnt', 'addr_state', 'verification_status', 'loan_status']].copy()\n",
    "ser1 = validate_df[['annual_inc', 'loan_amnt', 'addr_state', 'verification_status', 'loan_status']].copy()\n",
    "X_valid_lg = ser1[['annual_inc', 'loan_amnt', 'verification_status', 'addr_state']]\n",
    "X_valid_lg = pd.concat([X_valid_lg, pd.get_dummies(X_valid_lg['verification_status'], prefix='income') ], axis=1)\n",
    "X_valid_lg = pd.concat([X_valid_lg, pd.get_dummies(X_valid_lg['addr_state'], prefix='state') ], axis=1)\n",
    "y_valid_lg = ser1['loan_status']\n",
    "\n",
    "X_train_lg.drop(['verification_status', 'addr_state'], axis=1, inplace=True)\n",
    "X_valid_lg.drop(['verification_status', 'addr_state'], axis=1, inplace=True)"
   ]
  },
  {
   "cell_type": "code",
   "execution_count": 39,
   "metadata": {},
   "outputs": [
    {
     "data": {
      "text/plain": [
       "Index(['annual_inc', 'loan_amnt', 'income_Not Verified',\n",
       "       'income_Source Verified', 'income_Verified', 'state_AK', 'state_AL',\n",
       "       'state_AR', 'state_AZ', 'state_CA', 'state_CO', 'state_CT', 'state_DC',\n",
       "       'state_DE', 'state_FL', 'state_GA', 'state_HI', 'state_ID', 'state_IL',\n",
       "       'state_IN', 'state_KS', 'state_KY', 'state_LA', 'state_MA', 'state_MD',\n",
       "       'state_ME', 'state_MI', 'state_MN', 'state_MO', 'state_MS', 'state_MT',\n",
       "       'state_NC', 'state_ND', 'state_NE', 'state_NH', 'state_NJ', 'state_NM',\n",
       "       'state_NV', 'state_NY', 'state_OH', 'state_OK', 'state_OR', 'state_PA',\n",
       "       'state_RI', 'state_SC', 'state_SD', 'state_TN', 'state_TX', 'state_UT',\n",
       "       'state_VA', 'state_VT', 'state_WA', 'state_WI', 'state_WV', 'state_WY'],\n",
       "      dtype='object')"
      ]
     },
     "execution_count": 39,
     "metadata": {},
     "output_type": "execute_result"
    }
   ],
   "source": [
    "X_train_lg.columns"
   ]
  },
  {
   "cell_type": "code",
   "execution_count": 40,
   "metadata": {},
   "outputs": [
    {
     "name": "stdout",
     "output_type": "stream",
     "text": [
      "[1 0 1 ... 1 0 1]\n",
      "[[0.4816508  0.5183492 ]\n",
      " [0.50159763 0.49840237]\n",
      " [0.46681905 0.53318095]\n",
      " ...\n",
      " [0.4680434  0.5319566 ]\n",
      " [0.50790149 0.49209851]\n",
      " [0.4923467  0.5076533 ]]\n",
      "0.5323773688171307\n"
     ]
    }
   ],
   "source": [
    "log_reg_1_2 = LogisticRegression(random_state=42).fit(X_train_lg, y_train_lg)\n",
    "print(log_reg_1_2.predict(X_train_lg))\n",
    "print(log_reg_1_2.predict_proba(X_train_lg))\n",
    "print(log_reg_1_2.score(X_valid_lg, y_valid_lg))\n",
    "# 为什么这个模型，加了新的column并不能提高performance？甚至概率一点都不变？\n",
    "# [0 0 0 ... 0 1 0]\n",
    "# [[0.54536421 0.45463579]\n",
    "#  [0.58393102 0.41606898]\n",
    "#  [0.54553633 0.45446367]\n",
    "#  ...\n",
    "#  [0.53194857 0.46805143]\n",
    "#  [0.48326053 0.51673947]\n",
    "#  [0.52767386 0.47232614]]\n",
    "# 0.5859013477457755"
   ]
  },
  {
   "cell_type": "code",
   "execution_count": 41,
   "metadata": {},
   "outputs": [
    {
     "name": "stdout",
     "output_type": "stream",
     "text": [
      "0.5463118286926182\n",
      "Random Forest score: 0.544\n"
     ]
    }
   ],
   "source": [
    "rf = RandomForestClassifier()\n",
    "\n",
    "rf.fit(X_train_lg, y_train_lg)\n",
    "print(rf.score(X_valid_lg, y_valid_lg))\n",
    "rf_scores = cross_val_score(rf, X_train_lg, y_train_lg, cv=5)\n",
    "print('Random Forest score: %0.3f' % rf_scores.mean())\n",
    "# 0.5583635492919203\n",
    "# Random Forest score: 0.548"
   ]
  },
  {
   "cell_type": "code",
   "execution_count": 42,
   "metadata": {},
   "outputs": [],
   "source": [
    "# SVM runs so slow here, so I removed it."
   ]
  },
  {
   "cell_type": "markdown",
   "metadata": {},
   "source": [
    "**To summarize, \n",
    "I trained Logistic Regression, Random Forest and SVM models on a *balanced* dataset, and the best model so far is LR, which has 55% accuracy (may vary when you rerun) on an *imbalanced* validation dataset**"
   ]
  },
  {
   "cell_type": "markdown",
   "metadata": {},
   "source": [
    "## 1.2 Continuous features:"
   ]
  },
  {
   "cell_type": "markdown",
   "metadata": {},
   "source": [
    "Some of the features in 2.1 are too sparse after one-hot-encoding, for example, State.   \n",
    "Although there are some ways to optimize/avoid that, for example, grouping, embeddings, for simplicity, let try some denser or continuous features like **grade**, **tot_cur_bal**"
   ]
  },
  {
   "cell_type": "code",
   "execution_count": 43,
   "metadata": {},
   "outputs": [],
   "source": [
    "ser1 = train_df_balanced[['annual_inc', 'loan_amnt', 'tot_cur_bal', 'loan_status']].sample(frac=0.1, random_state=42).copy()\n",
    "X_train_lg = ser1[['annual_inc', 'loan_amnt', 'tot_cur_bal']]\n",
    "y_train_lg = ser1['loan_status']\n",
    "\n",
    "ser1 = validate_df[['annual_inc', 'loan_amnt', 'tot_cur_bal', 'loan_status']].copy()\n",
    "X_valid_lg = ser1[['annual_inc', 'loan_amnt', 'tot_cur_bal']]\n",
    "y_valid_lg = ser1['loan_status']\n"
   ]
  },
  {
   "cell_type": "code",
   "execution_count": 44,
   "metadata": {},
   "outputs": [
    {
     "name": "stdout",
     "output_type": "stream",
     "text": [
      "0.3803160703290689\n"
     ]
    }
   ],
   "source": [
    "svm = SVC()\n",
    "svm.fit(X_train_lg, y_train_lg)\n",
    "print(svm.score(X_valid_lg, y_valid_lg))\n",
    "# This return the mean accuracy on the given test data and labels.\n",
    "# 0.48878429226243414"
   ]
  },
  {
   "cell_type": "code",
   "execution_count": 45,
   "metadata": {},
   "outputs": [
    {
     "name": "stdout",
     "output_type": "stream",
     "text": [
      "0.4749675035917083\n"
     ]
    }
   ],
   "source": [
    "# Code referrence: \n",
    "# https://scikit-learn.org/stable/tutorial/statistical_inference/putting_together.html\n",
    "distributions = dict(logisticregression__C=uniform(loc=0, scale=4),\n",
    "                     logisticregression__penalty=['l2'])\n",
    "pipe = make_pipeline(StandardScaler(), LogisticRegression())\n",
    "search = RandomizedSearchCV(pipe, distributions, random_state=42)\n",
    "best_1_2 = search.fit(X_train_lg, y_train_lg)\n",
    "print(best_1_2.score(X_valid_lg, y_valid_lg))\n",
    "# 0.47111445577067795"
   ]
  },
  {
   "cell_type": "code",
   "execution_count": 46,
   "metadata": {},
   "outputs": [
    {
     "data": {
      "image/png": "[encoded data removed]",
      "text/plain": [
       "<Figure size 432x288 with 1 Axes>"
      ]
     },
     "metadata": {
      "needs_background": "light"
     },
     "output_type": "display_data"
    }
   ],
   "source": [
    "importances = pd.DataFrame(data={\n",
    "    'Attribute': X_train_lg.columns,\n",
    "    'Importance': abs(best_1_2.best_estimator_.named_steps['logisticregression'].coef_[0])\n",
    "})\n",
    "importances = importances.sort_values(by='Importance')\n",
    "plt.bar(x=importances['Attribute'], height=importances['Importance'])\n",
    "plt.title('LR Feature importances', size=20)\n",
    "plt.xticks(rotation='vertical')\n",
    "plt.show()"
   ]
  },
  {
   "cell_type": "code",
   "execution_count": 47,
   "metadata": {},
   "outputs": [
    {
     "name": "stdout",
     "output_type": "stream",
     "text": [
      "Random Forest score: 0.541\n"
     ]
    }
   ],
   "source": [
    "rf = RandomForestClassifier()\n",
    "\n",
    "rf.fit(X_train_lg, y_train_lg)\n",
    "# evaluate the performance of the Random Forest classifier\n",
    "rf_scores = cross_val_score(rf, X_train_lg, y_train_lg, cv=10)\n",
    "print('Random Forest score: %0.3f' % rf_scores.mean())"
   ]
  },
  {
   "cell_type": "code",
   "execution_count": 48,
   "metadata": {},
   "outputs": [
    {
     "data": {
      "image/png": "[encoded data removed]",
      "text/plain": [
       "<Figure size 432x288 with 1 Axes>"
      ]
     },
     "metadata": {
      "needs_background": "light"
     },
     "output_type": "display_data"
    }
   ],
   "source": [
    "importances = pd.DataFrame(data={\n",
    "    'Attribute': X_train_lg.columns,\n",
    "    'Importance': abs(rf.feature_importances_)\n",
    "})\n",
    "importances = importances.sort_values(by='Importance')\n",
    "plt.bar(x=importances['Attribute'], height=importances['Importance'])\n",
    "plt.title('RF Feature importances', size=20)\n",
    "plt.xticks(rotation='vertical')\n",
    "plt.show()"
   ]
  },
  {
   "cell_type": "markdown",
   "metadata": {},
   "source": [
    "&uarr; We had some bad performances using same models based on chosen features. Even after a randomized search.  \n",
    "Essentially, we just changed our features from categorical to continuous values. Maybe we should add more features."
   ]
  },
  {
   "cell_type": "markdown",
   "metadata": {},
   "source": [
    "## 1.3 Synthetic Features:"
   ]
  },
  {
   "cell_type": "markdown",
   "metadata": {},
   "source": [
    "We did some simple feature engineering in Section 0.1 Definition Based models and Section 1.1 Baseline.  \n",
    "Now let's do some more:"
   ]
  },
  {
   "cell_type": "markdown",
   "metadata": {},
   "source": [
    "This cell shows the percentage of loan_status==1 in every sub_grade &darr;"
   ]
  },
  {
   "cell_type": "code",
   "execution_count": 49,
   "metadata": {},
   "outputs": [
    {
     "data": {
      "text/html": [
       "<div>\n",
       "<style scoped>\n",
       "    .dataframe tbody tr th:only-of-type {\n",
       "        vertical-align: middle;\n",
       "    }\n",
       "\n",
       "    .dataframe tbody tr th {\n",
       "        vertical-align: top;\n",
       "    }\n",
       "\n",
       "    .dataframe thead th {\n",
       "        text-align: right;\n",
       "    }\n",
       "</style>\n",
       "<table border=\"1\" class=\"dataframe\">\n",
       "  <thead>\n",
       "    <tr style=\"text-align: right;\">\n",
       "      <th></th>\n",
       "      <th>sub_grade</th>\n",
       "      <th>0</th>\n",
       "    </tr>\n",
       "  </thead>\n",
       "  <tbody>\n",
       "    <tr>\n",
       "      <th>0</th>\n",
       "      <td>A1</td>\n",
       "      <td>0.102759</td>\n",
       "    </tr>\n",
       "    <tr>\n",
       "      <th>1</th>\n",
       "      <td>A2</td>\n",
       "      <td>0.148381</td>\n",
       "    </tr>\n",
       "    <tr>\n",
       "      <th>2</th>\n",
       "      <td>A3</td>\n",
       "      <td>0.171857</td>\n",
       "    </tr>\n",
       "    <tr>\n",
       "      <th>3</th>\n",
       "      <td>A4</td>\n",
       "      <td>0.206985</td>\n",
       "    </tr>\n",
       "    <tr>\n",
       "      <th>4</th>\n",
       "      <td>A5</td>\n",
       "      <td>0.275411</td>\n",
       "    </tr>\n",
       "    <tr>\n",
       "      <th>5</th>\n",
       "      <td>B1</td>\n",
       "      <td>0.314249</td>\n",
       "    </tr>\n",
       "    <tr>\n",
       "      <th>6</th>\n",
       "      <td>B2</td>\n",
       "      <td>0.334561</td>\n",
       "    </tr>\n",
       "    <tr>\n",
       "      <th>7</th>\n",
       "      <td>B3</td>\n",
       "      <td>0.383022</td>\n",
       "    </tr>\n",
       "    <tr>\n",
       "      <th>8</th>\n",
       "      <td>B4</td>\n",
       "      <td>0.420180</td>\n",
       "    </tr>\n",
       "    <tr>\n",
       "      <th>9</th>\n",
       "      <td>B5</td>\n",
       "      <td>0.445650</td>\n",
       "    </tr>\n",
       "    <tr>\n",
       "      <th>10</th>\n",
       "      <td>C1</td>\n",
       "      <td>0.477610</td>\n",
       "    </tr>\n",
       "    <tr>\n",
       "      <th>11</th>\n",
       "      <td>C2</td>\n",
       "      <td>0.513783</td>\n",
       "    </tr>\n",
       "    <tr>\n",
       "      <th>12</th>\n",
       "      <td>C3</td>\n",
       "      <td>0.528188</td>\n",
       "    </tr>\n",
       "    <tr>\n",
       "      <th>13</th>\n",
       "      <td>C4</td>\n",
       "      <td>0.563097</td>\n",
       "    </tr>\n",
       "    <tr>\n",
       "      <th>14</th>\n",
       "      <td>C5</td>\n",
       "      <td>0.567319</td>\n",
       "    </tr>\n",
       "    <tr>\n",
       "      <th>15</th>\n",
       "      <td>D1</td>\n",
       "      <td>0.617024</td>\n",
       "    </tr>\n",
       "    <tr>\n",
       "      <th>16</th>\n",
       "      <td>D2</td>\n",
       "      <td>0.623832</td>\n",
       "    </tr>\n",
       "    <tr>\n",
       "      <th>17</th>\n",
       "      <td>D3</td>\n",
       "      <td>0.624373</td>\n",
       "    </tr>\n",
       "    <tr>\n",
       "      <th>18</th>\n",
       "      <td>D4</td>\n",
       "      <td>0.651039</td>\n",
       "    </tr>\n",
       "    <tr>\n",
       "      <th>19</th>\n",
       "      <td>D5</td>\n",
       "      <td>0.664973</td>\n",
       "    </tr>\n",
       "    <tr>\n",
       "      <th>20</th>\n",
       "      <td>E1</td>\n",
       "      <td>0.721579</td>\n",
       "    </tr>\n",
       "    <tr>\n",
       "      <th>21</th>\n",
       "      <td>E2</td>\n",
       "      <td>0.741643</td>\n",
       "    </tr>\n",
       "    <tr>\n",
       "      <th>22</th>\n",
       "      <td>E3</td>\n",
       "      <td>0.744007</td>\n",
       "    </tr>\n",
       "    <tr>\n",
       "      <th>23</th>\n",
       "      <td>E4</td>\n",
       "      <td>0.750390</td>\n",
       "    </tr>\n",
       "    <tr>\n",
       "      <th>24</th>\n",
       "      <td>E5</td>\n",
       "      <td>0.731818</td>\n",
       "    </tr>\n",
       "    <tr>\n",
       "      <th>25</th>\n",
       "      <td>F1</td>\n",
       "      <td>0.762423</td>\n",
       "    </tr>\n",
       "    <tr>\n",
       "      <th>26</th>\n",
       "      <td>F2</td>\n",
       "      <td>0.807592</td>\n",
       "    </tr>\n",
       "    <tr>\n",
       "      <th>27</th>\n",
       "      <td>F3</td>\n",
       "      <td>0.809249</td>\n",
       "    </tr>\n",
       "    <tr>\n",
       "      <th>28</th>\n",
       "      <td>F4</td>\n",
       "      <td>0.827451</td>\n",
       "    </tr>\n",
       "    <tr>\n",
       "      <th>29</th>\n",
       "      <td>F5</td>\n",
       "      <td>0.829352</td>\n",
       "    </tr>\n",
       "    <tr>\n",
       "      <th>30</th>\n",
       "      <td>G1</td>\n",
       "      <td>0.819296</td>\n",
       "    </tr>\n",
       "    <tr>\n",
       "      <th>31</th>\n",
       "      <td>G2</td>\n",
       "      <td>0.853306</td>\n",
       "    </tr>\n",
       "    <tr>\n",
       "      <th>32</th>\n",
       "      <td>G3</td>\n",
       "      <td>0.855524</td>\n",
       "    </tr>\n",
       "    <tr>\n",
       "      <th>33</th>\n",
       "      <td>G4</td>\n",
       "      <td>0.857585</td>\n",
       "    </tr>\n",
       "    <tr>\n",
       "      <th>34</th>\n",
       "      <td>G5</td>\n",
       "      <td>0.825926</td>\n",
       "    </tr>\n",
       "  </tbody>\n",
       "</table>\n",
       "</div>"
      ],
      "text/plain": [
       "   sub_grade         0\n",
       "0         A1  0.102759\n",
       "1         A2  0.148381\n",
       "2         A3  0.171857\n",
       "3         A4  0.206985\n",
       "4         A5  0.275411\n",
       "5         B1  0.314249\n",
       "6         B2  0.334561\n",
       "7         B3  0.383022\n",
       "8         B4  0.420180\n",
       "9         B5  0.445650\n",
       "10        C1  0.477610\n",
       "11        C2  0.513783\n",
       "12        C3  0.528188\n",
       "13        C4  0.563097\n",
       "14        C5  0.567319\n",
       "15        D1  0.617024\n",
       "16        D2  0.623832\n",
       "17        D3  0.624373\n",
       "18        D4  0.651039\n",
       "19        D5  0.664973\n",
       "20        E1  0.721579\n",
       "21        E2  0.741643\n",
       "22        E3  0.744007\n",
       "23        E4  0.750390\n",
       "24        E5  0.731818\n",
       "25        F1  0.762423\n",
       "26        F2  0.807592\n",
       "27        F3  0.809249\n",
       "28        F4  0.827451\n",
       "29        F5  0.829352\n",
       "30        G1  0.819296\n",
       "31        G2  0.853306\n",
       "32        G3  0.855524\n",
       "33        G4  0.857585\n",
       "34        G5  0.825926"
      ]
     },
     "execution_count": 49,
     "metadata": {},
     "output_type": "execute_result"
    }
   ],
   "source": [
    "train_df_balanced[['sub_grade', 'loan_status']].groupby('sub_grade').apply(lambda x: x[x['loan_status']==1].shape[0]/ x.shape[0]).reset_index()"
   ]
  },
  {
   "cell_type": "markdown",
   "metadata": {},
   "source": [
    "Interesting, the lower the sub-grade, the more likely the loan_status would be a 'Charged Off'.  \n",
    "**Idea: Given the sub-grade, our model can just output the percentage of loan_status=1 in that sub-grade (as shown above) as the probability of loan_status=1, this might be a good guess.**"
   ]
  },
  {
   "cell_type": "code",
   "execution_count": 50,
   "metadata": {},
   "outputs": [],
   "source": [
    "ser1 = train_df_balanced[['annual_inc', 'loan_amnt', 'tot_cur_bal', 'loan_status', 'int_rate',\n",
    "                          'mort_acc', 'num_sats', 'sub_grade'\n",
    "                         ]].sample(frac=0.1).copy()\n",
    "ser2 = train_df_balanced[['sub_grade', 'loan_status']].groupby('sub_grade').apply(lambda x: x[x['loan_status']==1].shape[0]/ x.shape[0]).reset_index()\n",
    "ser2.columns = ['sub_grade', 'sub_grade_score']\n",
    "ser1 = pd.merge(ser1, ser2, on='sub_grade')\n",
    "X_train_lg = ser1[['annual_inc', 'loan_amnt', 'tot_cur_bal', 'mort_acc', 'num_sats', 'sub_grade_score']]\n",
    "y_train_lg = ser1['loan_status']\n",
    "\n",
    "\n",
    "\n",
    "ser1 = validate_df[['annual_inc', 'loan_amnt', 'tot_cur_bal', 'loan_status', 'int_rate',\n",
    "                          'mort_acc', 'num_sats', 'sub_grade'\n",
    "                         ]].sample(frac=0.1).copy()\n",
    "ser2 = validate_df[['sub_grade', 'loan_status']].groupby('sub_grade').apply(lambda x: x[x['loan_status']==1].shape[0]/ x.shape[0]).reset_index()\n",
    "ser2.columns = ['sub_grade', 'sub_grade_score']\n",
    "ser1 = pd.merge(ser1, ser2, on='sub_grade')\n",
    "X_valid_lg = ser1[['annual_inc', 'loan_amnt', 'tot_cur_bal', 'mort_acc', 'num_sats', 'sub_grade_score']]\n",
    "y_valid_lg = ser1['loan_status']"
   ]
  },
  {
   "cell_type": "code",
   "execution_count": 51,
   "metadata": {},
   "outputs": [
    {
     "name": "stdout",
     "output_type": "stream",
     "text": [
      "0.9272617809643697\n"
     ]
    }
   ],
   "source": [
    "# Code referrence: \n",
    "# https://scikit-learn.org/stable/tutorial/statistical_inference/putting_together.html\n",
    "distributions = dict(logisticregression__C=uniform(loc=0, scale=4),\n",
    "                     logisticregression__penalty=['l2'])\n",
    "pipe = make_pipeline(StandardScaler(), LogisticRegression())\n",
    "search = RandomizedSearchCV(pipe, distributions, random_state=42)\n",
    "best_1_3 = search.fit(X_train_lg, y_train_lg)\n",
    "print(best_1_3.score(X_valid_lg, y_valid_lg))"
   ]
  },
  {
   "cell_type": "code",
   "execution_count": 52,
   "metadata": {},
   "outputs": [
    {
     "data": {
      "image/png": "[encoded data removed]",
      "text/plain": [
       "<Figure size 432x288 with 1 Axes>"
      ]
     },
     "metadata": {
      "needs_background": "light"
     },
     "output_type": "display_data"
    }
   ],
   "source": [
    "importances = pd.DataFrame(data={\n",
    "    'Attribute': X_train_lg.columns,\n",
    "    'Importance': abs(best_1_3.best_estimator_.named_steps['logisticregression'].coef_[0])\n",
    "})\n",
    "importances = importances.sort_values(by='Importance')\n",
    "plt.bar(x=importances['Attribute'], height=importances['Importance'])\n",
    "plt.title('LR Feature importances ', size=20)\n",
    "plt.xticks(rotation='vertical')\n",
    "plt.show()"
   ]
  },
  {
   "cell_type": "markdown",
   "metadata": {},
   "source": [
    "&uarr; Looks good, same LR and SVM models performed better on our feature-engineered data, comparing with 1.2 Continuous features. Thies indicates our new features are good."
   ]
  },
  {
   "cell_type": "markdown",
   "metadata": {},
   "source": [
    "Let's try something in NN, say a simple MLP:"
   ]
  },
  {
   "cell_type": "code",
   "execution_count": 53,
   "metadata": {},
   "outputs": [
    {
     "name": "stdout",
     "output_type": "stream",
     "text": [
      "0.6472\n",
      "0.9272617809643697\n"
     ]
    }
   ],
   "source": [
    "from sklearn.neural_network import MLPClassifier\n",
    "clf = MLPClassifier(solver='sgd', alpha=1e-3, activation='relu',\n",
    "                    hidden_layer_sizes=(16, 128, 8), random_state=1)\n",
    "\n",
    "pipe = make_pipeline(StandardScaler(), clf)\n",
    "pipe.fit(X_train_lg, y_train_lg)\n",
    "print(pipe.score(X_train_lg, y_train_lg))\n",
    "print(pipe.score(X_valid_lg, y_valid_lg))"
   ]
  },
  {
   "cell_type": "markdown",
   "metadata": {},
   "source": [
    "&uarr; It's working OK, but validation data is 92% imbalanced itself. Maybe we should try to add more features and more data?"
   ]
  },
  {
   "cell_type": "markdown",
   "metadata": {},
   "source": [
    "## 1.4 Even more features:"
   ]
  },
  {
   "cell_type": "code",
   "execution_count": 54,
   "metadata": {},
   "outputs": [],
   "source": [
    "ser1 = train_df_balanced[['annual_inc', 'loan_amnt', 'tot_cur_bal', 'loan_status', 'delinq_2yrs',\n",
    "                          'mths_since_last_delinq','mths_since_last_record','open_acc','revol_bal','revol_util',\n",
    "                          'total_acc','out_prncp_inv','total_pymnt','total_pymnt_inv',\n",
    "                          'total_rec_int','total_rec_late_fee','collection_recovery_fee']].sample(frac=0.1, random_state=42).copy()\n",
    "X_train_lg = ser1[['annual_inc', 'loan_amnt', 'tot_cur_bal', 'delinq_2yrs',\n",
    "                          'mths_since_last_delinq','mths_since_last_record','open_acc','revol_bal','revol_util',\n",
    "                          'total_acc','out_prncp_inv','total_pymnt','total_pymnt_inv',\n",
    "                          'total_rec_int','total_rec_late_fee','collection_recovery_fee']].fillna(value=1e-10)\n",
    "y_train_lg = ser1['loan_status']\n",
    "\n",
    "ser1 = validate_df[['annual_inc', 'loan_amnt', 'tot_cur_bal', 'loan_status','delinq_2yrs',\n",
    "                          'mths_since_last_delinq','mths_since_last_record','open_acc','revol_bal','revol_util',\n",
    "                          'total_acc','out_prncp_inv','total_pymnt','total_pymnt_inv',\n",
    "                          'total_rec_int','total_rec_late_fee','collection_recovery_fee']].copy()\n",
    "X_valid_lg = ser1[['annual_inc', 'loan_amnt', 'tot_cur_bal','delinq_2yrs',\n",
    "                          'mths_since_last_delinq','mths_since_last_record','open_acc','revol_bal','revol_util',\n",
    "                          'total_acc','out_prncp_inv','total_pymnt','total_pymnt_inv',\n",
    "                          'total_rec_int','total_rec_late_fee','collection_recovery_fee']].fillna(value=1e-10)\n",
    "y_valid_lg = ser1['loan_status']"
   ]
  },
  {
   "cell_type": "markdown",
   "metadata": {},
   "source": [
    "&uarr; **Attention**: *I filled NA this time because the model is not able to handle*  \n",
    "*Also, as long as you fill with the same scaled value, the result looks OK*"
   ]
  },
  {
   "cell_type": "code",
   "execution_count": 55,
   "metadata": {},
   "outputs": [
    {
     "name": "stdout",
     "output_type": "stream",
     "text": [
      "0.9986125743996717\n"
     ]
    }
   ],
   "source": [
    "# Code referrence: \n",
    "# https://scikit-learn.org/stable/tutorial/statistical_inference/putting_together.html\n",
    "distributions = dict(logisticregression__C=uniform(loc=0, scale=4),\n",
    "                     logisticregression__penalty=['l2'])\n",
    "pipe = make_pipeline(StandardScaler(),LogisticRegression(solver='liblinear'))\n",
    "search = RandomizedSearchCV(pipe, distributions, random_state=42)\n",
    "best_1_4 = search.fit(X_train_lg, y_train_lg)\n",
    "print(best_1_4.score(X_valid_lg, y_valid_lg))"
   ]
  },
  {
   "cell_type": "markdown",
   "metadata": {},
   "source": [
    "&uarr; The same Logistic Regression performed better comparing with 1.2 Continuous features and 1.3 Synthetic Features.  "
   ]
  },
  {
   "cell_type": "code",
   "execution_count": 56,
   "metadata": {},
   "outputs": [
    {
     "data": {
      "image/png": "[encoded data removed]",
      "text/plain": [
       "<Figure size 432x288 with 1 Axes>"
      ]
     },
     "metadata": {
      "needs_background": "light"
     },
     "output_type": "display_data"
    }
   ],
   "source": [
    "importances = pd.DataFrame(data={\n",
    "    'Attribute': X_train_lg.columns,\n",
    "    'Importance': abs(best_1_4.best_estimator_.named_steps['logisticregression'].coef_[0])\n",
    "})\n",
    "importances = importances.sort_values(by='Importance')\n",
    "plt.bar(x=importances['Attribute'], height=importances['Importance'])\n",
    "plt.title('Feature importances obtained from coefficients', size=20)\n",
    "plt.xticks(rotation='vertical')\n",
    "plt.show()"
   ]
  },
  {
   "cell_type": "code",
   "execution_count": 57,
   "metadata": {},
   "outputs": [
    {
     "data": {
      "image/png": "[encoded data removed]",
      "text/plain": [
       "<Figure size 432x288 with 1 Axes>"
      ]
     },
     "metadata": {
      "needs_background": "light"
     },
     "output_type": "display_data"
    }
   ],
   "source": [
    "plot_roc_curve(best_1_4.best_estimator_.named_steps['logisticregression'], X_valid_lg, y_valid_lg)\n",
    "plt.title(\"LR AUROC\")\n",
    "plt.show()"
   ]
  },
  {
   "cell_type": "markdown",
   "metadata": {},
   "source": [
    "&uarr; Unlickily, the AUROC is not good enough.  \n",
    "**But we learnt something from the example.**   \n",
    "**We can use the top important features from those and build an NN &darr;**"
   ]
  },
  {
   "cell_type": "code",
   "execution_count": 58,
   "metadata": {},
   "outputs": [
    {
     "name": "stdout",
     "output_type": "stream",
     "text": [
      "0.99655\n",
      "0.999570363275638\n"
     ]
    }
   ],
   "source": [
    "# code referrence:\n",
    "# https://scikit-learn.org/stable/modules/neural_networks_supervised.html\n",
    "from sklearn.neural_network import MLPClassifier\n",
    "chosen_features = ['total_rec_int', 'total_pymnt', 'total_pymnt_inv', \n",
    "                   'collection_recovery_fee', 'out_prncp_inv', 'loan_amnt']\n",
    "clf = MLPClassifier(solver='sgd', alpha=1e-3, activation='relu',\n",
    "                    hidden_layer_sizes=(16, 128, 8), random_state=1)\n",
    "\n",
    "pipe = make_pipeline(StandardScaler(), clf)\n",
    "pipe.fit(X_train_lg[chosen_features], y_train_lg)\n",
    "print(pipe.score(X_train_lg[chosen_features], y_train_lg))\n",
    "print(pipe.score(X_valid_lg[chosen_features], y_valid_lg))"
   ]
  },
  {
   "cell_type": "code",
   "execution_count": 59,
   "metadata": {},
   "outputs": [
    {
     "data": {
      "image/png": "[encoded data removed]",
      "text/plain": [
       "<Figure size 432x288 with 1 Axes>"
      ]
     },
     "metadata": {
      "needs_background": "light"
     },
     "output_type": "display_data"
    }
   ],
   "source": [
    "plot_roc_curve(pipe.named_steps['mlpclassifier'], X_valid_lg[chosen_features], y_valid_lg)\n",
    "plt.title(\"MLP AUROC\")\n",
    "plt.show()"
   ]
  },
  {
   "cell_type": "markdown",
   "metadata": {},
   "source": [
    "MLP performs better thatn LR on the data sets, and the AUROC is also better.   \n",
    "Good."
   ]
  },
  {
   "cell_type": "markdown",
   "metadata": {},
   "source": [
    "# More thoughts:\n",
    "* We can use employment_title and employement_length (time) and group them by:\n",
    " * Level\n",
    " * Industry\n",
    "* Late fee: total_rec_late_fee\n",
    "* PCA\n",
    "* TBA"
   ]
  },
  {
   "cell_type": "markdown",
   "metadata": {},
   "source": [
    "# Summary\n",
    "Due to the limit of time and intension of job hunting, I will stop modeling and data exploring. Now let me give you a brief report below to summarize my findings and results."
   ]
  },
  {
   "cell_type": "markdown",
   "metadata": {},
   "source": [
    "* We scoepd the requirements: predict loan_status on the test set by giving proba of loan_status=1.\n",
    "* We explored the training data and found the data is imbalanced in terms of loan_status.\n",
    "* We splitted raw data into training and validation data set.\n",
    "* We downsampled the training data to balance loan_status=1 and loan_status=0. We didn't downsample validation data (actually I downsampled validation data, but I never used it) because we want it to follow/simulate the distribution of test dataset.\n",
    "* We brainstormed what features to choose using some intuitive definition, and then implemented RF, LR, SVM. We validated the model using CV and accuracy, then we plotted AUROC graph and tree graph. We found the definition based model is actually working quite well.\n",
    "* We tried to choose other features and compare with definition based model.\n",
    "* We plotted the annual_income VS loan_status graph and annual_income VS loan_stats+state to see if the income has anything to do with the loan_status.\n",
    "* We built LR and RF model on feature group 1, and plotted the feature importance graph.\n",
    "* Based on that, we tried to build our new feature, sub_grade_score, and it has very high importance in LR!\n",
    "* We tried to use MLP, but the validation score is 92%, which is the imbalance rate, meaning MLP is not working well.\n",
    "* We decided to add more continuous features on an LR model. The LR shows high score in validation set, but not good in AUROC curve. Then we plotted the feature importance graph and found top important features.\n",
    "* We implemented MLP again using the top important features that we found just now, and the performance is great, as well as the AUROC score!\n",
    "* SVM performs worse and slowlier than LR, RF and MLP in this specific task.\n",
    "* I reran the cells sometimes so the scores might not be exactly the same with what I reported.\n",
    "\n",
    "**So, in short, I got an LR model with AUROC at 0.98, and an MLP model with AUROC at 0.84.**  \n",
    "**As an output, the predictions will be generated using the LR model.**"
   ]
  },
  {
   "cell_type": "code",
   "execution_count": 60,
   "metadata": {},
   "outputs": [],
   "source": [
    "ser1 = test_df[['next_pymnt_d','total_pymnt', 'loan_amnt','loan_status']].copy()\n",
    "ser1['has_next_pymnt_d'] = ser1['next_pymnt_d'].notna()\n",
    "ser1['is_paid_off'] = (ser1['total_pymnt'] >= ser1['loan_amnt']) & (ser1['next_pymnt_d'].isna())\n",
    "ser1['is_current'] = (ser1['total_pymnt'] < ser1['loan_amnt']) & (ser1['next_pymnt_d'].notna())\n",
    "\n",
    "X_test = ser1[['has_next_pymnt_d', 'is_paid_off', 'is_current']]\n",
    "y_test = ser1['loan_status']"
   ]
  },
  {
   "cell_type": "code",
   "execution_count": 61,
   "metadata": {},
   "outputs": [
    {
     "data": {
      "text/plain": [
       "(211627, 2)"
      ]
     },
     "execution_count": 61,
     "metadata": {},
     "output_type": "execute_result"
    }
   ],
   "source": [
    "res = pd.DataFrame(log_reg.predict_proba(X_test))\n",
    "res.shape"
   ]
  },
  {
   "cell_type": "code",
   "execution_count": 62,
   "metadata": {},
   "outputs": [
    {
     "data": {
      "text/html": [
       "<div>\n",
       "<style scoped>\n",
       "    .dataframe tbody tr th:only-of-type {\n",
       "        vertical-align: middle;\n",
       "    }\n",
       "\n",
       "    .dataframe tbody tr th {\n",
       "        vertical-align: top;\n",
       "    }\n",
       "\n",
       "    .dataframe thead th {\n",
       "        text-align: right;\n",
       "    }\n",
       "</style>\n",
       "<table border=\"1\" class=\"dataframe\">\n",
       "  <thead>\n",
       "    <tr style=\"text-align: right;\">\n",
       "      <th></th>\n",
       "      <th>index</th>\n",
       "      <th>prediction_score</th>\n",
       "    </tr>\n",
       "  </thead>\n",
       "  <tbody>\n",
       "    <tr>\n",
       "      <th>0</th>\n",
       "      <td>0</td>\n",
       "      <td>0.109296</td>\n",
       "    </tr>\n",
       "    <tr>\n",
       "      <th>1</th>\n",
       "      <td>1</td>\n",
       "      <td>0.109296</td>\n",
       "    </tr>\n",
       "    <tr>\n",
       "      <th>2</th>\n",
       "      <td>2</td>\n",
       "      <td>0.000698</td>\n",
       "    </tr>\n",
       "    <tr>\n",
       "      <th>3</th>\n",
       "      <td>3</td>\n",
       "      <td>0.000698</td>\n",
       "    </tr>\n",
       "    <tr>\n",
       "      <th>4</th>\n",
       "      <td>4</td>\n",
       "      <td>0.000698</td>\n",
       "    </tr>\n",
       "  </tbody>\n",
       "</table>\n",
       "</div>"
      ],
      "text/plain": [
       "   index  prediction_score\n",
       "0      0          0.109296\n",
       "1      1          0.109296\n",
       "2      2          0.000698\n",
       "3      3          0.000698\n",
       "4      4          0.000698"
      ]
     },
     "execution_count": 62,
     "metadata": {},
     "output_type": "execute_result"
    }
   ],
   "source": [
    "output = res.rename(columns={1: 'prediction_score'}).loc[:, ['prediction_score']].reset_index()\n",
    "output.head()"
   ]
  },
  {
   "cell_type": "code",
   "execution_count": 210,
   "metadata": {},
   "outputs": [],
   "source": [
    "# output.to_csv(\"predictions_haibo.csv\", index=False, header=True)"
   ]
  },
  {
   "cell_type": "code",
   "execution_count": null,
   "metadata": {},
   "outputs": [],
   "source": []
  }
 ],
 "metadata": {
  "kernelspec": {
   "display_name": "Python 3",
   "language": "python",
   "name": "python3"
  },
  "language_info": {
   "codemirror_mode": {
    "name": "ipython",
    "version": 3
   },
   "file_extension": ".py",
   "mimetype": "text/x-python",
   "name": "python",
   "nbconvert_exporter": "python",
   "pygments_lexer": "ipython3",
   "version": "3.7.3"
  }
 },
 "nbformat": 4,
 "nbformat_minor": 2
}
