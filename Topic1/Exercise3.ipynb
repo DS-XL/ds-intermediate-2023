{
 "cells": [
  {
   "cell_type": "markdown",
   "id": "b9ccb7dc",
   "metadata": {},
   "source": [
    "\n",
    "### Exercise 3\n",
    "A rental car company claims the average time to rent a car on its website is 60 seconds with a standard deviation of 30 seconds. A random sample of 36 customers attempted to rent a car on the website. \n",
    "\n",
    "1. If the average time to rent was 65 seconds. Is this enough evidence to contradict the company's claim at a 5% confidence level? What's the power?\n",
    "\n",
    "2. If the analytics team believe the previous claim is incorrect and the average time to rent is 67 seconds, what is the sample size needed to design a sufficient test with 85% of power to test this new claim?\n"
   ]
  },
  {
   "cell_type": "code",
   "execution_count": 13,
   "id": "8cdba2c1",
   "metadata": {},
   "outputs": [
    {
     "data": {
      "text/plain": [
       "0.7405364071452198"
      ]
     },
     "execution_count": 13,
     "metadata": {},
     "output_type": "execute_result"
    }
   ],
   "source": [
    "#1. If the average time to rent was 65 seconds. Is this enough evidence to contradict the company's claim at a 5% confidence level? What's the power?\n",
    "import numpy as np\n",
    "from scipy.stats import norm\n",
    "import scipy.stats as st\n",
    "import numpy as np\n",
    "z=(65-60)/(30/np.sqrt(36))\n",
    "norm.cdf(z, loc=0, scale=1)\n",
    "\n",
    "#Calculate Power \n",
    "#Beta level: the probability of failing to reject the null hypothesis when it actually should be rejected (if real mean is 65) \n",
    "#Power: the probability of reject the null hypothesis when it actually should be rejected (if real mean is 65)\n",
    "\n",
    "#Calculating the required sample mean at 95% cutoff for null hypothesis \n",
    "x_bar=1.645*(30/np.sqrt(36))+60\n",
    "x_bar \n",
    "\n",
    "#Beta\n",
    "z2=(68.225-65)/(30/np.sqrt(36))\n",
    "beta=1-norm.cdf(z2, loc=0, scale=1)\n",
    "\n",
    "#Power\n",
    "power=1-beta\n",
    "power\n"
   ]
  },
  {
   "cell_type": "markdown",
   "id": "3075ad2a",
   "metadata": {},
   "source": [
    "The average time 65 second is not enough evidence to contradict the company's claim at a 5% confidence level. The power is 0.741. "
   ]
  },
  {
   "cell_type": "code",
   "execution_count": 17,
   "id": "e3113cbb",
   "metadata": {},
   "outputs": [
    {
     "data": {
      "text/plain": [
       "-1.0364333894937898"
      ]
     },
     "execution_count": 17,
     "metadata": {},
     "output_type": "execute_result"
    }
   ],
   "source": [
    "# Importing the library\n",
    "import scipy.stats\n",
    "  \n",
    "# Determine the z-critical value\n",
    "scipy.stats.norm.ppf(0.15)"
   ]
  },
  {
   "cell_type": "markdown",
   "id": "882a95f1",
   "metadata": {},
   "source": [
    "#2. If the analytics team believe the previous claim is incorrect and the average time to rent is 67 seconds, what is the sample size needed to design a sufficient test with 85% of power to test this new claim?\n",
    "\n",
    "Need to solve the following system of equations\n",
    "Calculate the cutoff value for sample mean at the rejection region under null hypothesis.\n",
    "\n",
    "**x_bar=60+1.645*30/np.sqrt(n)**\n",
    "\n",
    "The power (The probability of reject the null) when it should be rejected is 85%, and the beta\n",
    "is 15%. \n",
    "**(x_bar-67)/(30/np.sqrt(n))=-1.037**\n",
    "\n",
    "The approximate sample size is n=132. \n",
    "\n",
    "\n",
    "\n"
   ]
  },
  {
   "cell_type": "code",
   "execution_count": null,
   "id": "c277bed8",
   "metadata": {},
   "outputs": [],
   "source": []
  }
 ],
 "metadata": {
  "kernelspec": {
   "display_name": "Python 3 (ipykernel)",
   "language": "python",
   "name": "python3"
  },
  "language_info": {
   "codemirror_mode": {
    "name": "ipython",
    "version": 3
   },
   "file_extension": ".py",
   "mimetype": "text/x-python",
   "name": "python",
   "nbconvert_exporter": "python",
   "pygments_lexer": "ipython3",
   "version": "3.9.15"
  }
 },
 "nbformat": 4,
 "nbformat_minor": 5
}
